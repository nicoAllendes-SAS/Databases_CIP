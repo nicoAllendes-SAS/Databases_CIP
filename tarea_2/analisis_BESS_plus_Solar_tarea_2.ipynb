{
 "cells": [
  {
   "cell_type": "code",
   "execution_count": 32,
   "id": "3cacc18a",
   "metadata": {},
   "outputs": [
    {
     "data": {
      "text/html": [
       "        <script type=\"text/javascript\">\n",
       "        window.PlotlyConfig = {MathJaxConfig: 'local'};\n",
       "        if (window.MathJax) {MathJax.Hub.Config({SVG: {font: \"STIX-Web\"}});}\n",
       "        if (typeof require !== 'undefined') {\n",
       "        require.undef(\"plotly\");\n",
       "        requirejs.config({\n",
       "            paths: {\n",
       "                'plotly': ['https://cdn.plot.ly/plotly-2.11.1.min']\n",
       "            }\n",
       "        });\n",
       "        require(['plotly'], function(Plotly) {\n",
       "            window._Plotly = Plotly;\n",
       "        });\n",
       "        }\n",
       "        </script>\n",
       "        "
      ]
     },
     "metadata": {},
     "output_type": "display_data"
    }
   ],
   "source": [
    "#Carga de librerías#\n",
    "import pandas as pd\n",
    "import numpy as np\n",
    "import geopandas as gdp\n",
    "from shapely.geometry import Point\n",
    "%matplotlib inline\n",
    "import matplotlib.pyplot as plt\n",
    "import folium\n",
    "from folium import plugins\n",
    "import seaborn as sns\n",
    "# otras librerias\n",
    "from datetime import datetime\n",
    "import matplotlib.pyplot as matplt\n",
    "import cufflinks as cf\n",
    "from IPython.display import display,HTML\n",
    "cf.set_config_file(sharing='public',theme='white',offline=True)"
   ]
  },
  {
   "cell_type": "code",
   "execution_count": 33,
   "id": "a57d945c",
   "metadata": {
    "scrolled": true
   },
   "outputs": [
    {
     "name": "stdout",
     "output_type": "stream",
     "text": [
      "Columnas: \n",
      " Index(['Index', 'Id', 'Proyecto', 'NUP', 'Empresa Solicitante', 'Tipo',\n",
      "       'Estado Solicitud', 'Fecha Recepción', 'Capacidad [MW]',\n",
      "       'Tipo Proyecto', 'Sólo BESS', 'BESS+Solar', 'BESS+Eólico',\n",
      "       'Capacidad BESS (MW)', 'Cap. BESS + Solar (MWh)',\n",
      "       'Cap. BESS+ Eolico (MWh)', 'Número de Hrs almacenamiento',\n",
      "       'Fecha Estimada Conexión', 'Punto de Conexión', 'Nivel de tension',\n",
      "       'Barra', 'Paño', 'Región', 'Comuna', 'Segmento de Transmisión',\n",
      "       'Fecha emisión informe definitivo',\n",
      "       'Plazo obtención declaración en const',\n",
      "       'Prórroga plazo obtención declaración en const.'],\n",
      "      dtype='object')\n",
      "\n",
      "\n",
      "Empresas con sistemas BESS + Solar (Híbrido):\n",
      " ['Membrillo SpA' 'Parque Fotovoltaico Hualo SpA'\n",
      " 'Aes Chile Inversiones Renovables SpA' 'Plantar Solar SPV I SpA'\n",
      " 'Copiapó Solar S.A.' 'Cristaria Solar SpA'\n",
      " 'Gestión y Asesoria de Energía SpA.' 'Las Mellizas Generación SpA.'\n",
      " 'Grenergy Renovables Pacific Limitada' 'RWE Renewables Chile SpA'\n",
      " 'Solar Uno SpA' 'Bellavista Solar SpA.' 'AustrianSolar Chile Tres SpA'\n",
      " 'AustrianSolar Chile Dos SpA' 'Longotoma Solar SpA.' 'Orion Power SpA.'\n",
      " 'Eléctrica Las Frutillas SpA.' 'AR ENERGIA CHILE SPA'\n",
      " 'Enel Green Power del Sur ' 'Trivento SpA' 'EBCO Energía S.A.']\n"
     ]
    },
    {
     "data": {
      "text/plain": [
       "Index                                               int64\n",
       "Id                                                  int64\n",
       "Proyecto                                           object\n",
       "NUP                                               float64\n",
       "Empresa Solicitante                                object\n",
       "Tipo                                               object\n",
       "Estado Solicitud                                   object\n",
       "Fecha Recepción                                    object\n",
       "Capacidad [MW]                                    float64\n",
       "Tipo Proyecto                                      object\n",
       "Sólo BESS                                          object\n",
       "BESS+Solar                                         object\n",
       "BESS+Eólico                                        object\n",
       "Capacidad BESS (MW)                               float64\n",
       "Cap. BESS + Solar (MWh)                            object\n",
       "Cap. BESS+ Eolico (MWh)                           float64\n",
       "Número de Hrs almacenamiento                       object\n",
       "Fecha Estimada Conexión                            object\n",
       "Punto de Conexión                                  object\n",
       "Nivel de tension                                    int64\n",
       "Barra                                              object\n",
       "Paño                                               object\n",
       "Región                                             object\n",
       "Comuna                                             object\n",
       "Segmento de Transmisión                            object\n",
       "Fecha emisión informe definitivo                   object\n",
       "Plazo obtención declaración en const               object\n",
       "Prórroga plazo obtención declaración en const.    float64\n",
       "dtype: object"
      ]
     },
     "execution_count": 33,
     "metadata": {},
     "output_type": "execute_result"
    }
   ],
   "source": [
    "#Lee el archivo...\n",
    "data_BESS_and_solar = pd.read_csv(\"Grid_and_zero_csv/BESS_and_solar.csv\",sep = \";\")# error_bad_lines=False)\n",
    "\n",
    "#visualización de las columnas:\n",
    "print(\"Columnas: \\n\",data_BESS_and_solar.columns)\n",
    "\n",
    "print(\"\\n\")\n",
    "#veamos las empresas:\n",
    "print(\"Empresas con sistemas BESS + Solar (Híbrido):\\n\",data_BESS_and_solar['Empresa Solicitante'].unique())\n",
    "\n",
    "\n",
    "data_BESS_and_solar.dtypes"
   ]
  },
  {
   "cell_type": "code",
   "execution_count": 212,
   "id": "1dbd5cd7",
   "metadata": {},
   "outputs": [],
   "source": [
    "data_BESS_and_solar.columns\n",
    "\n",
    "data_BESS_and_solar_filtrada = data_BESS_and_solar[[\"Index\",\"Proyecto\",\"Empresa Solicitante\",\"Tipo\",\"Estado Solicitud\",\n",
    "                               \"Fecha Recepción\",\"Capacidad [MW]\",\n",
    "                                'Capacidad BESS (MW)', 'Cap. BESS + Solar (MWh)',\n",
    "                                'Número de Hrs almacenamiento','Fecha Estimada Conexión',\n",
    "                                'Punto de Conexión', 'Nivel de tension',\n",
    "       'Barra', 'Paño', 'Región', 'Comuna', 'Segmento de Transmisión']]\n",
    "\n",
    "data_BESS_and_solar_filtrada.head(15)\n",
    "#guarda_df_data_BESS_and_solar_filtrada = data_BESS_and_solar_filtrada.to_csv(\"Grid_and_zero_csv/output_data_BESS_and_solar_filtrada.csv\")\n",
    "#guarda_df_data_BESS_and_solar_filtrada"
   ]
  },
  {
   "cell_type": "code",
   "execution_count": 35,
   "id": "87cc4fd3",
   "metadata": {},
   "outputs": [],
   "source": [
    "#Datos a analizar:\n",
    "#numero de proyectos que posee cada empresa solicitantes.\n",
    "#capacidad instalada de almacenamiento BESS x Región.\n",
    "#Como se distribuyen los proyectos en las regiones.\n",
    "# Número de horas de las baterias de almacenamiento!."
   ]
  },
  {
   "cell_type": "markdown",
   "id": "6d13555a",
   "metadata": {},
   "source": [
    "# 1. Número de proyectos que posee cada empresa solicitante y capacidad de almacenamiento BESS (MW)"
   ]
  },
  {
   "cell_type": "code",
   "execution_count": 36,
   "id": "52d8a2dc",
   "metadata": {},
   "outputs": [
    {
     "name": "stdout",
     "output_type": "stream",
     "text": [
      "Total de proyectos BESS+Solar: 29\n"
     ]
    },
    {
     "data": {
      "text/plain": [
       "Empresa Solicitante\n",
       "AR ENERGIA CHILE SPA                    1\n",
       "Aes Chile Inversiones Renovables SpA    3\n",
       "AustrianSolar Chile Dos SpA             1\n",
       "AustrianSolar Chile Tres SpA            1\n",
       "Bellavista Solar SpA.                   1\n",
       "Copiapó Solar S.A.                      1\n",
       "Cristaria Solar SpA                     1\n",
       "EBCO Energía S.A.                       1\n",
       "Eléctrica Las Frutillas SpA.            1\n",
       "Enel Green Power del Sur                6\n",
       "Gestión y Asesoria de Energía SpA.      1\n",
       "Grenergy Renovables Pacific Limitada    1\n",
       "Las Mellizas Generación SpA.            1\n",
       "Longotoma Solar SpA.                    1\n",
       "Membrillo SpA                           2\n",
       "Orion Power SpA.                        1\n",
       "Parque Fotovoltaico Hualo SpA           1\n",
       "Plantar Solar SPV I SpA                 1\n",
       "RWE Renewables Chile SpA                1\n",
       "Solar Uno SpA                           1\n",
       "Trivento SpA                            1\n",
       "Name: Proyecto, dtype: int64"
      ]
     },
     "execution_count": 36,
     "metadata": {},
     "output_type": "execute_result"
    }
   ],
   "source": [
    "proyectos_por_empresa = data_BESS_and_solar_filtrada.groupby([\"Empresa Solicitante\"])[\"Proyecto\"].count()\n",
    "print(\"Total de proyectos BESS+Solar:\",proyectos_por_empresa.sum())\n",
    "proyectos_por_empresa\n",
    "\n",
    "#2/29*100"
   ]
  },
  {
   "cell_type": "markdown",
   "id": "54d4562b",
   "metadata": {},
   "source": [
    "Empresa con mayor número de BESS+Solar:\n",
    "1. Enel Green Power del Sur = 6 PROYECTOS BESS + Solar (20%)\n",
    "2. Aes Chile Inversiones Renovables SpA = 3 PROYECTOS BESS + Solar (10.3%)\n",
    "3. Membrillo SpA = 2 PROYECTOS BESS + Solar. (6.9%)\n"
   ]
  },
  {
   "cell_type": "code",
   "execution_count": 37,
   "id": "cefe72d6",
   "metadata": {},
   "outputs": [],
   "source": [
    "#Capacidad de almacenamiento por empresa:"
   ]
  },
  {
   "cell_type": "code",
   "execution_count": 38,
   "id": "ec278ae8",
   "metadata": {
    "scrolled": true
   },
   "outputs": [
    {
     "data": {
      "text/plain": [
       "Empresa Solicitante\n",
       "AR ENERGIA CHILE SPA                      90.0\n",
       "Aes Chile Inversiones Renovables SpA    1420.0\n",
       "AustrianSolar Chile Dos SpA               80.0\n",
       "AustrianSolar Chile Tres SpA             100.8\n",
       "Bellavista Solar SpA.                    100.0\n",
       "Copiapó Solar S.A.                       110.0\n",
       "Cristaria Solar SpA                      120.0\n",
       "EBCO Energía S.A.                        200.0\n",
       "Eléctrica Las Frutillas SpA.             110.0\n",
       "Enel Green Power del Sur                1830.0\n",
       "Gestión y Asesoria de Energía SpA.       120.0\n",
       "Grenergy Renovables Pacific Limitada     150.0\n",
       "Las Mellizas Generación SpA.             140.0\n",
       "Longotoma Solar SpA.                     336.0\n",
       "Membrillo SpA                            215.0\n",
       "Orion Power SpA.                         110.0\n",
       "Parque Fotovoltaico Hualo SpA            240.0\n",
       "Plantar Solar SPV I SpA                    9.0\n",
       "RWE Renewables Chile SpA                 136.4\n",
       "Solar Uno SpA                            250.0\n",
       "Trivento SpA                             410.0\n",
       "Name: Capacidad [MW], dtype: float64"
      ]
     },
     "execution_count": 38,
     "metadata": {},
     "output_type": "execute_result"
    }
   ],
   "source": [
    "capacidad_almacenamiento_por_empresa = data_BESS_and_solar_filtrada.groupby([\"Empresa Solicitante\"])[\"Capacidad [MW]\"].sum()\n",
    "capacidad_almacenamiento_por_empresa"
   ]
  },
  {
   "cell_type": "code",
   "execution_count": 39,
   "id": "11a39ec9",
   "metadata": {},
   "outputs": [],
   "source": [
    "#Obs: Capacidad instalada de plantas híbridas!, es decir, capacidad MW \n",
    "#considera plantas BESS+ Planta Solar. \n",
    "#Veamos cuanto es la cap. de sólo las BESS de estas plantas híbridas."
   ]
  },
  {
   "cell_type": "code",
   "execution_count": 40,
   "id": "6a1a6f68",
   "metadata": {
    "scrolled": true
   },
   "outputs": [
    {
     "name": "stdout",
     "output_type": "stream",
     "text": [
      "Capacidad BESS que se incorpora de las plantas híbridas (BESS+Solar): 536.0\n"
     ]
    },
    {
     "data": {
      "text/plain": [
       "Empresa Solicitante\n",
       "AR ENERGIA CHILE SPA                      0.0\n",
       "Aes Chile Inversiones Renovables SpA      0.0\n",
       "AustrianSolar Chile Dos SpA               0.0\n",
       "AustrianSolar Chile Tres SpA              0.0\n",
       "Bellavista Solar SpA.                     0.0\n",
       "Copiapó Solar S.A.                        0.0\n",
       "Cristaria Solar SpA                       0.0\n",
       "EBCO Energía S.A.                         0.0\n",
       "Eléctrica Las Frutillas SpA.              0.0\n",
       "Enel Green Power del Sur                400.0\n",
       "Gestión y Asesoria de Energía SpA.        0.0\n",
       "Grenergy Renovables Pacific Limitada      0.0\n",
       "Las Mellizas Generación SpA.              0.0\n",
       "Longotoma Solar SpA.                      0.0\n",
       "Membrillo SpA                            91.0\n",
       "Orion Power SpA.                          0.0\n",
       "Parque Fotovoltaico Hualo SpA             0.0\n",
       "Plantar Solar SPV I SpA                   0.0\n",
       "RWE Renewables Chile SpA                 45.0\n",
       "Solar Uno SpA                             0.0\n",
       "Trivento SpA                              0.0\n",
       "Name: Capacidad BESS (MW), dtype: float64"
      ]
     },
     "execution_count": 40,
     "metadata": {},
     "output_type": "execute_result"
    }
   ],
   "source": [
    "#Capacidad de almacenamiento por empresa (Sólo la capacidad instalada de BESS)\n",
    "capacidad_almacenamiento_por_empresa_2 = data_BESS_and_solar_filtrada.groupby([\"Empresa Solicitante\"])[\"Capacidad BESS (MW)\"].sum()\n",
    "print(\"Capacidad BESS que se incorpora de las plantas híbridas (BESS+Solar):\",capacidad_almacenamiento_por_empresa_2.sum())\n",
    "capacidad_almacenamiento_por_empresa_2"
   ]
  },
  {
   "cell_type": "code",
   "execution_count": null,
   "id": "64fec1f5",
   "metadata": {},
   "outputs": [],
   "source": [
    " "
   ]
  },
  {
   "cell_type": "code",
   "execution_count": null,
   "id": "85fa37e3",
   "metadata": {},
   "outputs": [],
   "source": [
    "#Obs: No todas las plantas Híbridas (BESS+Solar) informan la capacidad de BESS/Cap. Solar, por lo \n",
    "#que el análisis es representativo de sólo las plantas que informan sus capacidades."
   ]
  },
  {
   "cell_type": "code",
   "execution_count": 49,
   "id": "7ee668cf",
   "metadata": {},
   "outputs": [
    {
     "name": "stdout",
     "output_type": "stream",
     "text": [
      "Número de proyectos que informan su cap. BESS+ Solar: 6\n",
      "Total de proyectos BESS+Solar: 29\n",
      "Porcentaje que informa: 20.689655172413794 %\n"
     ]
    }
   ],
   "source": [
    "data_BESS_and_solar_filtrada_cap_informada = data_BESS_and_solar_filtrada.loc[data_BESS_and_solar_filtrada[\"Capacidad BESS (MW)\"]> 0 ]\n",
    "#Reset index:\n",
    "data_BESS_and_solar_filtrada_cap_informada = data_BESS_and_solar_filtrada_cap_informada.reset_index(drop=True)\n",
    "\n",
    "print(\"Número de proyectos que informan su cap. BESS+ Solar:\",data_BESS_and_solar_filtrada_cap_informada['Proyecto'].count())\n",
    "print(\"Total de proyectos BESS+Solar:\",proyectos_por_empresa.sum())\n",
    "print(\"Porcentaje que informa:\",\n",
    "      (data_BESS_and_solar_filtrada_cap_informada['Proyecto'].count()/proyectos_por_empresa.sum())*100,\"%\")"
   ]
  },
  {
   "cell_type": "code",
   "execution_count": 50,
   "id": "6f3ed20f",
   "metadata": {},
   "outputs": [
    {
     "name": "stdout",
     "output_type": "stream",
     "text": [
      "capacidad instalada total: 6277.2\n"
     ]
    },
    {
     "data": {
      "text/html": [
       "<div>\n",
       "<style scoped>\n",
       "    .dataframe tbody tr th:only-of-type {\n",
       "        vertical-align: middle;\n",
       "    }\n",
       "\n",
       "    .dataframe tbody tr th {\n",
       "        vertical-align: top;\n",
       "    }\n",
       "\n",
       "    .dataframe thead th {\n",
       "        text-align: right;\n",
       "    }\n",
       "</style>\n",
       "<table border=\"1\" class=\"dataframe\">\n",
       "  <thead>\n",
       "    <tr style=\"text-align: right;\">\n",
       "      <th></th>\n",
       "      <th>Número de proyectos BESS</th>\n",
       "      <th>Capacidad [MW]</th>\n",
       "    </tr>\n",
       "    <tr>\n",
       "      <th>Empresa Solicitante</th>\n",
       "      <th></th>\n",
       "      <th></th>\n",
       "    </tr>\n",
       "  </thead>\n",
       "  <tbody>\n",
       "    <tr>\n",
       "      <th>Enel Green Power del Sur</th>\n",
       "      <td>6</td>\n",
       "      <td>1830.0</td>\n",
       "    </tr>\n",
       "    <tr>\n",
       "      <th>Aes Chile Inversiones Renovables SpA</th>\n",
       "      <td>3</td>\n",
       "      <td>1420.0</td>\n",
       "    </tr>\n",
       "    <tr>\n",
       "      <th>Trivento SpA</th>\n",
       "      <td>1</td>\n",
       "      <td>410.0</td>\n",
       "    </tr>\n",
       "    <tr>\n",
       "      <th>Longotoma Solar SpA.</th>\n",
       "      <td>1</td>\n",
       "      <td>336.0</td>\n",
       "    </tr>\n",
       "    <tr>\n",
       "      <th>Solar Uno SpA</th>\n",
       "      <td>1</td>\n",
       "      <td>250.0</td>\n",
       "    </tr>\n",
       "    <tr>\n",
       "      <th>Parque Fotovoltaico Hualo SpA</th>\n",
       "      <td>1</td>\n",
       "      <td>240.0</td>\n",
       "    </tr>\n",
       "    <tr>\n",
       "      <th>Membrillo SpA</th>\n",
       "      <td>2</td>\n",
       "      <td>215.0</td>\n",
       "    </tr>\n",
       "    <tr>\n",
       "      <th>EBCO Energía S.A.</th>\n",
       "      <td>1</td>\n",
       "      <td>200.0</td>\n",
       "    </tr>\n",
       "    <tr>\n",
       "      <th>Grenergy Renovables Pacific Limitada</th>\n",
       "      <td>1</td>\n",
       "      <td>150.0</td>\n",
       "    </tr>\n",
       "    <tr>\n",
       "      <th>Las Mellizas Generación SpA.</th>\n",
       "      <td>1</td>\n",
       "      <td>140.0</td>\n",
       "    </tr>\n",
       "    <tr>\n",
       "      <th>RWE Renewables Chile SpA</th>\n",
       "      <td>1</td>\n",
       "      <td>136.4</td>\n",
       "    </tr>\n",
       "    <tr>\n",
       "      <th>Gestión y Asesoria de Energía SpA.</th>\n",
       "      <td>1</td>\n",
       "      <td>120.0</td>\n",
       "    </tr>\n",
       "    <tr>\n",
       "      <th>Cristaria Solar SpA</th>\n",
       "      <td>1</td>\n",
       "      <td>120.0</td>\n",
       "    </tr>\n",
       "    <tr>\n",
       "      <th>Eléctrica Las Frutillas SpA.</th>\n",
       "      <td>1</td>\n",
       "      <td>110.0</td>\n",
       "    </tr>\n",
       "    <tr>\n",
       "      <th>Copiapó Solar S.A.</th>\n",
       "      <td>1</td>\n",
       "      <td>110.0</td>\n",
       "    </tr>\n",
       "    <tr>\n",
       "      <th>Orion Power SpA.</th>\n",
       "      <td>1</td>\n",
       "      <td>110.0</td>\n",
       "    </tr>\n",
       "    <tr>\n",
       "      <th>AustrianSolar Chile Tres SpA</th>\n",
       "      <td>1</td>\n",
       "      <td>100.8</td>\n",
       "    </tr>\n",
       "    <tr>\n",
       "      <th>Bellavista Solar SpA.</th>\n",
       "      <td>1</td>\n",
       "      <td>100.0</td>\n",
       "    </tr>\n",
       "    <tr>\n",
       "      <th>AR ENERGIA CHILE SPA</th>\n",
       "      <td>1</td>\n",
       "      <td>90.0</td>\n",
       "    </tr>\n",
       "    <tr>\n",
       "      <th>AustrianSolar Chile Dos SpA</th>\n",
       "      <td>1</td>\n",
       "      <td>80.0</td>\n",
       "    </tr>\n",
       "    <tr>\n",
       "      <th>Plantar Solar SPV I SpA</th>\n",
       "      <td>1</td>\n",
       "      <td>9.0</td>\n",
       "    </tr>\n",
       "  </tbody>\n",
       "</table>\n",
       "</div>"
      ],
      "text/plain": [
       "                                      Número de proyectos BESS  Capacidad [MW]\n",
       "Empresa Solicitante                                                           \n",
       "Enel Green Power del Sur                                     6          1830.0\n",
       "Aes Chile Inversiones Renovables SpA                         3          1420.0\n",
       "Trivento SpA                                                 1           410.0\n",
       "Longotoma Solar SpA.                                         1           336.0\n",
       "Solar Uno SpA                                                1           250.0\n",
       "Parque Fotovoltaico Hualo SpA                                1           240.0\n",
       "Membrillo SpA                                                2           215.0\n",
       "EBCO Energía S.A.                                            1           200.0\n",
       "Grenergy Renovables Pacific Limitada                         1           150.0\n",
       "Las Mellizas Generación SpA.                                 1           140.0\n",
       "RWE Renewables Chile SpA                                     1           136.4\n",
       "Gestión y Asesoria de Energía SpA.                           1           120.0\n",
       "Cristaria Solar SpA                                          1           120.0\n",
       "Eléctrica Las Frutillas SpA.                                 1           110.0\n",
       "Copiapó Solar S.A.                                           1           110.0\n",
       "Orion Power SpA.                                             1           110.0\n",
       "AustrianSolar Chile Tres SpA                                 1           100.8\n",
       "Bellavista Solar SpA.                                        1           100.0\n",
       "AR ENERGIA CHILE SPA                                         1            90.0\n",
       "AustrianSolar Chile Dos SpA                                  1            80.0\n",
       "Plantar Solar SPV I SpA                                      1             9.0"
      ]
     },
     "execution_count": 50,
     "metadata": {},
     "output_type": "execute_result"
    }
   ],
   "source": [
    "#Transforma los groupby en dataframes:\n",
    "#DF número de proyectos por empresa:\n",
    "df_numero_proyectos_por_empresa = pd.DataFrame(proyectos_por_empresa)\n",
    "\n",
    "#DF capacidad instalada almacenamiento por empresa:\n",
    "df_capacidad_almacenamiento_por_empresa = pd.DataFrame(capacidad_almacenamiento_por_empresa)\n",
    "\n",
    "#Merge de los datos:\n",
    "df_merge_datos_1 = pd.merge(df_numero_proyectos_por_empresa,\n",
    "                            df_capacidad_almacenamiento_por_empresa,\n",
    "                            left_on='Empresa Solicitante', right_on='Empresa Solicitante')\n",
    "\n",
    "\n",
    "df_merge_datos_1.rename(columns={\"Proyecto\": \"Número de proyectos BESS\"},inplace = True)\n",
    "\n",
    "#df_merge_datos_1['Capacidad [MW]'].sum()\n",
    "\n",
    "#mayor capacidad instalada: \n",
    "mayor_capacidad = df_merge_datos_1.sort_values('Capacidad [MW]',ascending=False)\n",
    "print(\"capacidad instalada total:\",mayor_capacidad[\"Capacidad [MW]\"].sum())\n",
    "\n",
    "mayor_capacidad\n",
    "\n"
   ]
  },
  {
   "cell_type": "code",
   "execution_count": null,
   "id": "920729a2",
   "metadata": {},
   "outputs": [],
   "source": [
    "#Observaciones:\n",
    "#Empresa con mayor número de BESS+Solar:\n",
    "\n",
    "#1.Enel Green Power del Sur\t= 6 PROYECTOS BESS + Solar\n",
    "#2.Aes Chile Inversiones Renovables SpA = 3 PROYECTOS BESS + Solar\n",
    "#3. Membrillo SpA = 2 PROYECTOS BESS\n",
    "\n",
    "#Total número de proyectos = 29.\n",
    "\n",
    "#Empresa con mayor capacidad instalada BESS +Solar (MW):\n",
    "#1.Enel Green Power del Sur = 1830 MW\n",
    "#2.Aes Chile Inversiones Renovables SpA = 1420 MW.\n",
    "#3.Trivento SpA = 410 MW."
   ]
  },
  {
   "cell_type": "code",
   "execution_count": null,
   "id": "fa70b76f",
   "metadata": {},
   "outputs": [],
   "source": []
  },
  {
   "cell_type": "code",
   "execution_count": null,
   "id": "5808fee6",
   "metadata": {},
   "outputs": [],
   "source": [
    "#Mismo análisis pero con los proyectos que si informan su cap. Bess+Solar."
   ]
  },
  {
   "cell_type": "code",
   "execution_count": 58,
   "id": "5a333a1d",
   "metadata": {},
   "outputs": [
    {
     "name": "stdout",
     "output_type": "stream",
     "text": [
      "Capacidad BESS que se incorpora de las plantas híbridas (BESS+Solar): 536.0\n",
      "Total de proyectos BESS+Solar Informados: 6\n"
     ]
    },
    {
     "data": {
      "text/plain": [
       "Empresa Solicitante\n",
       "Enel Green Power del Sur     3\n",
       "Membrillo SpA                2\n",
       "RWE Renewables Chile SpA     1\n",
       "Name: Proyecto, dtype: int64"
      ]
     },
     "execution_count": 58,
     "metadata": {},
     "output_type": "execute_result"
    }
   ],
   "source": [
    "#Capacidad de almacenamiento por empresa considerando sólo BESS y excluyendo Solar.\n",
    "data_BESS_and_solar_filtrada_cap_informada.head(1)\n",
    "#Capacidad de almacenamiento por empresa (Sólo la capacidad instalada de BESS)\n",
    "capacidad_almacenamiento_por_empresa_2 = data_BESS_and_solar_filtrada_cap_informada.groupby([\"Empresa Solicitante\"])[\"Capacidad BESS (MW)\"].sum()\n",
    "print(\"Capacidad BESS que se incorpora de las plantas híbridas (BESS+Solar):\",capacidad_almacenamiento_por_empresa_2.sum())\n",
    "capacidad_almacenamiento_por_empresa_2\n",
    "\n",
    "#Número de proyectos por empresa que informan.\n",
    "proyectos_por_empresa = data_BESS_and_solar_filtrada_cap_informada.groupby([\"Empresa Solicitante\"])[\"Proyecto\"].count()\n",
    "print(\"Total de proyectos BESS+Solar Informados:\",proyectos_por_empresa.sum())\n",
    "proyectos_por_empresa\n"
   ]
  },
  {
   "cell_type": "code",
   "execution_count": null,
   "id": "03aa8002",
   "metadata": {},
   "outputs": [],
   "source": []
  },
  {
   "cell_type": "code",
   "execution_count": 217,
   "id": "81496f3c",
   "metadata": {},
   "outputs": [
    {
     "name": "stdout",
     "output_type": "stream",
     "text": [
      "capacidad instalada total: 536.0\n"
     ]
    },
    {
     "data": {
      "text/html": [
       "<div>\n",
       "<style scoped>\n",
       "    .dataframe tbody tr th:only-of-type {\n",
       "        vertical-align: middle;\n",
       "    }\n",
       "\n",
       "    .dataframe tbody tr th {\n",
       "        vertical-align: top;\n",
       "    }\n",
       "\n",
       "    .dataframe thead th {\n",
       "        text-align: right;\n",
       "    }\n",
       "</style>\n",
       "<table border=\"1\" class=\"dataframe\">\n",
       "  <thead>\n",
       "    <tr style=\"text-align: right;\">\n",
       "      <th></th>\n",
       "      <th>Número de proyectos BESS + Solar</th>\n",
       "      <th>Capacidad BESS (MW)</th>\n",
       "    </tr>\n",
       "    <tr>\n",
       "      <th>Empresa Solicitante</th>\n",
       "      <th></th>\n",
       "      <th></th>\n",
       "    </tr>\n",
       "  </thead>\n",
       "  <tbody>\n",
       "    <tr>\n",
       "      <th>Enel Green Power del Sur</th>\n",
       "      <td>3</td>\n",
       "      <td>400.0</td>\n",
       "    </tr>\n",
       "    <tr>\n",
       "      <th>Membrillo SpA</th>\n",
       "      <td>2</td>\n",
       "      <td>91.0</td>\n",
       "    </tr>\n",
       "    <tr>\n",
       "      <th>RWE Renewables Chile SpA</th>\n",
       "      <td>1</td>\n",
       "      <td>45.0</td>\n",
       "    </tr>\n",
       "  </tbody>\n",
       "</table>\n",
       "</div>"
      ],
      "text/plain": [
       "                           Número de proyectos BESS + Solar  \\\n",
       "Empresa Solicitante                                           \n",
       "Enel Green Power del Sur                                  3   \n",
       "Membrillo SpA                                             2   \n",
       "RWE Renewables Chile SpA                                  1   \n",
       "\n",
       "                           Capacidad BESS (MW)  \n",
       "Empresa Solicitante                             \n",
       "Enel Green Power del Sur                 400.0  \n",
       "Membrillo SpA                             91.0  \n",
       "RWE Renewables Chile SpA                  45.0  "
      ]
     },
     "execution_count": 217,
     "metadata": {},
     "output_type": "execute_result"
    }
   ],
   "source": [
    "#Transforma los groupby en dataframes:\n",
    "#DF número de proyectos por empresa:\n",
    "df_numero_proyectos_por_empresa = pd.DataFrame(proyectos_por_empresa)\n",
    "\n",
    "#DF capacidad instalada almacenamiento por empresa:\n",
    "df_capacidad_almacenamiento_por_empresa = pd.DataFrame(capacidad_almacenamiento_por_empresa_2)\n",
    "\n",
    "#Merge de los datos:\n",
    "df_merge_datos_1 = pd.merge(df_numero_proyectos_por_empresa,\n",
    "                            df_capacidad_almacenamiento_por_empresa,\n",
    "                            left_on='Empresa Solicitante', right_on='Empresa Solicitante')\n",
    "\n",
    "\n",
    "df_merge_datos_1.rename(columns={\"Proyecto\": \"Número de proyectos BESS + Solar\"},inplace = True)\n",
    "\n",
    "#df_merge_datos_1['Capacidad [MW]'].sum()\n",
    "df_merge_datos_1\n",
    "#mayor capacidad instalada: \n",
    "mayor_capacidad = df_merge_datos_1.sort_values('Capacidad BESS (MW)',ascending=False)\n",
    "print(\"capacidad instalada total:\",mayor_capacidad[\"Capacidad BESS (MW)\"].sum())\n",
    "mayor_capacidad\n",
    "\n",
    "#guarda el df para posterior análisis:\n",
    "guarda_df_proyectos_capacidad_BESS_BESS_solar = mayor_capacidad.to_csv(\"Grid_and_zero_csv/output_df_proyectos_capacidad_BESS_BESS_solar.csv\")\n",
    "guarda_df_proyectos_capacidad_BESS_BESS_solar\n",
    "mayor_capacidad"
   ]
  },
  {
   "cell_type": "code",
   "execution_count": null,
   "id": "b4db2ac8",
   "metadata": {},
   "outputs": [],
   "source": [
    "#Observaciones:\n",
    "#Empresa con mayor número de BESS+Solar:\n",
    "\n",
    "#1.Enel Green Power del Sur = 3 PROYECTOS BESS+Solar\n",
    "#2.Membrillo SpA = 2 PROYECTOS BESS+Solar\n",
    "#3. RWE Renewables Chile SpA = 1 PROYECTOS BESS+Solar\n",
    "\n",
    "#Total número de proyectos = 6.\n",
    "\n",
    "#Empresa con mayor capacidad instalada BESS (MW):\n",
    "#1.Enel Green Power del Sur = 400 WM\n",
    "#2.Membrillo SpA = 91 MW\n",
    "#3. RWE Renewables Chile SpA = 45 MW"
   ]
  },
  {
   "cell_type": "markdown",
   "id": "55014534",
   "metadata": {},
   "source": [
    "## 2. Como se distribuyen los proyectos en las regiones."
   ]
  },
  {
   "cell_type": "code",
   "execution_count": 61,
   "id": "321fcfaa",
   "metadata": {
    "scrolled": true
   },
   "outputs": [
    {
     "data": {
      "text/plain": [
       "Región                                Comuna           Capacidad [MW]  Empresa Solicitante                 \n",
       "Antofagasta                           Antofagasta      205.0           Enel Green Power del Sur                1\n",
       "                                      Sierra Gorda     500.0           Enel Green Power del Sur                1\n",
       "Atacama                               Chañaral         80.0            AustrianSolar Chile Dos SpA             1\n",
       "                                      Copiapó          75.0            Enel Green Power del Sur                1\n",
       "                                                       100.8           AustrianSolar Chile Tres SpA            1\n",
       "                                                       410.0           Enel Green Power del Sur                1\n",
       "                                      Freirina         120.0           Cristaria Solar SpA                     1\n",
       "                                      Tierra Amarilla  110.0           Copiapó Solar S.A.                      1\n",
       "                                      Vallenar         150.0           Grenergy Renovables Pacific Limitada    1\n",
       "Coquimbo                              Andacollo        240.0           Parque Fotovoltaico Hualo SpA           1\n",
       "                                      Ovalle           410.0           Trivento SpA                            1\n",
       "Libertador General Bernardo OHiggins  Marchigüe        120.0           Gestión y Asesoria de Energía SpA.      1\n",
       "                                      Peralillo        500.0           Enel Green Power del Sur                1\n",
       "                                      Placilla         140.0           Enel Green Power del Sur                1\n",
       "                                      San Fernando     80.0            Membrillo SpA                           1\n",
       "Maule                                 Río Claro        100.0           Bellavista Solar SpA.                   1\n",
       "Metropolitana de Santiago             Buin             110.0           Orion Power SpA.                        1\n",
       "                                      San Pedro        110.0           Eléctrica Las Frutillas SpA.            1\n",
       "Tarapacá                              Pozo Almonte     136.4           RWE Renewables Chile SpA                1\n",
       "                                                       250.0           Solar Uno SpA                           1\n",
       "                                                       400.0           Aes Chile Inversiones Renovables SpA    1\n",
       "                                                       500.0           Aes Chile Inversiones Renovables SpA    1\n",
       "                                                       520.0           Aes Chile Inversiones Renovables SpA    1\n",
       "Valparaiso                            La Ligua         336.0           Longotoma Solar SpA.                    1\n",
       "                                      Puchuncaví       135.0           Membrillo SpA                           1\n",
       "                                      Viña del Mar     200.0           EBCO Energía S.A.                       1\n",
       "Ñuble                                 Ninhue           9.0             Plantar Solar SPV I SpA                 1\n",
       "                                      Pemuco           140.0           Las Mellizas Generación SpA.            1\n",
       "                                      San Carlos       90.0            AR ENERGIA CHILE SPA                    1\n",
       "Name: Proyecto, dtype: int64"
      ]
     },
     "execution_count": 61,
     "metadata": {},
     "output_type": "execute_result"
    }
   ],
   "source": [
    "#Como se distribuyen los proyectos en las COMUNAS.\n",
    "distribucion_comuna = data_BESS_and_solar_filtrada.groupby([\"Región\", \"Comuna\",\"Capacidad [MW]\",\"Empresa Solicitante\"])[\"Proyecto\"].count()\n",
    "distribucion_comuna"
   ]
  },
  {
   "cell_type": "code",
   "execution_count": 62,
   "id": "ea48e53c",
   "metadata": {
    "scrolled": true
   },
   "outputs": [
    {
     "data": {
      "text/plain": [
       "Región                                Capacidad [MW]  Empresa Solicitante                 \n",
       "Antofagasta                           205.0           Enel Green Power del Sur                1\n",
       "                                      500.0           Enel Green Power del Sur                1\n",
       "Atacama                               75.0            Enel Green Power del Sur                1\n",
       "                                      80.0            AustrianSolar Chile Dos SpA             1\n",
       "                                      100.8           AustrianSolar Chile Tres SpA            1\n",
       "                                      110.0           Copiapó Solar S.A.                      1\n",
       "                                      120.0           Cristaria Solar SpA                     1\n",
       "                                      150.0           Grenergy Renovables Pacific Limitada    1\n",
       "                                      410.0           Enel Green Power del Sur                1\n",
       "Coquimbo                              240.0           Parque Fotovoltaico Hualo SpA           1\n",
       "                                      410.0           Trivento SpA                            1\n",
       "Libertador General Bernardo OHiggins  80.0            Membrillo SpA                           1\n",
       "                                      120.0           Gestión y Asesoria de Energía SpA.      1\n",
       "                                      140.0           Enel Green Power del Sur                1\n",
       "                                      500.0           Enel Green Power del Sur                1\n",
       "Maule                                 100.0           Bellavista Solar SpA.                   1\n",
       "Metropolitana de Santiago             110.0           Eléctrica Las Frutillas SpA.            1\n",
       "                                                      Orion Power SpA.                        1\n",
       "Tarapacá                              136.4           RWE Renewables Chile SpA                1\n",
       "                                      250.0           Solar Uno SpA                           1\n",
       "                                      400.0           Aes Chile Inversiones Renovables SpA    1\n",
       "                                      500.0           Aes Chile Inversiones Renovables SpA    1\n",
       "                                      520.0           Aes Chile Inversiones Renovables SpA    1\n",
       "Valparaiso                            135.0           Membrillo SpA                           1\n",
       "                                      200.0           EBCO Energía S.A.                       1\n",
       "                                      336.0           Longotoma Solar SpA.                    1\n",
       "Ñuble                                 9.0             Plantar Solar SPV I SpA                 1\n",
       "                                      90.0            AR ENERGIA CHILE SPA                    1\n",
       "                                      140.0           Las Mellizas Generación SpA.            1\n",
       "Name: Proyecto, dtype: int64"
      ]
     },
     "execution_count": 62,
     "metadata": {},
     "output_type": "execute_result"
    }
   ],
   "source": [
    "#Como se distribuyen los proyectos en las regiones.\n",
    "distribucion_region = data_BESS_and_solar_filtrada.groupby([\"Región\",\"Capacidad [MW]\",\"Empresa Solicitante\"])[\"Proyecto\"].count()\n",
    "distribucion_region"
   ]
  },
  {
   "cell_type": "code",
   "execution_count": 64,
   "id": "fc59f454",
   "metadata": {},
   "outputs": [
    {
     "data": {
      "text/html": [
       "<div>\n",
       "<style scoped>\n",
       "    .dataframe tbody tr th:only-of-type {\n",
       "        vertical-align: middle;\n",
       "    }\n",
       "\n",
       "    .dataframe tbody tr th {\n",
       "        vertical-align: top;\n",
       "    }\n",
       "\n",
       "    .dataframe thead th {\n",
       "        text-align: right;\n",
       "    }\n",
       "</style>\n",
       "<table border=\"1\" class=\"dataframe\">\n",
       "  <thead>\n",
       "    <tr style=\"text-align: right;\">\n",
       "      <th></th>\n",
       "      <th>Número de proyectos BESS + Solar</th>\n",
       "      <th>Capacidad [MW]</th>\n",
       "    </tr>\n",
       "    <tr>\n",
       "      <th>Región</th>\n",
       "      <th></th>\n",
       "      <th></th>\n",
       "    </tr>\n",
       "  </thead>\n",
       "  <tbody>\n",
       "    <tr>\n",
       "      <th>Tarapacá</th>\n",
       "      <td>5</td>\n",
       "      <td>1806.4</td>\n",
       "    </tr>\n",
       "    <tr>\n",
       "      <th>Atacama</th>\n",
       "      <td>7</td>\n",
       "      <td>1045.8</td>\n",
       "    </tr>\n",
       "    <tr>\n",
       "      <th>Libertador General Bernardo OHiggins</th>\n",
       "      <td>4</td>\n",
       "      <td>840.0</td>\n",
       "    </tr>\n",
       "    <tr>\n",
       "      <th>Antofagasta</th>\n",
       "      <td>2</td>\n",
       "      <td>705.0</td>\n",
       "    </tr>\n",
       "    <tr>\n",
       "      <th>Valparaiso</th>\n",
       "      <td>3</td>\n",
       "      <td>671.0</td>\n",
       "    </tr>\n",
       "    <tr>\n",
       "      <th>Coquimbo</th>\n",
       "      <td>2</td>\n",
       "      <td>650.0</td>\n",
       "    </tr>\n",
       "    <tr>\n",
       "      <th>Ñuble</th>\n",
       "      <td>3</td>\n",
       "      <td>239.0</td>\n",
       "    </tr>\n",
       "    <tr>\n",
       "      <th>Metropolitana de Santiago</th>\n",
       "      <td>2</td>\n",
       "      <td>220.0</td>\n",
       "    </tr>\n",
       "    <tr>\n",
       "      <th>Maule</th>\n",
       "      <td>1</td>\n",
       "      <td>100.0</td>\n",
       "    </tr>\n",
       "  </tbody>\n",
       "</table>\n",
       "</div>"
      ],
      "text/plain": [
       "                                      Número de proyectos BESS + Solar  \\\n",
       "Región                                                                   \n",
       "Tarapacá                                                             5   \n",
       "Atacama                                                              7   \n",
       "Libertador General Bernardo OHiggins                                 4   \n",
       "Antofagasta                                                          2   \n",
       "Valparaiso                                                           3   \n",
       "Coquimbo                                                             2   \n",
       "Ñuble                                                                3   \n",
       "Metropolitana de Santiago                                            2   \n",
       "Maule                                                                1   \n",
       "\n",
       "                                      Capacidad [MW]  \n",
       "Región                                                \n",
       "Tarapacá                                      1806.4  \n",
       "Atacama                                       1045.8  \n",
       "Libertador General Bernardo OHiggins           840.0  \n",
       "Antofagasta                                    705.0  \n",
       "Valparaiso                                     671.0  \n",
       "Coquimbo                                       650.0  \n",
       "Ñuble                                          239.0  \n",
       "Metropolitana de Santiago                      220.0  \n",
       "Maule                                          100.0  "
      ]
     },
     "execution_count": 64,
     "metadata": {},
     "output_type": "execute_result"
    }
   ],
   "source": [
    "#capacidad instalada de almacenamiento BESS+Solar x Región\n",
    "analisis_region = data_BESS_and_solar_filtrada.groupby([\"Región\"])[\"Capacidad [MW]\"].sum()\n",
    "analisis_region\n",
    "#Transforma el groupby en un dataframe:\n",
    "#DF capacidad instalada por región:\n",
    "df_capacidad = pd.DataFrame(analisis_region)\n",
    "df_capacidad\n",
    "\n",
    "# número de proyectos por región \n",
    "numero_empresas_por_region = data_BESS_and_solar_filtrada.groupby([\"Región\"])['Empresa Solicitante'].count()\n",
    "numero_empresas_por_region\n",
    "#Transforma el groupby en un dataframe:\n",
    "#Número de empresas que instalaron BESS por región.\n",
    "df = pd.DataFrame(numero_empresas_por_region)\n",
    "\n",
    "#Une los 2 dataframe (capacidad instalda región + número de proyectos región)\n",
    "df_merge_datos = pd.merge(df_capacidad, df, left_on='Región', right_on='Región')\n",
    "#Cambia el nombre a la columna\n",
    "df_merge_datos.rename(columns={\"Empresa Solicitante\": \"Número de proyectos BESS + Solar\"},inplace = True)\n",
    "df_merge_datos\n",
    "#Ordena el orden de las columnas que entregan la información.\n",
    "data_ordenada = df_merge_datos[[\"Número de proyectos BESS + Solar\",\"Capacidad [MW]\"]]\n",
    "\n",
    "#mayor capacidad instalada: \n",
    "#Ordena la información de forma descendente en función de la capacidad instalada.\n",
    "capacidad_instalada_por_region = data_ordenada.sort_values('Capacidad [MW]',ascending=False)\n",
    "capacidad_instalada_por_region"
   ]
  },
  {
   "cell_type": "markdown",
   "id": "fc9b08e1",
   "metadata": {},
   "source": [
    "### Mismo análisis, pero con los datos informados de cap. BESS + Solar."
   ]
  },
  {
   "cell_type": "code",
   "execution_count": 67,
   "id": "7789b4c7",
   "metadata": {},
   "outputs": [
    {
     "data": {
      "text/plain": [
       "Región                                Comuna        Capacidad [MW]  Capacidad BESS (MW)  Empresa Solicitante      \n",
       "Antofagasta                           Sierra Gorda  500.0           200.0                Enel Green Power del Sur     1\n",
       "Atacama                               Copiapó       410.0           100.0                Enel Green Power del Sur     1\n",
       "Libertador General Bernardo OHiggins  Peralillo     500.0           100.0                Enel Green Power del Sur     1\n",
       "                                      San Fernando  80.0            24.0                 Membrillo SpA                1\n",
       "Tarapacá                              Pozo Almonte  136.4           45.0                 RWE Renewables Chile SpA     1\n",
       "Valparaiso                            Puchuncaví    135.0           67.0                 Membrillo SpA                1\n",
       "Name: Proyecto, dtype: int64"
      ]
     },
     "execution_count": 67,
     "metadata": {},
     "output_type": "execute_result"
    }
   ],
   "source": [
    "#Como se distribuyen los proyectos en las COMUNAS.\n",
    "distribucion_comuna = data_BESS_and_solar_filtrada_cap_informada.groupby([\"Región\", \"Comuna\",\"Capacidad [MW]\",\"Capacidad BESS (MW)\",\"Empresa Solicitante\"])[\"Proyecto\"].count()\n",
    "distribucion_comuna"
   ]
  },
  {
   "cell_type": "code",
   "execution_count": 68,
   "id": "53d2fe00",
   "metadata": {},
   "outputs": [
    {
     "data": {
      "text/plain": [
       "Región                                Capacidad [MW]  Capacidad BESS (MW)  Empresa Solicitante      \n",
       "Antofagasta                           500.0           200.0                Enel Green Power del Sur     1\n",
       "Atacama                               410.0           100.0                Enel Green Power del Sur     1\n",
       "Libertador General Bernardo OHiggins  80.0            24.0                 Membrillo SpA                1\n",
       "                                      500.0           100.0                Enel Green Power del Sur     1\n",
       "Tarapacá                              136.4           45.0                 RWE Renewables Chile SpA     1\n",
       "Valparaiso                            135.0           67.0                 Membrillo SpA                1\n",
       "Name: Proyecto, dtype: int64"
      ]
     },
     "execution_count": 68,
     "metadata": {},
     "output_type": "execute_result"
    }
   ],
   "source": [
    "#Como se distribuyen los proyectos en las regiones.\n",
    "distribucion_region = data_BESS_and_solar_filtrada_cap_informada.groupby([\"Región\",\"Capacidad [MW]\",\"Capacidad BESS (MW)\",\"Empresa Solicitante\"])[\"Proyecto\"].count()\n",
    "distribucion_region"
   ]
  },
  {
   "cell_type": "code",
   "execution_count": 211,
   "id": "f1387943",
   "metadata": {},
   "outputs": [
    {
     "data": {
      "text/html": [
       "<div>\n",
       "<style scoped>\n",
       "    .dataframe tbody tr th:only-of-type {\n",
       "        vertical-align: middle;\n",
       "    }\n",
       "\n",
       "    .dataframe tbody tr th {\n",
       "        vertical-align: top;\n",
       "    }\n",
       "\n",
       "    .dataframe thead th {\n",
       "        text-align: right;\n",
       "    }\n",
       "</style>\n",
       "<table border=\"1\" class=\"dataframe\">\n",
       "  <thead>\n",
       "    <tr style=\"text-align: right;\">\n",
       "      <th></th>\n",
       "      <th>Número de proyectos BESS + Solar</th>\n",
       "      <th>Capacidad BESS (MW)</th>\n",
       "    </tr>\n",
       "    <tr>\n",
       "      <th>Región</th>\n",
       "      <th></th>\n",
       "      <th></th>\n",
       "    </tr>\n",
       "  </thead>\n",
       "  <tbody>\n",
       "    <tr>\n",
       "      <th>Antofagasta</th>\n",
       "      <td>1</td>\n",
       "      <td>200.0</td>\n",
       "    </tr>\n",
       "    <tr>\n",
       "      <th>Libertador General Bernardo OHiggins</th>\n",
       "      <td>2</td>\n",
       "      <td>124.0</td>\n",
       "    </tr>\n",
       "    <tr>\n",
       "      <th>Atacama</th>\n",
       "      <td>1</td>\n",
       "      <td>100.0</td>\n",
       "    </tr>\n",
       "    <tr>\n",
       "      <th>Valparaiso</th>\n",
       "      <td>1</td>\n",
       "      <td>67.0</td>\n",
       "    </tr>\n",
       "    <tr>\n",
       "      <th>Tarapacá</th>\n",
       "      <td>1</td>\n",
       "      <td>45.0</td>\n",
       "    </tr>\n",
       "  </tbody>\n",
       "</table>\n",
       "</div>"
      ],
      "text/plain": [
       "                                      Número de proyectos BESS + Solar  \\\n",
       "Región                                                                   \n",
       "Antofagasta                                                          1   \n",
       "Libertador General Bernardo OHiggins                                 2   \n",
       "Atacama                                                              1   \n",
       "Valparaiso                                                           1   \n",
       "Tarapacá                                                             1   \n",
       "\n",
       "                                      Capacidad BESS (MW)  \n",
       "Región                                                     \n",
       "Antofagasta                                         200.0  \n",
       "Libertador General Bernardo OHiggins                124.0  \n",
       "Atacama                                             100.0  \n",
       "Valparaiso                                           67.0  \n",
       "Tarapacá                                             45.0  "
      ]
     },
     "execution_count": 211,
     "metadata": {},
     "output_type": "execute_result"
    }
   ],
   "source": [
    "#capacidad instalada de almacenamiento BESS+Solar x Región\n",
    "analisis_region = data_BESS_and_solar_filtrada_cap_informada.groupby([\"Región\"])[\"Capacidad BESS (MW)\"].sum()\n",
    "analisis_region\n",
    "#Transforma el groupby en un dataframe:\n",
    "#DF capacidad instalada por región:\n",
    "df_capacidad = pd.DataFrame(analisis_region)\n",
    "df_capacidad\n",
    "\n",
    "# número de proyectos por región \n",
    "numero_empresas_por_region = data_BESS_and_solar_filtrada_cap_informada.groupby([\"Región\"])['Empresa Solicitante'].count()\n",
    "numero_empresas_por_region\n",
    "#Transforma el groupby en un dataframe:\n",
    "#Número de empresas que instalaron BESS por región.\n",
    "df = pd.DataFrame(numero_empresas_por_region)\n",
    "\n",
    "#Une los 2 dataframe (capacidad instalda región + número de proyectos región)\n",
    "df_merge_datos = pd.merge(df_capacidad, df, left_on='Región', right_on='Región')\n",
    "#Cambia el nombre a la columna\n",
    "df_merge_datos.rename(columns={\"Empresa Solicitante\": \"Número de proyectos BESS + Solar\"},inplace = True)\n",
    "df_merge_datos\n",
    "#Ordena el orden de las columnas que entregan la información.\n",
    "data_ordenada = df_merge_datos[[\"Número de proyectos BESS + Solar\",\"Capacidad BESS (MW)\"]]\n",
    "\n",
    "#mayor capacidad instalada: \n",
    "#Ordena la información de forma descendente en función de la capacidad instalada.\n",
    "capacidad_instalada_por_region = data_ordenada.sort_values('Capacidad BESS (MW)',ascending=False)\n",
    "capacidad_instalada_por_region\n",
    "\n",
    "#guarda el df para posterior análisis:\n",
    "guarda_df_region_capacidad = capacidad_instalada_por_region.to_csv(\"Grid_and_zero_csv/output_capacidad_instalada_por_region_BESS_plus_solar.csv\")\n",
    "guarda_df_region_capacidad\n",
    "capacidad_instalada_por_region"
   ]
  },
  {
   "cell_type": "code",
   "execution_count": 70,
   "id": "a14725f6",
   "metadata": {},
   "outputs": [],
   "source": [
    "#Obs:\n",
    "#Mayor capacidad instalada de BESS al norte del país.\n",
    "#Región con mayor capacidad BESS: \n",
    "#1. Antofagasta: 200 MW.\n",
    "#2. Libertador General Bernardo OHiggins: 124 MW.\n",
    "#3. Atacama: 100 MW."
   ]
  },
  {
   "cell_type": "markdown",
   "id": "478b79c8",
   "metadata": {},
   "source": [
    "# 3. Análisis estadístico de los proyectos en las regiones."
   ]
  },
  {
   "cell_type": "code",
   "execution_count": 72,
   "id": "187de267",
   "metadata": {},
   "outputs": [
    {
     "name": "stdout",
     "output_type": "stream",
     "text": [
      "Columnas :\n",
      "  Index(['Index', 'Proyecto', 'Empresa Solicitante', 'Tipo', 'Estado Solicitud',\n",
      "       'Fecha Recepción', 'Capacidad [MW]', 'Capacidad BESS (MW)',\n",
      "       'Cap. BESS + Solar (MWh)', 'Número de Hrs almacenamiento',\n",
      "       'Fecha Estimada Conexión', 'Punto de Conexión', 'Nivel de tension',\n",
      "       'Barra', 'Paño', 'Región', 'Comuna', 'Segmento de Transmisión'],\n",
      "      dtype='object')\n"
     ]
    }
   ],
   "source": [
    "#Visualización del dataframe filtrado:\n",
    "print(\"Columnas :\\n \",data_BESS_and_solar_filtrada.columns)\n"
   ]
  },
  {
   "cell_type": "code",
   "execution_count": 74,
   "id": "cd249419",
   "metadata": {},
   "outputs": [
    {
     "data": {
      "text/plain": [
       "['Valparaiso',\n",
       " 'Coquimbo',\n",
       " 'Tarapacá',\n",
       " 'Ñuble',\n",
       " 'Atacama',\n",
       " 'Libertador General Bernardo OHiggins',\n",
       " 'Maule',\n",
       " 'Metropolitana de Santiago',\n",
       " 'Antofagasta']"
      ]
     },
     "execution_count": 74,
     "metadata": {},
     "output_type": "execute_result"
    }
   ],
   "source": [
    "#Regiones que poseen BESS\n",
    "data_BESS_and_solar_filtrada['Región'].unique()\n",
    "\n",
    "regiones_con_BESS_and_solar = data_BESS_and_solar_filtrada['Región'].unique()\n",
    "regiones_con_BESS_and_solar\n",
    "lista_Regiones_BESS_and_solar = regiones_con_BESS_and_solar.tolist()\n",
    "lista_Regiones_BESS_and_solar"
   ]
  },
  {
   "cell_type": "code",
   "execution_count": 78,
   "id": "a42d84a1",
   "metadata": {},
   "outputs": [],
   "source": [
    "#Segmentación de la base de datos por región:\n",
    "#Valparaiso\n",
    "BESS_and_solar_R_valparaiso = data_BESS_and_solar_filtrada.loc[data_BESS_and_solar_filtrada['Región'] == lista_Regiones_BESS_and_solar[0]]\n",
    "#Reset index:\n",
    "BESS_and_solar_R_valparaiso = BESS_and_solar_R_valparaiso.reset_index(drop=True)\n",
    "\n",
    "#Coquimbo\n",
    "BESS_and_solar_R_coquimbo = data_BESS_and_solar_filtrada.loc[data_BESS_and_solar_filtrada['Región'] == lista_Regiones_BESS_and_solar[1]]\n",
    "#Reset index:\n",
    "BESS_and_solar_R_coquimbo = BESS_and_solar_R_coquimbo.reset_index(drop=True)\n",
    "#Tarapacá\n",
    "BESS_and_solar_R_tarapaca = data_BESS_and_solar_filtrada.loc[data_BESS_and_solar_filtrada['Región'] == lista_Regiones_BESS_and_solar[2]]\n",
    "#Reset index:\n",
    "BESS_and_solar_R_tarapaca = BESS_and_solar_R_tarapaca.reset_index(drop=True)\n",
    "#Ñuble\n",
    "BESS_and_solar_R_nuble = data_BESS_and_solar_filtrada.loc[data_BESS_and_solar_filtrada['Región'] == lista_Regiones_BESS_and_solar[3]]\n",
    "#Reset index:\n",
    "BESS_and_solar_R_nuble = BESS_and_solar_R_nuble.reset_index(drop=True)\n",
    "#Atacama\n",
    "BESS_and_solar_R_atacama = data_BESS_and_solar_filtrada.loc[data_BESS_and_solar_filtrada['Región'] == lista_Regiones_BESS_and_solar[4]]\n",
    "#Reset index:\n",
    "BESS_and_solar_R_atacama = BESS_and_solar_R_atacama.reset_index(drop=True)\n",
    "#Libertador General Bernardo OHiggins\n",
    "BESS_and_solar_R_libertador_bernardo_o = data_BESS_and_solar_filtrada.loc[data_BESS_and_solar_filtrada['Región'] == lista_Regiones_BESS_and_solar[5]]\n",
    "#Reset index:\n",
    "BESS_and_solar_R_libertador_bernardo_o = BESS_and_solar_R_libertador_bernardo_o.reset_index(drop=True)\n",
    "#Maule\n",
    "BESS_and_solar_R_maule = data_BESS_and_solar_filtrada.loc[data_BESS_and_solar_filtrada['Región'] == lista_Regiones_BESS_and_solar[6]]\n",
    "#Reset index:\n",
    "BESS_and_solar_R_maule = BESS_and_solar_R_maule.reset_index(drop=True)\n",
    "#Metropolitana de Santiago\n",
    "BESS_and_solar_R_santiago = data_BESS_and_solar_filtrada.loc[data_BESS_and_solar_filtrada['Región'] == lista_Regiones_BESS_and_solar[7]]\n",
    "#Reset index:\n",
    "BESS_and_solar_R_santiago = BESS_and_solar_R_santiago.reset_index(drop=True)\n",
    "#Antofagasta\n",
    "BESS_and_solar_R_antofagasta = data_BESS_and_solar_filtrada.loc[data_BESS_and_solar_filtrada['Región'] == lista_Regiones_BESS_and_solar[8]]\n",
    "#Reset index:\n",
    "BESS_and_solar_R_antofagasta = BESS_and_solar_R_antofagasta.reset_index(drop=True)\n",
    "\n"
   ]
  },
  {
   "cell_type": "code",
   "execution_count": 80,
   "id": "74bad68c",
   "metadata": {},
   "outputs": [
    {
     "data": {
      "text/plain": [
       "Región                                Comuna         \n",
       "Antofagasta                           Antofagasta          0.0\n",
       "                                      Sierra Gorda       200.0\n",
       "Atacama                               Chañaral             0.0\n",
       "                                      Copiapó            100.0\n",
       "                                      Freirina             0.0\n",
       "                                      Tierra Amarilla      0.0\n",
       "                                      Vallenar             0.0\n",
       "Coquimbo                              Andacollo            0.0\n",
       "                                      Ovalle               0.0\n",
       "Libertador General Bernardo OHiggins  Marchigüe            0.0\n",
       "                                      Peralillo          100.0\n",
       "                                      Placilla             0.0\n",
       "                                      San Fernando        24.0\n",
       "Maule                                 Río Claro            0.0\n",
       "Metropolitana de Santiago             Buin                 0.0\n",
       "                                      San Pedro            0.0\n",
       "Tarapacá                              Pozo Almonte        45.0\n",
       "Valparaiso                            La Ligua             0.0\n",
       "                                      Puchuncaví          67.0\n",
       "                                      Viña del Mar         0.0\n",
       "Ñuble                                 Ninhue               0.0\n",
       "                                      Pemuco               0.0\n",
       "                                      San Carlos           0.0\n",
       "Name: Capacidad BESS (MW), dtype: float64"
      ]
     },
     "execution_count": 80,
     "metadata": {},
     "output_type": "execute_result"
    }
   ],
   "source": [
    "#Como se distribuyen los proyectos en las COMUNAS.\n",
    "distribucion_comuna_agregado = data_BESS_and_solar_filtrada.groupby([\"Región\", \"Comuna\"])[\"Capacidad BESS (MW)\"].sum()\n",
    "distribucion_comuna_agregado"
   ]
  },
  {
   "cell_type": "code",
   "execution_count": null,
   "id": "8a825baa",
   "metadata": {},
   "outputs": [],
   "source": [
    "#Mismo análisis pero para las plantas que SI informan."
   ]
  },
  {
   "cell_type": "code",
   "execution_count": 81,
   "id": "a7b11510",
   "metadata": {},
   "outputs": [
    {
     "data": {
      "text/plain": [
       "Región                                Comuna      \n",
       "Antofagasta                           Sierra Gorda    200.0\n",
       "Atacama                               Copiapó         100.0\n",
       "Libertador General Bernardo OHiggins  Peralillo       100.0\n",
       "                                      San Fernando     24.0\n",
       "Tarapacá                              Pozo Almonte     45.0\n",
       "Valparaiso                            Puchuncaví       67.0\n",
       "Name: Capacidad BESS (MW), dtype: float64"
      ]
     },
     "execution_count": 81,
     "metadata": {},
     "output_type": "execute_result"
    }
   ],
   "source": [
    "#Como se distribuyen los proyectos en las COMUNAS.\n",
    "distribucion_comuna_agregado = data_BESS_and_solar_filtrada_cap_informada.groupby([\"Región\", \"Comuna\"])[\"Capacidad BESS (MW)\"].sum()\n",
    "distribucion_comuna_agregado"
   ]
  },
  {
   "cell_type": "code",
   "execution_count": 83,
   "id": "cd128a01",
   "metadata": {},
   "outputs": [
    {
     "data": {
      "text/plain": [
       "count      6.000000\n",
       "mean      89.333333\n",
       "std       61.979567\n",
       "min       24.000000\n",
       "25%       50.500000\n",
       "50%       83.500000\n",
       "75%      100.000000\n",
       "max      200.000000\n",
       "Name: Capacidad BESS (MW), dtype: float64"
      ]
     },
     "execution_count": 83,
     "metadata": {},
     "output_type": "execute_result"
    }
   ],
   "source": [
    "#Distribución general de todas las regiones:\n",
    "data_BESS_and_solar_filtrada['Capacidad BESS (MW)'].describe()\n"
   ]
  },
  {
   "cell_type": "code",
   "execution_count": 95,
   "id": "15ca3646",
   "metadata": {},
   "outputs": [
    {
     "data": {
      "text/html": [
       "<div>\n",
       "<style scoped>\n",
       "    .dataframe tbody tr th:only-of-type {\n",
       "        vertical-align: middle;\n",
       "    }\n",
       "\n",
       "    .dataframe tbody tr th {\n",
       "        vertical-align: top;\n",
       "    }\n",
       "\n",
       "    .dataframe thead th {\n",
       "        text-align: right;\n",
       "    }\n",
       "</style>\n",
       "<table border=\"1\" class=\"dataframe\">\n",
       "  <thead>\n",
       "    <tr style=\"text-align: right;\">\n",
       "      <th></th>\n",
       "      <th>BESS+Solar distribution in all regions</th>\n",
       "      <th>Distribution Valparaiso</th>\n",
       "      <th>Distribution Tarapacá</th>\n",
       "      <th>Distribution Libertador Bernardo O</th>\n",
       "      <th>Distribution Antofagasta</th>\n",
       "      <th>Distribution Atacama</th>\n",
       "    </tr>\n",
       "  </thead>\n",
       "  <tbody>\n",
       "    <tr>\n",
       "      <th>count</th>\n",
       "      <td>6.00</td>\n",
       "      <td>1.0</td>\n",
       "      <td>1.0</td>\n",
       "      <td>2.00</td>\n",
       "      <td>1.0</td>\n",
       "      <td>1.0</td>\n",
       "    </tr>\n",
       "    <tr>\n",
       "      <th>mean</th>\n",
       "      <td>89.33</td>\n",
       "      <td>67.0</td>\n",
       "      <td>45.0</td>\n",
       "      <td>62.00</td>\n",
       "      <td>200.0</td>\n",
       "      <td>100.0</td>\n",
       "    </tr>\n",
       "    <tr>\n",
       "      <th>std</th>\n",
       "      <td>61.98</td>\n",
       "      <td>NaN</td>\n",
       "      <td>NaN</td>\n",
       "      <td>53.74</td>\n",
       "      <td>NaN</td>\n",
       "      <td>NaN</td>\n",
       "    </tr>\n",
       "    <tr>\n",
       "      <th>min</th>\n",
       "      <td>24.00</td>\n",
       "      <td>67.0</td>\n",
       "      <td>45.0</td>\n",
       "      <td>24.00</td>\n",
       "      <td>200.0</td>\n",
       "      <td>100.0</td>\n",
       "    </tr>\n",
       "    <tr>\n",
       "      <th>25%</th>\n",
       "      <td>50.50</td>\n",
       "      <td>67.0</td>\n",
       "      <td>45.0</td>\n",
       "      <td>43.00</td>\n",
       "      <td>200.0</td>\n",
       "      <td>100.0</td>\n",
       "    </tr>\n",
       "    <tr>\n",
       "      <th>50%</th>\n",
       "      <td>83.50</td>\n",
       "      <td>67.0</td>\n",
       "      <td>45.0</td>\n",
       "      <td>62.00</td>\n",
       "      <td>200.0</td>\n",
       "      <td>100.0</td>\n",
       "    </tr>\n",
       "    <tr>\n",
       "      <th>75%</th>\n",
       "      <td>100.00</td>\n",
       "      <td>67.0</td>\n",
       "      <td>45.0</td>\n",
       "      <td>81.00</td>\n",
       "      <td>200.0</td>\n",
       "      <td>100.0</td>\n",
       "    </tr>\n",
       "    <tr>\n",
       "      <th>max</th>\n",
       "      <td>200.00</td>\n",
       "      <td>67.0</td>\n",
       "      <td>45.0</td>\n",
       "      <td>100.00</td>\n",
       "      <td>200.0</td>\n",
       "      <td>100.0</td>\n",
       "    </tr>\n",
       "  </tbody>\n",
       "</table>\n",
       "</div>"
      ],
      "text/plain": [
       "       BESS+Solar distribution in all regions  Distribution Valparaiso  \\\n",
       "count                                    6.00                      1.0   \n",
       "mean                                    89.33                     67.0   \n",
       "std                                     61.98                      NaN   \n",
       "min                                     24.00                     67.0   \n",
       "25%                                     50.50                     67.0   \n",
       "50%                                     83.50                     67.0   \n",
       "75%                                    100.00                     67.0   \n",
       "max                                    200.00                     67.0   \n",
       "\n",
       "       Distribution Tarapacá  Distribution Libertador Bernardo O  \\\n",
       "count                    1.0                                2.00   \n",
       "mean                    45.0                               62.00   \n",
       "std                      NaN                               53.74   \n",
       "min                     45.0                               24.00   \n",
       "25%                     45.0                               43.00   \n",
       "50%                     45.0                               62.00   \n",
       "75%                     45.0                               81.00   \n",
       "max                     45.0                              100.00   \n",
       "\n",
       "       Distribution Antofagasta  Distribution Atacama  \n",
       "count                       1.0                   1.0  \n",
       "mean                      200.0                 100.0  \n",
       "std                         NaN                   NaN  \n",
       "min                       200.0                 100.0  \n",
       "25%                       200.0                 100.0  \n",
       "50%                       200.0                 100.0  \n",
       "75%                       200.0                 100.0  \n",
       "max                       200.0                 100.0  "
      ]
     },
     "execution_count": 95,
     "metadata": {},
     "output_type": "execute_result"
    }
   ],
   "source": [
    "#DF distribución general regiones:\n",
    "distribucion_general_regiones = np.round(data_BESS_and_solar_filtrada['Capacidad BESS (MW)'].describe(),decimals = 2)\n",
    "df_distribucion_general_regiones = pd.DataFrame(distribucion_general_regiones)\n",
    "\n",
    "#Rename:\n",
    "df_distribucion_general_regiones.rename(columns={\"Capacidad BESS (MW)\": \"BESS+Solar distribution in all regions\"},inplace = True)\n",
    "\n",
    "df_distribucion_general_regiones\n",
    "#Incorpora las demás regiones en el df_distribucion_general_regiones:\n",
    "#Valparaiso:\n",
    "#Tarapacá:\n",
    "df_distribucion_general_regiones['Distribution Valparaiso'] = np.round(BESS_and_solar_R_valparaiso['Capacidad BESS (MW)'].describe(),decimals = 2)\n",
    "#Tarapacá:\n",
    "df_distribucion_general_regiones['Distribution Tarapacá'] = np.round(BESS_and_solar_R_tarapaca['Capacidad BESS (MW)'].describe(),decimals = 2)\n",
    "#Libertador Bernardo O'higgins:\n",
    "df_distribucion_general_regiones[\"Distribution Libertador Bernardo O\"] = np.round(BESS_and_solar_R_libertador_bernardo_o['Capacidad BESS (MW)'].describe(),decimals = 2)\n",
    "#Antofagasta:\n",
    "df_distribucion_general_regiones['Distribution Antofagasta'] = np.round(BESS_and_solar_R_antofagasta['Capacidad BESS (MW)'].describe(),decimals = 2)\n",
    "#Atacama:\n",
    "df_distribucion_general_regiones['Distribution Atacama'] = np.round(BESS_and_solar_R_atacama['Capacidad BESS (MW)'].describe(),decimals = 2)\n",
    "\n",
    "df_distribucion_general_regiones\n"
   ]
  },
  {
   "cell_type": "code",
   "execution_count": 96,
   "id": "a766a41f",
   "metadata": {
    "scrolled": true
   },
   "outputs": [
    {
     "data": {
      "text/plain": [
       "Text(0.5, 1.0, \"BESS+Solar infrastructure, Chile's regions\")"
      ]
     },
     "execution_count": 96,
     "metadata": {},
     "output_type": "execute_result"
    },
    {
     "data": {
      "image/png": "[encoded data removed]",
      "text/plain": [
       "<Figure size 1490.4x1099.44 with 1 Axes>"
      ]
     },
     "metadata": {},
     "output_type": "display_data"
    }
   ],
   "source": [
    "sns.set_style('whitegrid')\n",
    "\n",
    "sns.set(rc={'figure.figsize':(20.7,15.27)}) #set width and height\n",
    "\n",
    "ax = sns.boxplot(x='Región',y='Capacidad BESS (MW)',\n",
    "                data=data_BESS_and_solar_filtrada_cap_informada)\n",
    "\n",
    "ax.set_title(\"BESS+Solar infrastructure, Chile's regions\")"
   ]
  },
  {
   "cell_type": "markdown",
   "id": "a5d9b484",
   "metadata": {},
   "source": [
    "## 4. Número de horas de operación de las baterías:\n"
   ]
  },
  {
   "cell_type": "code",
   "execution_count": 115,
   "id": "d08d526f",
   "metadata": {
    "scrolled": true
   },
   "outputs": [
    {
     "data": {
      "text/plain": [
       "Región                                Comuna        Número de Hrs almacenamiento\n",
       "Antofagasta                           Sierra Gorda  3,5                             1\n",
       "Atacama                               Copiapó       5,1                             1\n",
       "Libertador General Bernardo OHiggins  Peralillo     6                               1\n",
       "                                      San Fernando  4,3                             1\n",
       "Tarapacá                              Pozo Almonte  4,03                            1\n",
       "Valparaiso                            Puchuncaví    3                               1\n",
       "Name: Empresa Solicitante, dtype: int64"
      ]
     },
     "execution_count": 115,
     "metadata": {},
     "output_type": "execute_result"
    }
   ],
   "source": [
    "# número de Horas de operación BESS \n",
    "#numero_empresas_por_region = data_BESS_and_solar_filtrada_cap_informada.groupby([\"Región\"])['Empresa Solicitante'].count()\n",
    "#numero_empresas_por_region\n",
    "data_BESS_and_solar_filtrada_cap_informada['Número de Hrs almacenamiento']\n",
    "#Número de horas de operación:\n",
    "numero_horas_operacion = data_BESS_and_solar_filtrada_cap_informada.groupby([\"Región\",\"Comuna\",\"Número de Hrs almacenamiento\"])['Empresa Solicitante'].count()\n",
    "numero_horas_operacion\n",
    "\n"
   ]
  },
  {
   "cell_type": "code",
   "execution_count": 216,
   "id": "b7c5410c",
   "metadata": {},
   "outputs": [
    {
     "name": "stdout",
     "output_type": "stream",
     "text": [
      "valor_promedio_horas_operacion_BESS Híbridas (Solar+BESS) 4.32 Hrs\n"
     ]
    },
    {
     "data": {
      "text/plain": [
       "[3.0, 4.03, 4.3, 3.5, 5.1, 6.0]"
      ]
     },
     "execution_count": 216,
     "metadata": {},
     "output_type": "execute_result"
    }
   ],
   "source": [
    "#promedio de duración de las baterías:\n",
    "promedio_horas_operacion = [c.replace(',', '.') for c in data_BESS_and_solar_filtrada_cap_informada['Número de Hrs almacenamiento']]\n",
    "promedio_horas_operacion_final = [float(c) for c in promedio_horas_operacion]\n",
    "len(promedio_horas_operacion_final)\n",
    "valor_promedio_horas_operacion_BESS = sum(promedio_horas_operacion_final)/len(promedio_horas_operacion_final)\n",
    "print(\"valor_promedio_horas_operacion_BESS Híbridas (Solar+BESS)\",np.round(valor_promedio_horas_operacion_BESS,decimals = 2),\"Hrs\")\n",
    "promedio_horas_operacion_final"
   ]
  },
  {
   "cell_type": "code",
   "execution_count": 200,
   "id": "764ef5f8",
   "metadata": {},
   "outputs": [],
   "source": [
    "df_grafica_horas_operacion = data_BESS_and_solar_filtrada_cap_informada[[\"Comuna\",\n",
    "                                                                        \"Número de Hrs almacenamiento\"]]"
   ]
  },
  {
   "cell_type": "code",
   "execution_count": 201,
   "id": "3cb72423",
   "metadata": {},
   "outputs": [
    {
     "data": {
      "text/html": [
       "<div>\n",
       "<style scoped>\n",
       "    .dataframe tbody tr th:only-of-type {\n",
       "        vertical-align: middle;\n",
       "    }\n",
       "\n",
       "    .dataframe tbody tr th {\n",
       "        vertical-align: top;\n",
       "    }\n",
       "\n",
       "    .dataframe thead th {\n",
       "        text-align: right;\n",
       "    }\n",
       "</style>\n",
       "<table border=\"1\" class=\"dataframe\">\n",
       "  <thead>\n",
       "    <tr style=\"text-align: right;\">\n",
       "      <th></th>\n",
       "      <th>Comuna</th>\n",
       "      <th>Número de Hrs almacenamiento</th>\n",
       "    </tr>\n",
       "  </thead>\n",
       "  <tbody>\n",
       "    <tr>\n",
       "      <th>0</th>\n",
       "      <td>Puchuncaví</td>\n",
       "      <td>3</td>\n",
       "    </tr>\n",
       "    <tr>\n",
       "      <th>1</th>\n",
       "      <td>Pozo Almonte</td>\n",
       "      <td>4,03</td>\n",
       "    </tr>\n",
       "    <tr>\n",
       "      <th>2</th>\n",
       "      <td>San Fernando</td>\n",
       "      <td>4,3</td>\n",
       "    </tr>\n",
       "    <tr>\n",
       "      <th>3</th>\n",
       "      <td>Sierra Gorda</td>\n",
       "      <td>3,5</td>\n",
       "    </tr>\n",
       "    <tr>\n",
       "      <th>4</th>\n",
       "      <td>Copiapó</td>\n",
       "      <td>5,1</td>\n",
       "    </tr>\n",
       "    <tr>\n",
       "      <th>5</th>\n",
       "      <td>Peralillo</td>\n",
       "      <td>6</td>\n",
       "    </tr>\n",
       "  </tbody>\n",
       "</table>\n",
       "</div>"
      ],
      "text/plain": [
       "         Comuna Número de Hrs almacenamiento\n",
       "0    Puchuncaví                            3\n",
       "1  Pozo Almonte                         4,03\n",
       "2  San Fernando                          4,3\n",
       "3  Sierra Gorda                          3,5\n",
       "4       Copiapó                          5,1\n",
       "5     Peralillo                            6"
      ]
     },
     "execution_count": 201,
     "metadata": {},
     "output_type": "execute_result"
    }
   ],
   "source": [
    "df_grafica_horas_operacion"
   ]
  },
  {
   "cell_type": "code",
   "execution_count": 202,
   "id": "af1cb732",
   "metadata": {},
   "outputs": [
    {
     "data": {
      "text/html": [
       "<div>\n",
       "<style scoped>\n",
       "    .dataframe tbody tr th:only-of-type {\n",
       "        vertical-align: middle;\n",
       "    }\n",
       "\n",
       "    .dataframe tbody tr th {\n",
       "        vertical-align: top;\n",
       "    }\n",
       "\n",
       "    .dataframe thead th {\n",
       "        text-align: right;\n",
       "    }\n",
       "</style>\n",
       "<table border=\"1\" class=\"dataframe\">\n",
       "  <thead>\n",
       "    <tr style=\"text-align: right;\">\n",
       "      <th></th>\n",
       "      <th>number of hours of storage/discharge</th>\n",
       "    </tr>\n",
       "    <tr>\n",
       "      <th>Comuna</th>\n",
       "      <th></th>\n",
       "    </tr>\n",
       "  </thead>\n",
       "  <tbody>\n",
       "    <tr>\n",
       "      <th>Puchuncaví</th>\n",
       "      <td>3.00</td>\n",
       "    </tr>\n",
       "    <tr>\n",
       "      <th>Pozo Almonte</th>\n",
       "      <td>4.03</td>\n",
       "    </tr>\n",
       "    <tr>\n",
       "      <th>San Fernando</th>\n",
       "      <td>4.30</td>\n",
       "    </tr>\n",
       "    <tr>\n",
       "      <th>Sierra Gorda</th>\n",
       "      <td>3.50</td>\n",
       "    </tr>\n",
       "    <tr>\n",
       "      <th>Copiapó</th>\n",
       "      <td>5.10</td>\n",
       "    </tr>\n",
       "    <tr>\n",
       "      <th>Peralillo</th>\n",
       "      <td>6.00</td>\n",
       "    </tr>\n",
       "  </tbody>\n",
       "</table>\n",
       "</div>"
      ],
      "text/plain": [
       "              number of hours of storage/discharge\n",
       "Comuna                                            \n",
       "Puchuncaví                                    3.00\n",
       "Pozo Almonte                                  4.03\n",
       "San Fernando                                  4.30\n",
       "Sierra Gorda                                  3.50\n",
       "Copiapó                                       5.10\n",
       "Peralillo                                     6.00"
      ]
     },
     "execution_count": 202,
     "metadata": {},
     "output_type": "execute_result"
    }
   ],
   "source": [
    "df_grafica_horas_operacion\n",
    "df_grafica_horas_operacion['number of hours of storage/discharge'] = promedio_horas_operacion_final\n",
    "df_grafica_horas_operacion\n",
    "dfi = df_grafica_horas_operacion[['Comuna','number of hours of storage/discharge']]\n",
    "dfi\n",
    "\n",
    "##dfi = df_grafica_horas_operacion.set_index('Región')\n",
    "#dfi\n",
    "dfi2 = dfi.set_index('Comuna')\n",
    "dfi2\n",
    "##mayor capacidad instalada: \n",
    "##dfi2 = df_grafica_horas_operacion.sort_values('Número de Hrs almacenamiento',ascending=False)\n",
    "##dfi2"
   ]
  },
  {
   "cell_type": "code",
   "execution_count": 204,
   "id": "c5692308",
   "metadata": {
    "scrolled": true
   },
   "outputs": [
    {
     "data": {
      "application/vnd.plotly.v1+json": {
       "config": {
        "linkText": "Export to plot.ly",
        "plotlyServerURL": "https://plot.ly",
        "showLink": true
       },
       "data": [
        {
         "marker": {
          "color": "rgba(255, 153, 51, 0.6)",
          "line": {
           "color": "rgba(255, 153, 51, 1.0)",
           "width": 1
          }
         },
         "name": "number of hours of storage/discharge",
         "orientation": "v",
         "text": "",
         "type": "bar",
         "x": [
          "Puchuncaví",
          "Pozo Almonte",
          "San Fernando",
          "Sierra Gorda",
          "Copiapó",
          "Peralillo"
         ],
         "y": [
          3,
          4.03,
          4.3,
          3.5,
          5.1,
          6
         ]
        }
       ],
       "layout": {
        "legend": {
         "bgcolor": "#FFFFFF",
         "font": {
          "color": "#4D5663"
         }
        },
        "paper_bgcolor": "#FFFFFF",
        "plot_bgcolor": "#FFFFFF",
        "template": {
         "data": {
          "bar": [
           {
            "error_x": {
             "color": "#2a3f5f"
            },
            "error_y": {
             "color": "#2a3f5f"
            },
            "marker": {
             "line": {
              "color": "#E5ECF6",
              "width": 0.5
             },
             "pattern": {
              "fillmode": "overlay",
              "size": 10,
              "solidity": 0.2
             }
            },
            "type": "bar"
           }
          ],
          "barpolar": [
           {
            "marker": {
             "line": {
              "color": "#E5ECF6",
              "width": 0.5
             },
             "pattern": {
              "fillmode": "overlay",
              "size": 10,
              "solidity": 0.2
             }
            },
            "type": "barpolar"
           }
          ],
          "carpet": [
           {
            "aaxis": {
             "endlinecolor": "#2a3f5f",
             "gridcolor": "white",
             "linecolor": "white",
             "minorgridcolor": "white",
             "startlinecolor": "#2a3f5f"
            },
            "baxis": {
             "endlinecolor": "#2a3f5f",
             "gridcolor": "white",
             "linecolor": "white",
             "minorgridcolor": "white",
             "startlinecolor": "#2a3f5f"
            },
            "type": "carpet"
           }
          ],
          "choropleth": [
           {
            "colorbar": {
             "outlinewidth": 0,
             "ticks": ""
            },
            "type": "choropleth"
           }
          ],
          "contour": [
           {
            "colorbar": {
             "outlinewidth": 0,
             "ticks": ""
            },
            "colorscale": [
             [
              0,
              "#0d0887"
             ],
             [
              0.1111111111111111,
              "#46039f"
             ],
             [
              0.2222222222222222,
              "#7201a8"
             ],
             [
              0.3333333333333333,
              "#9c179e"
             ],
             [
              0.4444444444444444,
              "#bd3786"
             ],
             [
              0.5555555555555556,
              "#d8576b"
             ],
             [
              0.6666666666666666,
              "#ed7953"
             ],
             [
              0.7777777777777778,
              "#fb9f3a"
             ],
             [
              0.8888888888888888,
              "#fdca26"
             ],
             [
              1,
              "#f0f921"
             ]
            ],
            "type": "contour"
           }
          ],
          "contourcarpet": [
           {
            "colorbar": {
             "outlinewidth": 0,
             "ticks": ""
            },
            "type": "contourcarpet"
           }
          ],
          "heatmap": [
           {
            "colorbar": {
             "outlinewidth": 0,
             "ticks": ""
            },
            "colorscale": [
             [
              0,
              "#0d0887"
             ],
             [
              0.1111111111111111,
              "#46039f"
             ],
             [
              0.2222222222222222,
              "#7201a8"
             ],
             [
              0.3333333333333333,
              "#9c179e"
             ],
             [
              0.4444444444444444,
              "#bd3786"
             ],
             [
              0.5555555555555556,
              "#d8576b"
             ],
             [
              0.6666666666666666,
              "#ed7953"
             ],
             [
              0.7777777777777778,
              "#fb9f3a"
             ],
             [
              0.8888888888888888,
              "#fdca26"
             ],
             [
              1,
              "#f0f921"
             ]
            ],
            "type": "heatmap"
           }
          ],
          "heatmapgl": [
           {
            "colorbar": {
             "outlinewidth": 0,
             "ticks": ""
            },
            "colorscale": [
             [
              0,
              "#0d0887"
             ],
             [
              0.1111111111111111,
              "#46039f"
             ],
             [
              0.2222222222222222,
              "#7201a8"
             ],
             [
              0.3333333333333333,
              "#9c179e"
             ],
             [
              0.4444444444444444,
              "#bd3786"
             ],
             [
              0.5555555555555556,
              "#d8576b"
             ],
             [
              0.6666666666666666,
              "#ed7953"
             ],
             [
              0.7777777777777778,
              "#fb9f3a"
             ],
             [
              0.8888888888888888,
              "#fdca26"
             ],
             [
              1,
              "#f0f921"
             ]
            ],
            "type": "heatmapgl"
           }
          ],
          "histogram": [
           {
            "marker": {
             "pattern": {
              "fillmode": "overlay",
              "size": 10,
              "solidity": 0.2
             }
            },
            "type": "histogram"
           }
          ],
          "histogram2d": [
           {
            "colorbar": {
             "outlinewidth": 0,
             "ticks": ""
            },
            "colorscale": [
             [
              0,
              "#0d0887"
             ],
             [
              0.1111111111111111,
              "#46039f"
             ],
             [
              0.2222222222222222,
              "#7201a8"
             ],
             [
              0.3333333333333333,
              "#9c179e"
             ],
             [
              0.4444444444444444,
              "#bd3786"
             ],
             [
              0.5555555555555556,
              "#d8576b"
             ],
             [
              0.6666666666666666,
              "#ed7953"
             ],
             [
              0.7777777777777778,
              "#fb9f3a"
             ],
             [
              0.8888888888888888,
              "#fdca26"
             ],
             [
              1,
              "#f0f921"
             ]
            ],
            "type": "histogram2d"
           }
          ],
          "histogram2dcontour": [
           {
            "colorbar": {
             "outlinewidth": 0,
             "ticks": ""
            },
            "colorscale": [
             [
              0,
              "#0d0887"
             ],
             [
              0.1111111111111111,
              "#46039f"
             ],
             [
              0.2222222222222222,
              "#7201a8"
             ],
             [
              0.3333333333333333,
              "#9c179e"
             ],
             [
              0.4444444444444444,
              "#bd3786"
             ],
             [
              0.5555555555555556,
              "#d8576b"
             ],
             [
              0.6666666666666666,
              "#ed7953"
             ],
             [
              0.7777777777777778,
              "#fb9f3a"
             ],
             [
              0.8888888888888888,
              "#fdca26"
             ],
             [
              1,
              "#f0f921"
             ]
            ],
            "type": "histogram2dcontour"
           }
          ],
          "mesh3d": [
           {
            "colorbar": {
             "outlinewidth": 0,
             "ticks": ""
            },
            "type": "mesh3d"
           }
          ],
          "parcoords": [
           {
            "line": {
             "colorbar": {
              "outlinewidth": 0,
              "ticks": ""
             }
            },
            "type": "parcoords"
           }
          ],
          "pie": [
           {
            "automargin": true,
            "type": "pie"
           }
          ],
          "scatter": [
           {
            "fillpattern": {
             "fillmode": "overlay",
             "size": 10,
             "solidity": 0.2
            },
            "type": "scatter"
           }
          ],
          "scatter3d": [
           {
            "line": {
             "colorbar": {
              "outlinewidth": 0,
              "ticks": ""
             }
            },
            "marker": {
             "colorbar": {
              "outlinewidth": 0,
              "ticks": ""
             }
            },
            "type": "scatter3d"
           }
          ],
          "scattercarpet": [
           {
            "marker": {
             "colorbar": {
              "outlinewidth": 0,
              "ticks": ""
             }
            },
            "type": "scattercarpet"
           }
          ],
          "scattergeo": [
           {
            "marker": {
             "colorbar": {
              "outlinewidth": 0,
              "ticks": ""
             }
            },
            "type": "scattergeo"
           }
          ],
          "scattergl": [
           {
            "marker": {
             "colorbar": {
              "outlinewidth": 0,
              "ticks": ""
             }
            },
            "type": "scattergl"
           }
          ],
          "scattermapbox": [
           {
            "marker": {
             "colorbar": {
              "outlinewidth": 0,
              "ticks": ""
             }
            },
            "type": "scattermapbox"
           }
          ],
          "scatterpolar": [
           {
            "marker": {
             "colorbar": {
              "outlinewidth": 0,
              "ticks": ""
             }
            },
            "type": "scatterpolar"
           }
          ],
          "scatterpolargl": [
           {
            "marker": {
             "colorbar": {
              "outlinewidth": 0,
              "ticks": ""
             }
            },
            "type": "scatterpolargl"
           }
          ],
          "scatterternary": [
           {
            "marker": {
             "colorbar": {
              "outlinewidth": 0,
              "ticks": ""
             }
            },
            "type": "scatterternary"
           }
          ],
          "surface": [
           {
            "colorbar": {
             "outlinewidth": 0,
             "ticks": ""
            },
            "colorscale": [
             [
              0,
              "#0d0887"
             ],
             [
              0.1111111111111111,
              "#46039f"
             ],
             [
              0.2222222222222222,
              "#7201a8"
             ],
             [
              0.3333333333333333,
              "#9c179e"
             ],
             [
              0.4444444444444444,
              "#bd3786"
             ],
             [
              0.5555555555555556,
              "#d8576b"
             ],
             [
              0.6666666666666666,
              "#ed7953"
             ],
             [
              0.7777777777777778,
              "#fb9f3a"
             ],
             [
              0.8888888888888888,
              "#fdca26"
             ],
             [
              1,
              "#f0f921"
             ]
            ],
            "type": "surface"
           }
          ],
          "table": [
           {
            "cells": {
             "fill": {
              "color": "#EBF0F8"
             },
             "line": {
              "color": "white"
             }
            },
            "header": {
             "fill": {
              "color": "#C8D4E3"
             },
             "line": {
              "color": "white"
             }
            },
            "type": "table"
           }
          ]
         },
         "layout": {
          "annotationdefaults": {
           "arrowcolor": "#2a3f5f",
           "arrowhead": 0,
           "arrowwidth": 1
          },
          "autotypenumbers": "strict",
          "coloraxis": {
           "colorbar": {
            "outlinewidth": 0,
            "ticks": ""
           }
          },
          "colorscale": {
           "diverging": [
            [
             0,
             "#8e0152"
            ],
            [
             0.1,
             "#c51b7d"
            ],
            [
             0.2,
             "#de77ae"
            ],
            [
             0.3,
             "#f1b6da"
            ],
            [
             0.4,
             "#fde0ef"
            ],
            [
             0.5,
             "#f7f7f7"
            ],
            [
             0.6,
             "#e6f5d0"
            ],
            [
             0.7,
             "#b8e186"
            ],
            [
             0.8,
             "#7fbc41"
            ],
            [
             0.9,
             "#4d9221"
            ],
            [
             1,
             "#276419"
            ]
           ],
           "sequential": [
            [
             0,
             "#0d0887"
            ],
            [
             0.1111111111111111,
             "#46039f"
            ],
            [
             0.2222222222222222,
             "#7201a8"
            ],
            [
             0.3333333333333333,
             "#9c179e"
            ],
            [
             0.4444444444444444,
             "#bd3786"
            ],
            [
             0.5555555555555556,
             "#d8576b"
            ],
            [
             0.6666666666666666,
             "#ed7953"
            ],
            [
             0.7777777777777778,
             "#fb9f3a"
            ],
            [
             0.8888888888888888,
             "#fdca26"
            ],
            [
             1,
             "#f0f921"
            ]
           ],
           "sequentialminus": [
            [
             0,
             "#0d0887"
            ],
            [
             0.1111111111111111,
             "#46039f"
            ],
            [
             0.2222222222222222,
             "#7201a8"
            ],
            [
             0.3333333333333333,
             "#9c179e"
            ],
            [
             0.4444444444444444,
             "#bd3786"
            ],
            [
             0.5555555555555556,
             "#d8576b"
            ],
            [
             0.6666666666666666,
             "#ed7953"
            ],
            [
             0.7777777777777778,
             "#fb9f3a"
            ],
            [
             0.8888888888888888,
             "#fdca26"
            ],
            [
             1,
             "#f0f921"
            ]
           ]
          },
          "colorway": [
           "#636efa",
           "#EF553B",
           "#00cc96",
           "#ab63fa",
           "#FFA15A",
           "#19d3f3",
           "#FF6692",
           "#B6E880",
           "#FF97FF",
           "#FECB52"
          ],
          "font": {
           "color": "#2a3f5f"
          },
          "geo": {
           "bgcolor": "white",
           "lakecolor": "white",
           "landcolor": "#E5ECF6",
           "showlakes": true,
           "showland": true,
           "subunitcolor": "white"
          },
          "hoverlabel": {
           "align": "left"
          },
          "hovermode": "closest",
          "mapbox": {
           "style": "light"
          },
          "paper_bgcolor": "white",
          "plot_bgcolor": "#E5ECF6",
          "polar": {
           "angularaxis": {
            "gridcolor": "white",
            "linecolor": "white",
            "ticks": ""
           },
           "bgcolor": "#E5ECF6",
           "radialaxis": {
            "gridcolor": "white",
            "linecolor": "white",
            "ticks": ""
           }
          },
          "scene": {
           "xaxis": {
            "backgroundcolor": "#E5ECF6",
            "gridcolor": "white",
            "gridwidth": 2,
            "linecolor": "white",
            "showbackground": true,
            "ticks": "",
            "zerolinecolor": "white"
           },
           "yaxis": {
            "backgroundcolor": "#E5ECF6",
            "gridcolor": "white",
            "gridwidth": 2,
            "linecolor": "white",
            "showbackground": true,
            "ticks": "",
            "zerolinecolor": "white"
           },
           "zaxis": {
            "backgroundcolor": "#E5ECF6",
            "gridcolor": "white",
            "gridwidth": 2,
            "linecolor": "white",
            "showbackground": true,
            "ticks": "",
            "zerolinecolor": "white"
           }
          },
          "shapedefaults": {
           "line": {
            "color": "#2a3f5f"
           }
          },
          "ternary": {
           "aaxis": {
            "gridcolor": "white",
            "linecolor": "white",
            "ticks": ""
           },
           "baxis": {
            "gridcolor": "white",
            "linecolor": "white",
            "ticks": ""
           },
           "bgcolor": "#E5ECF6",
           "caxis": {
            "gridcolor": "white",
            "linecolor": "white",
            "ticks": ""
           }
          },
          "title": {
           "x": 0.05
          },
          "xaxis": {
           "automargin": true,
           "gridcolor": "white",
           "linecolor": "white",
           "ticks": "",
           "title": {
            "standoff": 15
           },
           "zerolinecolor": "white",
           "zerolinewidth": 2
          },
          "yaxis": {
           "automargin": true,
           "gridcolor": "white",
           "linecolor": "white",
           "ticks": "",
           "title": {
            "standoff": 15
           },
           "zerolinecolor": "white",
           "zerolinewidth": 2
          }
         }
        },
        "title": {
         "font": {
          "color": "#4D5663"
         },
         "text": "Storage time behavior by Commune Proyect BESS+Solar"
        },
        "xaxis": {
         "gridcolor": "#E1E5ED",
         "showgrid": true,
         "tickfont": {
          "color": "#4D5663"
         },
         "title": {
          "font": {
           "color": "#4D5663"
          },
          "text": "commune"
         },
         "zerolinecolor": "#E1E5ED"
        },
        "yaxis": {
         "gridcolor": "#E1E5ED",
         "showgrid": true,
         "tickfont": {
          "color": "#4D5663"
         },
         "title": {
          "font": {
           "color": "#4D5663"
          },
          "text": "Number of Hrs storage"
         },
         "zerolinecolor": "#E1E5ED"
        }
       }
      },
      "text/html": [
       "<div>                            <div id=\"bd86f9b2-4b0e-40f8-8ff7-8ff19102e10c\" class=\"plotly-graph-div\" style=\"height:525px; width:100%;\"></div>            <script type=\"text/javascript\">                require([\"plotly\"], function(Plotly) {                    window.PLOTLYENV=window.PLOTLYENV || {};\n",
       "                    window.PLOTLYENV.BASE_URL='https://plot.ly';                                    if (document.getElementById(\"bd86f9b2-4b0e-40f8-8ff7-8ff19102e10c\")) {                    Plotly.newPlot(                        \"bd86f9b2-4b0e-40f8-8ff7-8ff19102e10c\",                        [{\"marker\":{\"color\":\"rgba(255, 153, 51, 0.6)\",\"line\":{\"color\":\"rgba(255, 153, 51, 1.0)\",\"width\":1}},\"name\":\"number of hours of storage/discharge\",\"orientation\":\"v\",\"text\":\"\",\"x\":[\"Puchuncav\\u00ed\",\"Pozo Almonte\",\"San Fernando\",\"Sierra Gorda\",\"Copiap\\u00f3\",\"Peralillo\"],\"y\":[3.0,4.03,4.3,3.5,5.1,6.0],\"type\":\"bar\"}],                        {\"legend\":{\"bgcolor\":\"#FFFFFF\",\"font\":{\"color\":\"#4D5663\"}},\"paper_bgcolor\":\"#FFFFFF\",\"plot_bgcolor\":\"#FFFFFF\",\"template\":{\"data\":{\"barpolar\":[{\"marker\":{\"line\":{\"color\":\"#E5ECF6\",\"width\":0.5},\"pattern\":{\"fillmode\":\"overlay\",\"size\":10,\"solidity\":0.2}},\"type\":\"barpolar\"}],\"bar\":[{\"error_x\":{\"color\":\"#2a3f5f\"},\"error_y\":{\"color\":\"#2a3f5f\"},\"marker\":{\"line\":{\"color\":\"#E5ECF6\",\"width\":0.5},\"pattern\":{\"fillmode\":\"overlay\",\"size\":10,\"solidity\":0.2}},\"type\":\"bar\"}],\"carpet\":[{\"aaxis\":{\"endlinecolor\":\"#2a3f5f\",\"gridcolor\":\"white\",\"linecolor\":\"white\",\"minorgridcolor\":\"white\",\"startlinecolor\":\"#2a3f5f\"},\"baxis\":{\"endlinecolor\":\"#2a3f5f\",\"gridcolor\":\"white\",\"linecolor\":\"white\",\"minorgridcolor\":\"white\",\"startlinecolor\":\"#2a3f5f\"},\"type\":\"carpet\"}],\"choropleth\":[{\"colorbar\":{\"outlinewidth\":0,\"ticks\":\"\"},\"type\":\"choropleth\"}],\"contourcarpet\":[{\"colorbar\":{\"outlinewidth\":0,\"ticks\":\"\"},\"type\":\"contourcarpet\"}],\"contour\":[{\"colorbar\":{\"outlinewidth\":0,\"ticks\":\"\"},\"colorscale\":[[0.0,\"#0d0887\"],[0.1111111111111111,\"#46039f\"],[0.2222222222222222,\"#7201a8\"],[0.3333333333333333,\"#9c179e\"],[0.4444444444444444,\"#bd3786\"],[0.5555555555555556,\"#d8576b\"],[0.6666666666666666,\"#ed7953\"],[0.7777777777777778,\"#fb9f3a\"],[0.8888888888888888,\"#fdca26\"],[1.0,\"#f0f921\"]],\"type\":\"contour\"}],\"heatmapgl\":[{\"colorbar\":{\"outlinewidth\":0,\"ticks\":\"\"},\"colorscale\":[[0.0,\"#0d0887\"],[0.1111111111111111,\"#46039f\"],[0.2222222222222222,\"#7201a8\"],[0.3333333333333333,\"#9c179e\"],[0.4444444444444444,\"#bd3786\"],[0.5555555555555556,\"#d8576b\"],[0.6666666666666666,\"#ed7953\"],[0.7777777777777778,\"#fb9f3a\"],[0.8888888888888888,\"#fdca26\"],[1.0,\"#f0f921\"]],\"type\":\"heatmapgl\"}],\"heatmap\":[{\"colorbar\":{\"outlinewidth\":0,\"ticks\":\"\"},\"colorscale\":[[0.0,\"#0d0887\"],[0.1111111111111111,\"#46039f\"],[0.2222222222222222,\"#7201a8\"],[0.3333333333333333,\"#9c179e\"],[0.4444444444444444,\"#bd3786\"],[0.5555555555555556,\"#d8576b\"],[0.6666666666666666,\"#ed7953\"],[0.7777777777777778,\"#fb9f3a\"],[0.8888888888888888,\"#fdca26\"],[1.0,\"#f0f921\"]],\"type\":\"heatmap\"}],\"histogram2dcontour\":[{\"colorbar\":{\"outlinewidth\":0,\"ticks\":\"\"},\"colorscale\":[[0.0,\"#0d0887\"],[0.1111111111111111,\"#46039f\"],[0.2222222222222222,\"#7201a8\"],[0.3333333333333333,\"#9c179e\"],[0.4444444444444444,\"#bd3786\"],[0.5555555555555556,\"#d8576b\"],[0.6666666666666666,\"#ed7953\"],[0.7777777777777778,\"#fb9f3a\"],[0.8888888888888888,\"#fdca26\"],[1.0,\"#f0f921\"]],\"type\":\"histogram2dcontour\"}],\"histogram2d\":[{\"colorbar\":{\"outlinewidth\":0,\"ticks\":\"\"},\"colorscale\":[[0.0,\"#0d0887\"],[0.1111111111111111,\"#46039f\"],[0.2222222222222222,\"#7201a8\"],[0.3333333333333333,\"#9c179e\"],[0.4444444444444444,\"#bd3786\"],[0.5555555555555556,\"#d8576b\"],[0.6666666666666666,\"#ed7953\"],[0.7777777777777778,\"#fb9f3a\"],[0.8888888888888888,\"#fdca26\"],[1.0,\"#f0f921\"]],\"type\":\"histogram2d\"}],\"histogram\":[{\"marker\":{\"pattern\":{\"fillmode\":\"overlay\",\"size\":10,\"solidity\":0.2}},\"type\":\"histogram\"}],\"mesh3d\":[{\"colorbar\":{\"outlinewidth\":0,\"ticks\":\"\"},\"type\":\"mesh3d\"}],\"parcoords\":[{\"line\":{\"colorbar\":{\"outlinewidth\":0,\"ticks\":\"\"}},\"type\":\"parcoords\"}],\"pie\":[{\"automargin\":true,\"type\":\"pie\"}],\"scatter3d\":[{\"line\":{\"colorbar\":{\"outlinewidth\":0,\"ticks\":\"\"}},\"marker\":{\"colorbar\":{\"outlinewidth\":0,\"ticks\":\"\"}},\"type\":\"scatter3d\"}],\"scattercarpet\":[{\"marker\":{\"colorbar\":{\"outlinewidth\":0,\"ticks\":\"\"}},\"type\":\"scattercarpet\"}],\"scattergeo\":[{\"marker\":{\"colorbar\":{\"outlinewidth\":0,\"ticks\":\"\"}},\"type\":\"scattergeo\"}],\"scattergl\":[{\"marker\":{\"colorbar\":{\"outlinewidth\":0,\"ticks\":\"\"}},\"type\":\"scattergl\"}],\"scattermapbox\":[{\"marker\":{\"colorbar\":{\"outlinewidth\":0,\"ticks\":\"\"}},\"type\":\"scattermapbox\"}],\"scatterpolargl\":[{\"marker\":{\"colorbar\":{\"outlinewidth\":0,\"ticks\":\"\"}},\"type\":\"scatterpolargl\"}],\"scatterpolar\":[{\"marker\":{\"colorbar\":{\"outlinewidth\":0,\"ticks\":\"\"}},\"type\":\"scatterpolar\"}],\"scatter\":[{\"fillpattern\":{\"fillmode\":\"overlay\",\"size\":10,\"solidity\":0.2},\"type\":\"scatter\"}],\"scatterternary\":[{\"marker\":{\"colorbar\":{\"outlinewidth\":0,\"ticks\":\"\"}},\"type\":\"scatterternary\"}],\"surface\":[{\"colorbar\":{\"outlinewidth\":0,\"ticks\":\"\"},\"colorscale\":[[0.0,\"#0d0887\"],[0.1111111111111111,\"#46039f\"],[0.2222222222222222,\"#7201a8\"],[0.3333333333333333,\"#9c179e\"],[0.4444444444444444,\"#bd3786\"],[0.5555555555555556,\"#d8576b\"],[0.6666666666666666,\"#ed7953\"],[0.7777777777777778,\"#fb9f3a\"],[0.8888888888888888,\"#fdca26\"],[1.0,\"#f0f921\"]],\"type\":\"surface\"}],\"table\":[{\"cells\":{\"fill\":{\"color\":\"#EBF0F8\"},\"line\":{\"color\":\"white\"}},\"header\":{\"fill\":{\"color\":\"#C8D4E3\"},\"line\":{\"color\":\"white\"}},\"type\":\"table\"}]},\"layout\":{\"annotationdefaults\":{\"arrowcolor\":\"#2a3f5f\",\"arrowhead\":0,\"arrowwidth\":1},\"autotypenumbers\":\"strict\",\"coloraxis\":{\"colorbar\":{\"outlinewidth\":0,\"ticks\":\"\"}},\"colorscale\":{\"diverging\":[[0,\"#8e0152\"],[0.1,\"#c51b7d\"],[0.2,\"#de77ae\"],[0.3,\"#f1b6da\"],[0.4,\"#fde0ef\"],[0.5,\"#f7f7f7\"],[0.6,\"#e6f5d0\"],[0.7,\"#b8e186\"],[0.8,\"#7fbc41\"],[0.9,\"#4d9221\"],[1,\"#276419\"]],\"sequential\":[[0.0,\"#0d0887\"],[0.1111111111111111,\"#46039f\"],[0.2222222222222222,\"#7201a8\"],[0.3333333333333333,\"#9c179e\"],[0.4444444444444444,\"#bd3786\"],[0.5555555555555556,\"#d8576b\"],[0.6666666666666666,\"#ed7953\"],[0.7777777777777778,\"#fb9f3a\"],[0.8888888888888888,\"#fdca26\"],[1.0,\"#f0f921\"]],\"sequentialminus\":[[0.0,\"#0d0887\"],[0.1111111111111111,\"#46039f\"],[0.2222222222222222,\"#7201a8\"],[0.3333333333333333,\"#9c179e\"],[0.4444444444444444,\"#bd3786\"],[0.5555555555555556,\"#d8576b\"],[0.6666666666666666,\"#ed7953\"],[0.7777777777777778,\"#fb9f3a\"],[0.8888888888888888,\"#fdca26\"],[1.0,\"#f0f921\"]]},\"colorway\":[\"#636efa\",\"#EF553B\",\"#00cc96\",\"#ab63fa\",\"#FFA15A\",\"#19d3f3\",\"#FF6692\",\"#B6E880\",\"#FF97FF\",\"#FECB52\"],\"font\":{\"color\":\"#2a3f5f\"},\"geo\":{\"bgcolor\":\"white\",\"lakecolor\":\"white\",\"landcolor\":\"#E5ECF6\",\"showlakes\":true,\"showland\":true,\"subunitcolor\":\"white\"},\"hoverlabel\":{\"align\":\"left\"},\"hovermode\":\"closest\",\"mapbox\":{\"style\":\"light\"},\"paper_bgcolor\":\"white\",\"plot_bgcolor\":\"#E5ECF6\",\"polar\":{\"angularaxis\":{\"gridcolor\":\"white\",\"linecolor\":\"white\",\"ticks\":\"\"},\"bgcolor\":\"#E5ECF6\",\"radialaxis\":{\"gridcolor\":\"white\",\"linecolor\":\"white\",\"ticks\":\"\"}},\"scene\":{\"xaxis\":{\"backgroundcolor\":\"#E5ECF6\",\"gridcolor\":\"white\",\"gridwidth\":2,\"linecolor\":\"white\",\"showbackground\":true,\"ticks\":\"\",\"zerolinecolor\":\"white\"},\"yaxis\":{\"backgroundcolor\":\"#E5ECF6\",\"gridcolor\":\"white\",\"gridwidth\":2,\"linecolor\":\"white\",\"showbackground\":true,\"ticks\":\"\",\"zerolinecolor\":\"white\"},\"zaxis\":{\"backgroundcolor\":\"#E5ECF6\",\"gridcolor\":\"white\",\"gridwidth\":2,\"linecolor\":\"white\",\"showbackground\":true,\"ticks\":\"\",\"zerolinecolor\":\"white\"}},\"shapedefaults\":{\"line\":{\"color\":\"#2a3f5f\"}},\"ternary\":{\"aaxis\":{\"gridcolor\":\"white\",\"linecolor\":\"white\",\"ticks\":\"\"},\"baxis\":{\"gridcolor\":\"white\",\"linecolor\":\"white\",\"ticks\":\"\"},\"bgcolor\":\"#E5ECF6\",\"caxis\":{\"gridcolor\":\"white\",\"linecolor\":\"white\",\"ticks\":\"\"}},\"title\":{\"x\":0.05},\"xaxis\":{\"automargin\":true,\"gridcolor\":\"white\",\"linecolor\":\"white\",\"ticks\":\"\",\"title\":{\"standoff\":15},\"zerolinecolor\":\"white\",\"zerolinewidth\":2},\"yaxis\":{\"automargin\":true,\"gridcolor\":\"white\",\"linecolor\":\"white\",\"ticks\":\"\",\"title\":{\"standoff\":15},\"zerolinecolor\":\"white\",\"zerolinewidth\":2}}},\"title\":{\"font\":{\"color\":\"#4D5663\"},\"text\":\"Storage time behavior by Commune Proyect BESS+Solar\"},\"xaxis\":{\"gridcolor\":\"#E1E5ED\",\"showgrid\":true,\"tickfont\":{\"color\":\"#4D5663\"},\"title\":{\"font\":{\"color\":\"#4D5663\"},\"text\":\"commune\"},\"zerolinecolor\":\"#E1E5ED\"},\"yaxis\":{\"gridcolor\":\"#E1E5ED\",\"showgrid\":true,\"tickfont\":{\"color\":\"#4D5663\"},\"title\":{\"font\":{\"color\":\"#4D5663\"},\"text\":\"Number of Hrs storage\"},\"zerolinecolor\":\"#E1E5ED\"}},                        {\"showLink\": true, \"linkText\": \"Export to plot.ly\", \"plotlyServerURL\": \"https://plot.ly\", \"responsive\": true}                    ).then(function(){\n",
       "                            \n",
       "var gd = document.getElementById('bd86f9b2-4b0e-40f8-8ff7-8ff19102e10c');\n",
       "var x = new MutationObserver(function (mutations, observer) {{\n",
       "        var display = window.getComputedStyle(gd).display;\n",
       "        if (!display || display === 'none') {{\n",
       "            console.log([gd, 'removed!']);\n",
       "            Plotly.purge(gd);\n",
       "            observer.disconnect();\n",
       "        }}\n",
       "}});\n",
       "\n",
       "// Listen for the removal of the full notebook cells\n",
       "var notebookContainer = gd.closest('#notebook-container');\n",
       "if (notebookContainer) {{\n",
       "    x.observe(notebookContainer, {childList: true});\n",
       "}}\n",
       "\n",
       "// Listen for the clearing of the current output cell\n",
       "var outputEl = gd.closest('.output');\n",
       "if (outputEl) {{\n",
       "    x.observe(outputEl, {childList: true});\n",
       "}}\n",
       "\n",
       "                        })                };                });            </script>        </div>"
      ]
     },
     "metadata": {},
     "output_type": "display_data"
    }
   ],
   "source": [
    "dfi2.iplot(kind = 'bar',#x = df_grafica_horas_operacion['Región'], \n",
    "                       #         y = df_grafica_horas_operacion['number of hours of storage/discharge'],        \n",
    "           xTitle = 'commune',\n",
    "             yTitle = \"Number of Hrs storage\",title = 'Storage time behavior by Commune Proyect BESS+Solar')#,\n",
    "        #) "
   ]
  },
  {
   "cell_type": "code",
   "execution_count": 206,
   "id": "6858c630",
   "metadata": {},
   "outputs": [],
   "source": [
    "#Agrupación de proyectos según punto de conexión"
   ]
  },
  {
   "cell_type": "code",
   "execution_count": 207,
   "id": "3c13805b",
   "metadata": {},
   "outputs": [
    {
     "data": {
      "text/plain": [
       "Región                                Comuna           Punto de Conexión                               \n",
       "Antofagasta                           Antofagasta      S/E Central Lalackama 220 kV                        1\n",
       "                                      Sierra Gorda     S/E Laberinto 220 kV                                1\n",
       "Atacama                               Chañaral         Línea 1x110 kV Mantoverde - Planta de Bombeo N°2    1\n",
       "                                      Copiapó          Cerro Negro Norte - Totoralillo C1                  1\n",
       "                                                       S/E Central Luz del Norte 220 kV                    1\n",
       "                                                       S/E Seccionadora San Andrés                         1\n",
       "                                      Freirina         S/E Nueva Maitencillo 220 kV                        1\n",
       "                                      Tierra Amarilla  S/E Desierto de Atacama 33 kV                       1\n",
       "                                      Vallenar         S/E Don Héctor 220 kV                               1\n",
       "Coquimbo                              Andacollo        S/E La Ruca 220 kV                                  1\n",
       "                                      Ovalle           S/E Don Goyo 220 kV                                 1\n",
       "Libertador General Bernardo OHiggins  Marchigüe        S/E Portezuelo 110 kV                               1\n",
       "                                      Peralillo        Portezuelo 220 kV                                   1\n",
       "                                      Placilla         S/E Seccionadora Buenavista 154 kV                  1\n",
       "                                      San Fernando     Línea 2x220kV Puente Negro –La Higuera\\t            1\n",
       "Maule                                 Río Claro        S/E Los Maquis (CGE) 66 kV                          1\n",
       "Metropolitana de Santiago             Buin             S/E Fátima 154 kV                                   1\n",
       "                                      San Pedro        S/E Las Arañas 66 kV                                1\n",
       "Tarapacá                              Pozo Almonte     Línea 220 kV Lagunas - Puquios                      1\n",
       "                                                       S/E Nueva Lagunas 220 kV                            1\n",
       "                                                       S/E Nueva Pozo Almonte 220 kV                       2\n",
       "                                                       S/E San Simón 220 kV                                1\n",
       "Valparaiso                            La Ligua         Nueva S/E La Ligua 220 kV                           1\n",
       "                                      Puchuncaví       2x220 kV Nueva Ventana - Nogales                    1\n",
       "                                      Viña del Mar     S/E Agua Santa 110                                  1\n",
       "Ñuble                                 Ninhue           S/E Hualte 66 kV                                    1\n",
       "                                      Pemuco           S/E Entre Ríos 500 kV                               1\n",
       "                                      San Carlos       S/E Seccionadora Buli 66kV                          1\n",
       "Name: Proyecto, dtype: int64"
      ]
     },
     "execution_count": 207,
     "metadata": {},
     "output_type": "execute_result"
    }
   ],
   "source": [
    "puntos_conexion = data_BESS_and_solar_filtrada.groupby([\"Región\",\"Comuna\",\"Punto de Conexión\"])[\"Proyecto\"].count()\n",
    "puntos_conexion\n"
   ]
  },
  {
   "cell_type": "code",
   "execution_count": null,
   "id": "27f8d5d4",
   "metadata": {},
   "outputs": [],
   "source": [
    "#Extra:"
   ]
  },
  {
   "cell_type": "code",
   "execution_count": 215,
   "id": "5baf8502",
   "metadata": {},
   "outputs": [],
   "source": [
    "data_BESS_and_solar\n",
    "#Filtro de los datos que son informados (BESS+Solar:)\n",
    "df_BESS_and_solar_filtrada_cap_informada = data_BESS_and_solar.loc[data_BESS_and_solar[\"Capacidad BESS (MW)\"]> 0 ]\n",
    "df_BESS_and_solar_filtrada_cap_informada\n",
    "\n",
    "guarda_df_data_BESS_and_solar_filtrada = df_BESS_and_solar_filtrada_cap_informada.to_csv(\"Grid_and_zero_csv/output_data_BESS_and_solar_filtrada.csv\")\n",
    "guarda_df_data_BESS_and_solar_filtrada"
   ]
  }
 ],
 "metadata": {
  "kernelspec": {
   "display_name": "Python 3",
   "language": "python",
   "name": "python3"
  },
  "language_info": {
   "codemirror_mode": {
    "name": "ipython",
    "version": 3
   },
   "file_extension": ".py",
   "mimetype": "text/x-python",
   "name": "python",
   "nbconvert_exporter": "python",
   "pygments_lexer": "ipython3",
   "version": "3.8.8"
  }
 },
 "nbformat": 4,
 "nbformat_minor": 5
}

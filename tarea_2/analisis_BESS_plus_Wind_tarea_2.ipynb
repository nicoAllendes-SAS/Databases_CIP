{
 "cells": [
  {
   "cell_type": "code",
   "execution_count": 2,
   "id": "3f61fa8d",
   "metadata": {},
   "outputs": [
    {
     "data": {
      "text/html": [
       "        <script type=\"text/javascript\">\n",
       "        window.PlotlyConfig = {MathJaxConfig: 'local'};\n",
       "        if (window.MathJax) {MathJax.Hub.Config({SVG: {font: \"STIX-Web\"}});}\n",
       "        if (typeof require !== 'undefined') {\n",
       "        require.undef(\"plotly\");\n",
       "        requirejs.config({\n",
       "            paths: {\n",
       "                'plotly': ['https://cdn.plot.ly/plotly-2.11.1.min']\n",
       "            }\n",
       "        });\n",
       "        require(['plotly'], function(Plotly) {\n",
       "            window._Plotly = Plotly;\n",
       "        });\n",
       "        }\n",
       "        </script>\n",
       "        "
      ]
     },
     "metadata": {},
     "output_type": "display_data"
    }
   ],
   "source": [
    "#Carga de librerías#\n",
    "import pandas as pd\n",
    "import numpy as np\n",
    "import geopandas as gdp\n",
    "from shapely.geometry import Point\n",
    "%matplotlib inline\n",
    "import matplotlib.pyplot as plt\n",
    "import folium\n",
    "from folium import plugins\n",
    "import seaborn as sns\n",
    "# otras librerias\n",
    "from datetime import datetime\n",
    "import matplotlib.pyplot as matplt\n",
    "import cufflinks as cf\n",
    "from IPython.display import display,HTML\n",
    "cf.set_config_file(sharing='public',theme='white',offline=True)"
   ]
  },
  {
   "cell_type": "code",
   "execution_count": 3,
   "id": "bdf9b7bf",
   "metadata": {},
   "outputs": [
    {
     "name": "stdout",
     "output_type": "stream",
     "text": [
      "Columnas: \n",
      " Index(['Index', 'Id', 'Proyecto', 'NUP', 'Empresa Solicitante', 'Tipo',\n",
      "       'Estado Solicitud', 'Fecha Recepción', 'Capacidad [MW]',\n",
      "       'Tipo Proyecto', 'Sólo BESS', 'BESS+Solar', 'BESS+Eólico',\n",
      "       'Capacidad BESS (MW)', 'Cap. BESS + Solar (MWh)',\n",
      "       'Cap. BESS+ Eolico (MWh)', 'Número de Hrs almacenamiento',\n",
      "       'Fecha Estimada Conexión', 'Punto de Conexión', 'Nivel de tension',\n",
      "       'Barra', 'Paño', 'Región', 'Comuna', 'Segmento de Transmisión',\n",
      "       'Fecha emisión informe definitivo',\n",
      "       'Plazo obtención declaración en const',\n",
      "       'Prórroga plazo obtención declaración en const.'],\n",
      "      dtype='object')\n",
      "\n",
      "\n",
      "Empresas con sistemas BESS + WIND (Híbrido):\n",
      " ['Colbún S.A.' 'Sierra Esperanza SpA' 'Parque Eólico Carica SpA'\n",
      " 'Engie Energía Chile S.A. ' 'Trivento SpA' 'EBCO Energía S.A.'\n",
      " 'Guanaquiana SpA']\n"
     ]
    },
    {
     "data": {
      "text/plain": [
       "Index                                               int64\n",
       "Id                                                  int64\n",
       "Proyecto                                           object\n",
       "NUP                                                 int64\n",
       "Empresa Solicitante                                object\n",
       "Tipo                                               object\n",
       "Estado Solicitud                                   object\n",
       "Fecha Recepción                                    object\n",
       "Capacidad [MW]                                      int64\n",
       "Tipo Proyecto                                      object\n",
       "Sólo BESS                                          object\n",
       "BESS+Solar                                         object\n",
       "BESS+Eólico                                        object\n",
       "Capacidad BESS (MW)                               float64\n",
       "Cap. BESS + Solar (MWh)                           float64\n",
       "Cap. BESS+ Eolico (MWh)                           float64\n",
       "Número de Hrs almacenamiento                      float64\n",
       "Fecha Estimada Conexión                            object\n",
       "Punto de Conexión                                  object\n",
       "Nivel de tension                                    int64\n",
       "Barra                                              object\n",
       "Paño                                               object\n",
       "Región                                             object\n",
       "Comuna                                             object\n",
       "Segmento de Transmisión                            object\n",
       "Fecha emisión informe definitivo                   object\n",
       "Plazo obtención declaración en const               object\n",
       "Prórroga plazo obtención declaración en const.    float64\n",
       "dtype: object"
      ]
     },
     "execution_count": 3,
     "metadata": {},
     "output_type": "execute_result"
    }
   ],
   "source": [
    "#Lee el archivo...\n",
    "data_BESS_and_solar = pd.read_csv(\"Grid_and_zero_csv/BESS_and_wind.csv\",sep = \";\")# error_bad_lines=False)\n",
    "\n",
    "#visualización de las columnas:\n",
    "print(\"Columnas: \\n\",data_BESS_and_solar.columns)\n",
    "\n",
    "print(\"\\n\")\n",
    "#veamos las empresas:\n",
    "print(\"Empresas con sistemas BESS + WIND (Híbrido):\\n\",data_BESS_and_solar['Empresa Solicitante'].unique())\n",
    "\n",
    "\n",
    "data_BESS_and_solar.dtypes"
   ]
  },
  {
   "cell_type": "code",
   "execution_count": 51,
   "id": "44c32fe2",
   "metadata": {},
   "outputs": [],
   "source": [
    "data_BESS_and_solar.columns\n",
    "\n",
    "data_BESS_and_solar_filtrada = data_BESS_and_solar[[\"Index\",\"Proyecto\",\"Empresa Solicitante\",\"Tipo\",\"Estado Solicitud\",\n",
    "                               \"Fecha Recepción\",\"Capacidad [MW]\",\n",
    "                                'Capacidad BESS (MW)', 'Cap. BESS+ Eolico (MWh)',\n",
    "                                'Número de Hrs almacenamiento','Fecha Estimada Conexión',\n",
    "                                'Punto de Conexión', 'Nivel de tension',\n",
    "       'Barra', 'Paño', 'Región', 'Comuna', 'Segmento de Transmisión']]\n",
    "\n",
    "data_BESS_and_solar_filtrada.head(15)\n",
    "guarda_df_data_BESS_and_solar_filtrada = data_BESS_and_solar_filtrada.to_csv(\"Grid_and_zero_csv/output_data_BESS_and_wind_filtrada.csv\")\n",
    "guarda_df_data_BESS_and_solar_filtrada"
   ]
  },
  {
   "cell_type": "code",
   "execution_count": 6,
   "id": "39526cfa",
   "metadata": {},
   "outputs": [],
   "source": [
    "#Datos a analizar:\n",
    "#numero de proyectos que posee cada empresa solicitantes.\n",
    "#capacidad instalada de almacenamiento BESS x Región.\n",
    "#Como se distribuyen los proyectos en las regiones.\n",
    "# Número de horas de las baterias de almacenamiento!."
   ]
  },
  {
   "cell_type": "markdown",
   "id": "e5357a67",
   "metadata": {},
   "source": [
    "# 1. Número de proyectos que posee cada empresa solicitante y capacidad de almacenamiento BESS (MW)"
   ]
  },
  {
   "cell_type": "code",
   "execution_count": 8,
   "id": "c01760bd",
   "metadata": {},
   "outputs": [
    {
     "name": "stdout",
     "output_type": "stream",
     "text": [
      "Total de proyectos BESS+Wind: 7\n"
     ]
    },
    {
     "data": {
      "text/plain": [
       "Empresa Solicitante\n",
       "Colbún S.A.                  1\n",
       "EBCO Energía S.A.            1\n",
       "Engie Energía Chile S.A.     1\n",
       "Guanaquiana SpA              1\n",
       "Parque Eólico Carica SpA     1\n",
       "Sierra Esperanza SpA         1\n",
       "Trivento SpA                 1\n",
       "Name: Proyecto, dtype: int64"
      ]
     },
     "execution_count": 8,
     "metadata": {},
     "output_type": "execute_result"
    }
   ],
   "source": [
    "proyectos_por_empresa = data_BESS_and_solar_filtrada.groupby([\"Empresa Solicitante\"])[\"Proyecto\"].count()\n",
    "print(\"Total de proyectos BESS+Wind:\",proyectos_por_empresa.sum())\n",
    "proyectos_por_empresa\n",
    "\n",
    "#1/7*100"
   ]
  },
  {
   "cell_type": "markdown",
   "id": "8ee9b2a1",
   "metadata": {},
   "source": [
    "Empresa con mayor número de BESS+Wind:\n",
    "1. empate all = 1 proyecto BESS+Wind\n"
   ]
  },
  {
   "cell_type": "code",
   "execution_count": null,
   "id": "e7bc4648",
   "metadata": {},
   "outputs": [],
   "source": [
    "#Capacidad de almacenamiento por empresa:"
   ]
  },
  {
   "cell_type": "code",
   "execution_count": 9,
   "id": "214300b8",
   "metadata": {},
   "outputs": [
    {
     "data": {
      "text/plain": [
       "Empresa Solicitante\n",
       "Colbún S.A.                  400\n",
       "EBCO Energía S.A.            200\n",
       "Engie Energía Chile S.A.     400\n",
       "Guanaquiana SpA              334\n",
       "Parque Eólico Carica SpA      85\n",
       "Sierra Esperanza SpA         200\n",
       "Trivento SpA                 410\n",
       "Name: Capacidad [MW], dtype: int64"
      ]
     },
     "execution_count": 9,
     "metadata": {},
     "output_type": "execute_result"
    }
   ],
   "source": [
    "capacidad_almacenamiento_por_empresa = data_BESS_and_solar_filtrada.groupby([\"Empresa Solicitante\"])[\"Capacidad [MW]\"].sum()\n",
    "capacidad_almacenamiento_por_empresa"
   ]
  },
  {
   "cell_type": "code",
   "execution_count": null,
   "id": "7754aecd",
   "metadata": {},
   "outputs": [],
   "source": [
    "#Obs: Capacidad instalada de plantas híbridas!, es decir, capacidad MW \n",
    "#considera plantas BESS+ Planta Wind. \n",
    "#Veamos cuanto es la cap. de sólo las BESS de estas plantas híbridas."
   ]
  },
  {
   "cell_type": "code",
   "execution_count": 10,
   "id": "4621a1a0",
   "metadata": {},
   "outputs": [
    {
     "name": "stdout",
     "output_type": "stream",
     "text": [
      "Capacidad BESS que se incorpora de las plantas híbridas (BESS+Wind): 133.0\n"
     ]
    },
    {
     "data": {
      "text/plain": [
       "Empresa Solicitante\n",
       "Colbún S.A.                   0.0\n",
       "EBCO Energía S.A.             0.0\n",
       "Engie Energía Chile S.A.     63.0\n",
       "Guanaquiana SpA              70.0\n",
       "Parque Eólico Carica SpA      0.0\n",
       "Sierra Esperanza SpA          0.0\n",
       "Trivento SpA                  0.0\n",
       "Name: Capacidad BESS (MW), dtype: float64"
      ]
     },
     "execution_count": 10,
     "metadata": {},
     "output_type": "execute_result"
    }
   ],
   "source": [
    "#Capacidad de almacenamiento por empresa (Sólo la capacidad instalada de BESS)\n",
    "capacidad_almacenamiento_por_empresa_2 = data_BESS_and_solar_filtrada.groupby([\"Empresa Solicitante\"])[\"Capacidad BESS (MW)\"].sum()\n",
    "print(\"Capacidad BESS que se incorpora de las plantas híbridas (BESS+Wind):\",capacidad_almacenamiento_por_empresa_2.sum())\n",
    "capacidad_almacenamiento_por_empresa_2"
   ]
  },
  {
   "cell_type": "code",
   "execution_count": null,
   "id": "5d9bd78b",
   "metadata": {},
   "outputs": [],
   "source": [
    "#Obs: No todas las plantas Híbridas (BESS+Wind) informan la capacidad de BESS/Cap. Wind, por lo \n",
    "#que el análisis es representativo de sólo las plantas que informan sus capacidades."
   ]
  },
  {
   "cell_type": "code",
   "execution_count": 11,
   "id": "ad0e27f8",
   "metadata": {},
   "outputs": [
    {
     "name": "stdout",
     "output_type": "stream",
     "text": [
      "Número de proyectos que informan su cap. BESS+ Wind: 2\n",
      "Total de proyectos BESS+Wind: 7\n",
      "Porcentaje que informa: 28.57142857142857 %\n"
     ]
    }
   ],
   "source": [
    "data_BESS_and_solar_filtrada_cap_informada = data_BESS_and_solar_filtrada.loc[data_BESS_and_solar_filtrada[\"Capacidad BESS (MW)\"]> 0 ]\n",
    "#Reset index:\n",
    "data_BESS_and_solar_filtrada_cap_informada = data_BESS_and_solar_filtrada_cap_informada.reset_index(drop=True)\n",
    "\n",
    "print(\"Número de proyectos que informan su cap. BESS+ Wind:\",data_BESS_and_solar_filtrada_cap_informada['Proyecto'].count())\n",
    "print(\"Total de proyectos BESS+Wind:\",proyectos_por_empresa.sum())\n",
    "print(\"Porcentaje que informa:\",\n",
    "      (data_BESS_and_solar_filtrada_cap_informada['Proyecto'].count()/proyectos_por_empresa.sum())*100,\"%\")"
   ]
  },
  {
   "cell_type": "code",
   "execution_count": 12,
   "id": "07e0bbf2",
   "metadata": {},
   "outputs": [
    {
     "name": "stdout",
     "output_type": "stream",
     "text": [
      "capacidad instalada total: 2029\n"
     ]
    },
    {
     "data": {
      "text/html": [
       "<div>\n",
       "<style scoped>\n",
       "    .dataframe tbody tr th:only-of-type {\n",
       "        vertical-align: middle;\n",
       "    }\n",
       "\n",
       "    .dataframe tbody tr th {\n",
       "        vertical-align: top;\n",
       "    }\n",
       "\n",
       "    .dataframe thead th {\n",
       "        text-align: right;\n",
       "    }\n",
       "</style>\n",
       "<table border=\"1\" class=\"dataframe\">\n",
       "  <thead>\n",
       "    <tr style=\"text-align: right;\">\n",
       "      <th></th>\n",
       "      <th>Número de proyectos BESS + Wind</th>\n",
       "      <th>Capacidad [MW]</th>\n",
       "    </tr>\n",
       "    <tr>\n",
       "      <th>Empresa Solicitante</th>\n",
       "      <th></th>\n",
       "      <th></th>\n",
       "    </tr>\n",
       "  </thead>\n",
       "  <tbody>\n",
       "    <tr>\n",
       "      <th>Trivento SpA</th>\n",
       "      <td>1</td>\n",
       "      <td>410</td>\n",
       "    </tr>\n",
       "    <tr>\n",
       "      <th>Colbún S.A.</th>\n",
       "      <td>1</td>\n",
       "      <td>400</td>\n",
       "    </tr>\n",
       "    <tr>\n",
       "      <th>Engie Energía Chile S.A.</th>\n",
       "      <td>1</td>\n",
       "      <td>400</td>\n",
       "    </tr>\n",
       "    <tr>\n",
       "      <th>Guanaquiana SpA</th>\n",
       "      <td>1</td>\n",
       "      <td>334</td>\n",
       "    </tr>\n",
       "    <tr>\n",
       "      <th>EBCO Energía S.A.</th>\n",
       "      <td>1</td>\n",
       "      <td>200</td>\n",
       "    </tr>\n",
       "    <tr>\n",
       "      <th>Sierra Esperanza SpA</th>\n",
       "      <td>1</td>\n",
       "      <td>200</td>\n",
       "    </tr>\n",
       "    <tr>\n",
       "      <th>Parque Eólico Carica SpA</th>\n",
       "      <td>1</td>\n",
       "      <td>85</td>\n",
       "    </tr>\n",
       "  </tbody>\n",
       "</table>\n",
       "</div>"
      ],
      "text/plain": [
       "                           Número de proyectos BESS + Wind  Capacidad [MW]\n",
       "Empresa Solicitante                                                       \n",
       "Trivento SpA                                             1             410\n",
       "Colbún S.A.                                              1             400\n",
       "Engie Energía Chile S.A.                                 1             400\n",
       "Guanaquiana SpA                                          1             334\n",
       "EBCO Energía S.A.                                        1             200\n",
       "Sierra Esperanza SpA                                     1             200\n",
       "Parque Eólico Carica SpA                                 1              85"
      ]
     },
     "execution_count": 12,
     "metadata": {},
     "output_type": "execute_result"
    }
   ],
   "source": [
    "#Transforma los groupby en dataframes:\n",
    "#DF número de proyectos por empresa:\n",
    "df_numero_proyectos_por_empresa = pd.DataFrame(proyectos_por_empresa)\n",
    "\n",
    "#DF capacidad instalada almacenamiento por empresa:\n",
    "df_capacidad_almacenamiento_por_empresa = pd.DataFrame(capacidad_almacenamiento_por_empresa)\n",
    "\n",
    "#Merge de los datos:\n",
    "df_merge_datos_1 = pd.merge(df_numero_proyectos_por_empresa,\n",
    "                            df_capacidad_almacenamiento_por_empresa,\n",
    "                            left_on='Empresa Solicitante', right_on='Empresa Solicitante')\n",
    "\n",
    "\n",
    "df_merge_datos_1.rename(columns={\"Proyecto\": \"Número de proyectos BESS + Wind\"},inplace = True)\n",
    "\n",
    "#df_merge_datos_1['Capacidad [MW]'].sum()\n",
    "\n",
    "#mayor capacidad instalada: \n",
    "mayor_capacidad = df_merge_datos_1.sort_values('Capacidad [MW]',ascending=False)\n",
    "print(\"capacidad instalada total:\",mayor_capacidad[\"Capacidad [MW]\"].sum())\n",
    "\n",
    "mayor_capacidad"
   ]
  },
  {
   "cell_type": "code",
   "execution_count": 13,
   "id": "6d617309",
   "metadata": {},
   "outputs": [],
   "source": [
    "#Observaciones:\n",
    "#Empresa con mayor número de BESS+Wind:\n",
    "\n",
    "#1.Empate = all tienen 1 proyecto.\n",
    "\n",
    "#Total número de proyectos = 7.\n",
    "\n",
    "#Empresa con mayor capacidad instalada BESS +Wind (MW):\n",
    "#1.Trivento SpA = 410 MW\n",
    "#2.Colbún S.A. = 400 MW.\n",
    "#3.Engie Energía Chile S.A. = 400 MW."
   ]
  },
  {
   "cell_type": "code",
   "execution_count": 15,
   "id": "2c0d3155",
   "metadata": {},
   "outputs": [],
   "source": [
    "#Mismo análisis pero con los proyectos que si informan su cap. Bess+Wind."
   ]
  },
  {
   "cell_type": "code",
   "execution_count": 16,
   "id": "379f6c1e",
   "metadata": {},
   "outputs": [
    {
     "name": "stdout",
     "output_type": "stream",
     "text": [
      "Capacidad BESS que se incorpora de las plantas híbridas (BESS+Wind): 133.0\n",
      "Total de proyectos BESS+Wind Informados: 2\n"
     ]
    },
    {
     "data": {
      "text/plain": [
       "Empresa Solicitante\n",
       "Engie Energía Chile S.A.     1\n",
       "Guanaquiana SpA              1\n",
       "Name: Proyecto, dtype: int64"
      ]
     },
     "execution_count": 16,
     "metadata": {},
     "output_type": "execute_result"
    }
   ],
   "source": [
    "#Capacidad de almacenamiento por empresa considerando sólo BESS y excluyendo Solar.\n",
    "data_BESS_and_solar_filtrada_cap_informada.head(1)\n",
    "#Capacidad de almacenamiento por empresa (Sólo la capacidad instalada de BESS)\n",
    "capacidad_almacenamiento_por_empresa_2 = data_BESS_and_solar_filtrada_cap_informada.groupby([\"Empresa Solicitante\"])[\"Capacidad BESS (MW)\"].sum()\n",
    "print(\"Capacidad BESS que se incorpora de las plantas híbridas (BESS+Wind):\",capacidad_almacenamiento_por_empresa_2.sum())\n",
    "capacidad_almacenamiento_por_empresa_2\n",
    "\n",
    "#Número de proyectos por empresa que informan.\n",
    "proyectos_por_empresa = data_BESS_and_solar_filtrada_cap_informada.groupby([\"Empresa Solicitante\"])[\"Proyecto\"].count()\n",
    "print(\"Total de proyectos BESS+Wind Informados:\",proyectos_por_empresa.sum())\n",
    "proyectos_por_empresa\n"
   ]
  },
  {
   "cell_type": "code",
   "execution_count": 60,
   "id": "839d69d4",
   "metadata": {},
   "outputs": [
    {
     "name": "stdout",
     "output_type": "stream",
     "text": [
      "capacidad instalada total: 133.0\n"
     ]
    },
    {
     "data": {
      "text/html": [
       "<div>\n",
       "<style scoped>\n",
       "    .dataframe tbody tr th:only-of-type {\n",
       "        vertical-align: middle;\n",
       "    }\n",
       "\n",
       "    .dataframe tbody tr th {\n",
       "        vertical-align: top;\n",
       "    }\n",
       "\n",
       "    .dataframe thead th {\n",
       "        text-align: right;\n",
       "    }\n",
       "</style>\n",
       "<table border=\"1\" class=\"dataframe\">\n",
       "  <thead>\n",
       "    <tr style=\"text-align: right;\">\n",
       "      <th></th>\n",
       "      <th>Número de proyectos BESS + Wind</th>\n",
       "      <th>Capacidad BESS (MW)</th>\n",
       "    </tr>\n",
       "    <tr>\n",
       "      <th>Empresa Solicitante</th>\n",
       "      <th></th>\n",
       "      <th></th>\n",
       "    </tr>\n",
       "  </thead>\n",
       "  <tbody>\n",
       "    <tr>\n",
       "      <th>Guanaquiana SpA</th>\n",
       "      <td>1</td>\n",
       "      <td>70.0</td>\n",
       "    </tr>\n",
       "    <tr>\n",
       "      <th>Engie Energía Chile S.A.</th>\n",
       "      <td>1</td>\n",
       "      <td>63.0</td>\n",
       "    </tr>\n",
       "  </tbody>\n",
       "</table>\n",
       "</div>"
      ],
      "text/plain": [
       "                           Número de proyectos BESS + Wind  \\\n",
       "Empresa Solicitante                                          \n",
       "Guanaquiana SpA                                          1   \n",
       "Engie Energía Chile S.A.                                 1   \n",
       "\n",
       "                           Capacidad BESS (MW)  \n",
       "Empresa Solicitante                             \n",
       "Guanaquiana SpA                           70.0  \n",
       "Engie Energía Chile S.A.                  63.0  "
      ]
     },
     "execution_count": 60,
     "metadata": {},
     "output_type": "execute_result"
    }
   ],
   "source": [
    "#Transforma los groupby en dataframes:\n",
    "#DF número de proyectos por empresa:\n",
    "df_numero_proyectos_por_empresa = pd.DataFrame(proyectos_por_empresa)\n",
    "\n",
    "#DF capacidad instalada almacenamiento por empresa:\n",
    "df_capacidad_almacenamiento_por_empresa = pd.DataFrame(capacidad_almacenamiento_por_empresa_2)\n",
    "\n",
    "#Merge de los datos:\n",
    "df_merge_datos_1 = pd.merge(df_numero_proyectos_por_empresa,\n",
    "                            df_capacidad_almacenamiento_por_empresa,\n",
    "                            left_on='Empresa Solicitante', right_on='Empresa Solicitante')\n",
    "\n",
    "\n",
    "df_merge_datos_1.rename(columns={\"Proyecto\": \"Número de proyectos BESS + Wind\"},inplace = True)\n",
    "\n",
    "#df_merge_datos_1['Capacidad [MW]'].sum()\n",
    "df_merge_datos_1\n",
    "#mayor capacidad instalada: \n",
    "mayor_capacidad = df_merge_datos_1.sort_values('Capacidad BESS (MW)',ascending=False)\n",
    "print(\"capacidad instalada total:\",mayor_capacidad[\"Capacidad BESS (MW)\"].sum())\n",
    "mayor_capacidad\n",
    "\n",
    "#guarda el df para posterior análisis:\n",
    "guarda_df_proyectos_capacidad_BESS_BESS_solar = mayor_capacidad.to_csv(\"Grid_and_zero_csv/output_df_proyectos_capacidad_BESS_BESS_wind.csv\")\n",
    "guarda_df_proyectos_capacidad_BESS_BESS_solar\n",
    "mayor_capacidad"
   ]
  },
  {
   "cell_type": "code",
   "execution_count": 18,
   "id": "8852ed24",
   "metadata": {},
   "outputs": [],
   "source": [
    "#Observaciones:\n",
    "#Empresa con mayor número de BESS+Wind:\n",
    "\n",
    "#1.Guanaquiana SpA = 1 PROYECTOS BESS+Wind\n",
    "#2.Engie Energía Chile S.A. = 1 PROYECTOS BESS+Wind\n",
    "#Total número de proyectos = 2.\n",
    "\n",
    "#Empresa con mayor capacidad instalada BESS (MW):\n",
    "#1.Guanaquiana SpA = 70 WM\n",
    "#2.Engie Energía Chile S.A. =  63 MW\n"
   ]
  },
  {
   "cell_type": "markdown",
   "id": "cef34d02",
   "metadata": {},
   "source": [
    "## 2. Como se distribuyen los proyectos en las regiones."
   ]
  },
  {
   "cell_type": "code",
   "execution_count": 19,
   "id": "0cb80787",
   "metadata": {},
   "outputs": [
    {
     "data": {
      "text/plain": [
       "Región       Comuna        Capacidad [MW]  Empresa Solicitante      \n",
       "Antofagasta  Taltal        400             Engie Energía Chile S.A.     1\n",
       "Atacama      Vallenar      400             Colbún S.A.                  1\n",
       "Coquimbo     La Higuera    200             Sierra Esperanza SpA         1\n",
       "                           334             Guanaquiana SpA              1\n",
       "             Ovalle        85              Parque Eólico Carica SpA     1\n",
       "                           410             Trivento SpA                 1\n",
       "Valparaiso   Viña del Mar  200             EBCO Energía S.A.            1\n",
       "Name: Proyecto, dtype: int64"
      ]
     },
     "execution_count": 19,
     "metadata": {},
     "output_type": "execute_result"
    }
   ],
   "source": [
    "#Como se distribuyen los proyectos en las COMUNAS.\n",
    "distribucion_comuna = data_BESS_and_solar_filtrada.groupby([\"Región\", \"Comuna\",\"Capacidad [MW]\",\"Empresa Solicitante\"])[\"Proyecto\"].count()\n",
    "distribucion_comuna"
   ]
  },
  {
   "cell_type": "code",
   "execution_count": 20,
   "id": "5f069dc3",
   "metadata": {
    "scrolled": true
   },
   "outputs": [
    {
     "data": {
      "text/plain": [
       "Región       Capacidad [MW]  Empresa Solicitante      \n",
       "Antofagasta  400             Engie Energía Chile S.A.     1\n",
       "Atacama      400             Colbún S.A.                  1\n",
       "Coquimbo     85              Parque Eólico Carica SpA     1\n",
       "             200             Sierra Esperanza SpA         1\n",
       "             334             Guanaquiana SpA              1\n",
       "             410             Trivento SpA                 1\n",
       "Valparaiso   200             EBCO Energía S.A.            1\n",
       "Name: Proyecto, dtype: int64"
      ]
     },
     "execution_count": 20,
     "metadata": {},
     "output_type": "execute_result"
    }
   ],
   "source": [
    "#Como se distribuyen los proyectos en las regiones.\n",
    "distribucion_region = data_BESS_and_solar_filtrada.groupby([\"Región\",\"Capacidad [MW]\",\"Empresa Solicitante\"])[\"Proyecto\"].count()\n",
    "distribucion_region"
   ]
  },
  {
   "cell_type": "code",
   "execution_count": 21,
   "id": "c57a681d",
   "metadata": {},
   "outputs": [
    {
     "data": {
      "text/html": [
       "<div>\n",
       "<style scoped>\n",
       "    .dataframe tbody tr th:only-of-type {\n",
       "        vertical-align: middle;\n",
       "    }\n",
       "\n",
       "    .dataframe tbody tr th {\n",
       "        vertical-align: top;\n",
       "    }\n",
       "\n",
       "    .dataframe thead th {\n",
       "        text-align: right;\n",
       "    }\n",
       "</style>\n",
       "<table border=\"1\" class=\"dataframe\">\n",
       "  <thead>\n",
       "    <tr style=\"text-align: right;\">\n",
       "      <th></th>\n",
       "      <th>Número de proyectos BESS + Wind</th>\n",
       "      <th>Capacidad [MW]</th>\n",
       "    </tr>\n",
       "    <tr>\n",
       "      <th>Región</th>\n",
       "      <th></th>\n",
       "      <th></th>\n",
       "    </tr>\n",
       "  </thead>\n",
       "  <tbody>\n",
       "    <tr>\n",
       "      <th>Coquimbo</th>\n",
       "      <td>4</td>\n",
       "      <td>1029</td>\n",
       "    </tr>\n",
       "    <tr>\n",
       "      <th>Antofagasta</th>\n",
       "      <td>1</td>\n",
       "      <td>400</td>\n",
       "    </tr>\n",
       "    <tr>\n",
       "      <th>Atacama</th>\n",
       "      <td>1</td>\n",
       "      <td>400</td>\n",
       "    </tr>\n",
       "    <tr>\n",
       "      <th>Valparaiso</th>\n",
       "      <td>1</td>\n",
       "      <td>200</td>\n",
       "    </tr>\n",
       "  </tbody>\n",
       "</table>\n",
       "</div>"
      ],
      "text/plain": [
       "             Número de proyectos BESS + Wind  Capacidad [MW]\n",
       "Región                                                      \n",
       "Coquimbo                                   4            1029\n",
       "Antofagasta                                1             400\n",
       "Atacama                                    1             400\n",
       "Valparaiso                                 1             200"
      ]
     },
     "execution_count": 21,
     "metadata": {},
     "output_type": "execute_result"
    }
   ],
   "source": [
    "#capacidad instalada de almacenamiento BESS+Solar x Región\n",
    "analisis_region = data_BESS_and_solar_filtrada.groupby([\"Región\"])[\"Capacidad [MW]\"].sum()\n",
    "analisis_region\n",
    "#Transforma el groupby en un dataframe:\n",
    "#DF capacidad instalada por región:\n",
    "df_capacidad = pd.DataFrame(analisis_region)\n",
    "df_capacidad\n",
    "\n",
    "# número de proyectos por región \n",
    "numero_empresas_por_region = data_BESS_and_solar_filtrada.groupby([\"Región\"])['Empresa Solicitante'].count()\n",
    "numero_empresas_por_region\n",
    "#Transforma el groupby en un dataframe:\n",
    "#Número de empresas que instalaron BESS por región.\n",
    "df = pd.DataFrame(numero_empresas_por_region)\n",
    "\n",
    "#Une los 2 dataframe (capacidad instalda región + número de proyectos región)\n",
    "df_merge_datos = pd.merge(df_capacidad, df, left_on='Región', right_on='Región')\n",
    "#Cambia el nombre a la columna\n",
    "df_merge_datos.rename(columns={\"Empresa Solicitante\": \"Número de proyectos BESS + Wind\"},inplace = True)\n",
    "df_merge_datos\n",
    "#Ordena el orden de las columnas que entregan la información.\n",
    "data_ordenada = df_merge_datos[[\"Número de proyectos BESS + Wind\",\"Capacidad [MW]\"]]\n",
    "\n",
    "#mayor capacidad instalada: \n",
    "#Ordena la información de forma descendente en función de la capacidad instalada.\n",
    "capacidad_instalada_por_region = data_ordenada.sort_values('Capacidad [MW]',ascending=False)\n",
    "capacidad_instalada_por_region"
   ]
  },
  {
   "cell_type": "markdown",
   "id": "0229eaa8",
   "metadata": {},
   "source": [
    "### Mismo análisis, pero con los datos informados de cap. BESS + Solar."
   ]
  },
  {
   "cell_type": "code",
   "execution_count": 22,
   "id": "abad4649",
   "metadata": {},
   "outputs": [
    {
     "data": {
      "text/plain": [
       "Región       Comuna      Capacidad [MW]  Capacidad BESS (MW)  Empresa Solicitante      \n",
       "Antofagasta  Taltal      400             63.0                 Engie Energía Chile S.A.     1\n",
       "Coquimbo     La Higuera  334             70.0                 Guanaquiana SpA              1\n",
       "Name: Proyecto, dtype: int64"
      ]
     },
     "execution_count": 22,
     "metadata": {},
     "output_type": "execute_result"
    }
   ],
   "source": [
    "#Como se distribuyen los proyectos en las COMUNAS.\n",
    "distribucion_comuna = data_BESS_and_solar_filtrada_cap_informada.groupby([\"Región\", \"Comuna\",\"Capacidad [MW]\",\"Capacidad BESS (MW)\",\"Empresa Solicitante\"])[\"Proyecto\"].count()\n",
    "distribucion_comuna"
   ]
  },
  {
   "cell_type": "code",
   "execution_count": 23,
   "id": "744dbde2",
   "metadata": {},
   "outputs": [
    {
     "data": {
      "text/plain": [
       "Región       Capacidad [MW]  Capacidad BESS (MW)  Empresa Solicitante      \n",
       "Antofagasta  400             63.0                 Engie Energía Chile S.A.     1\n",
       "Coquimbo     334             70.0                 Guanaquiana SpA              1\n",
       "Name: Proyecto, dtype: int64"
      ]
     },
     "execution_count": 23,
     "metadata": {},
     "output_type": "execute_result"
    }
   ],
   "source": [
    "#Como se distribuyen los proyectos en las regiones.\n",
    "distribucion_region = data_BESS_and_solar_filtrada_cap_informada.groupby([\"Región\",\"Capacidad [MW]\",\"Capacidad BESS (MW)\",\"Empresa Solicitante\"])[\"Proyecto\"].count()\n",
    "distribucion_region"
   ]
  },
  {
   "cell_type": "code",
   "execution_count": 24,
   "id": "619bfb0c",
   "metadata": {},
   "outputs": [
    {
     "data": {
      "text/html": [
       "<div>\n",
       "<style scoped>\n",
       "    .dataframe tbody tr th:only-of-type {\n",
       "        vertical-align: middle;\n",
       "    }\n",
       "\n",
       "    .dataframe tbody tr th {\n",
       "        vertical-align: top;\n",
       "    }\n",
       "\n",
       "    .dataframe thead th {\n",
       "        text-align: right;\n",
       "    }\n",
       "</style>\n",
       "<table border=\"1\" class=\"dataframe\">\n",
       "  <thead>\n",
       "    <tr style=\"text-align: right;\">\n",
       "      <th></th>\n",
       "      <th>Número de proyectos BESS + Wind</th>\n",
       "      <th>Capacidad BESS (MW)</th>\n",
       "    </tr>\n",
       "    <tr>\n",
       "      <th>Región</th>\n",
       "      <th></th>\n",
       "      <th></th>\n",
       "    </tr>\n",
       "  </thead>\n",
       "  <tbody>\n",
       "    <tr>\n",
       "      <th>Coquimbo</th>\n",
       "      <td>1</td>\n",
       "      <td>70.0</td>\n",
       "    </tr>\n",
       "    <tr>\n",
       "      <th>Antofagasta</th>\n",
       "      <td>1</td>\n",
       "      <td>63.0</td>\n",
       "    </tr>\n",
       "  </tbody>\n",
       "</table>\n",
       "</div>"
      ],
      "text/plain": [
       "             Número de proyectos BESS + Wind  Capacidad BESS (MW)\n",
       "Región                                                           \n",
       "Coquimbo                                   1                 70.0\n",
       "Antofagasta                                1                 63.0"
      ]
     },
     "execution_count": 24,
     "metadata": {},
     "output_type": "execute_result"
    }
   ],
   "source": [
    "#capacidad instalada de almacenamiento BESS+Solar x Región\n",
    "analisis_region = data_BESS_and_solar_filtrada_cap_informada.groupby([\"Región\"])[\"Capacidad BESS (MW)\"].sum()\n",
    "analisis_region\n",
    "#Transforma el groupby en un dataframe:\n",
    "#DF capacidad instalada por región:\n",
    "df_capacidad = pd.DataFrame(analisis_region)\n",
    "df_capacidad\n",
    "\n",
    "# número de proyectos por región \n",
    "numero_empresas_por_region = data_BESS_and_solar_filtrada_cap_informada.groupby([\"Región\"])['Empresa Solicitante'].count()\n",
    "numero_empresas_por_region\n",
    "#Transforma el groupby en un dataframe:\n",
    "#Número de empresas que instalaron BESS por región.\n",
    "df = pd.DataFrame(numero_empresas_por_region)\n",
    "\n",
    "#Une los 2 dataframe (capacidad instalda región + número de proyectos región)\n",
    "df_merge_datos = pd.merge(df_capacidad, df, left_on='Región', right_on='Región')\n",
    "#Cambia el nombre a la columna\n",
    "df_merge_datos.rename(columns={\"Empresa Solicitante\": \"Número de proyectos BESS + Wind\"},inplace = True)\n",
    "df_merge_datos\n",
    "#Ordena el orden de las columnas que entregan la información.\n",
    "data_ordenada = df_merge_datos[[\"Número de proyectos BESS + Wind\",\"Capacidad BESS (MW)\"]]\n",
    "\n",
    "#mayor capacidad instalada: \n",
    "#Ordena la información de forma descendente en función de la capacidad instalada.\n",
    "capacidad_instalada_por_region = data_ordenada.sort_values('Capacidad BESS (MW)',ascending=False)\n",
    "capacidad_instalada_por_region"
   ]
  },
  {
   "cell_type": "code",
   "execution_count": 25,
   "id": "001717d1",
   "metadata": {},
   "outputs": [],
   "source": [
    "#Obs:\n",
    "#Mayor capacidad instalada de BESS al norte del país.\n",
    "#Región con mayor capacidad BESS: \n",
    "#1. Coquimbo: 70 MW.\n",
    "#2. Antofagasta: 63 MW."
   ]
  },
  {
   "cell_type": "markdown",
   "id": "f076ddb8",
   "metadata": {},
   "source": [
    "# 3. Análisis estadístico de los proyectos en las regiones."
   ]
  },
  {
   "cell_type": "code",
   "execution_count": 26,
   "id": "d8f52a32",
   "metadata": {},
   "outputs": [
    {
     "name": "stdout",
     "output_type": "stream",
     "text": [
      "Columnas :\n",
      "  Index(['Index', 'Proyecto', 'Empresa Solicitante', 'Tipo', 'Estado Solicitud',\n",
      "       'Fecha Recepción', 'Capacidad [MW]', 'Capacidad BESS (MW)',\n",
      "       'Cap. BESS+ Eolico (MWh)', 'Número de Hrs almacenamiento',\n",
      "       'Fecha Estimada Conexión', 'Punto de Conexión', 'Nivel de tension',\n",
      "       'Barra', 'Paño', 'Región', 'Comuna', 'Segmento de Transmisión'],\n",
      "      dtype='object')\n"
     ]
    }
   ],
   "source": [
    "#Visualización del dataframe filtrado:\n",
    "print(\"Columnas :\\n \",data_BESS_and_solar_filtrada.columns)\n"
   ]
  },
  {
   "cell_type": "code",
   "execution_count": 27,
   "id": "82944b9b",
   "metadata": {},
   "outputs": [
    {
     "data": {
      "text/plain": [
       "['Atacama', 'Coquimbo', 'Antofagasta', 'Valparaiso']"
      ]
     },
     "execution_count": 27,
     "metadata": {},
     "output_type": "execute_result"
    }
   ],
   "source": [
    "#Regiones que poseen BESS\n",
    "data_BESS_and_solar_filtrada['Región'].unique()\n",
    "\n",
    "regiones_con_BESS_and_solar = data_BESS_and_solar_filtrada['Región'].unique()\n",
    "regiones_con_BESS_and_solar\n",
    "lista_Regiones_BESS_and_solar = regiones_con_BESS_and_solar.tolist()\n",
    "lista_Regiones_BESS_and_solar"
   ]
  },
  {
   "cell_type": "code",
   "execution_count": 29,
   "id": "37aa6726",
   "metadata": {},
   "outputs": [],
   "source": [
    "#Atacama\n",
    "BESS_and_solar_R_atacama = data_BESS_and_solar_filtrada.loc[data_BESS_and_solar_filtrada['Región'] == lista_Regiones_BESS_and_solar[0]]\n",
    "#Reset index:\n",
    "BESS_and_solar_R_atacama = BESS_and_solar_R_atacama.reset_index(drop=True)\n",
    "#Coquimbo\n",
    "BESS_and_solar_R_coquimbo = data_BESS_and_solar_filtrada.loc[data_BESS_and_solar_filtrada['Región'] == lista_Regiones_BESS_and_solar[1]]\n",
    "#Reset index:\n",
    "BESS_and_solar_R_coquimbo = BESS_and_solar_R_coquimbo.reset_index(drop=True)\n",
    "#Antofagasta\n",
    "BESS_and_solar_R_antofagasta = data_BESS_and_solar_filtrada.loc[data_BESS_and_solar_filtrada['Región'] == lista_Regiones_BESS_and_solar[2]]\n",
    "#Reset index:\n",
    "BESS_and_solar_R_antofagasta = BESS_and_solar_R_antofagasta.reset_index(drop=True)\n",
    "#Valparaiso\n",
    "BESS_and_solar_R_valparaiso = data_BESS_and_solar_filtrada.loc[data_BESS_and_solar_filtrada['Región'] == lista_Regiones_BESS_and_solar[3]]\n",
    "#Reset index:\n",
    "BESS_and_solar_R_valparaiso = BESS_and_solar_R_valparaiso.reset_index(drop=True)\n"
   ]
  },
  {
   "cell_type": "code",
   "execution_count": 30,
   "id": "15f88bfa",
   "metadata": {},
   "outputs": [
    {
     "data": {
      "text/plain": [
       "Región       Comuna      \n",
       "Antofagasta  Taltal          63.0\n",
       "Atacama      Vallenar         0.0\n",
       "Coquimbo     La Higuera      70.0\n",
       "             Ovalle           0.0\n",
       "Valparaiso   Viña del Mar     0.0\n",
       "Name: Capacidad BESS (MW), dtype: float64"
      ]
     },
     "execution_count": 30,
     "metadata": {},
     "output_type": "execute_result"
    }
   ],
   "source": [
    "#Como se distribuyen los proyectos en las COMUNAS.\n",
    "distribucion_comuna_agregado = data_BESS_and_solar_filtrada.groupby([\"Región\", \"Comuna\"])[\"Capacidad BESS (MW)\"].sum()\n",
    "distribucion_comuna_agregado"
   ]
  },
  {
   "cell_type": "code",
   "execution_count": 31,
   "id": "c5f99be1",
   "metadata": {},
   "outputs": [],
   "source": [
    "#Mismo análisis pero para las plantas que SI informan."
   ]
  },
  {
   "cell_type": "code",
   "execution_count": 32,
   "id": "4a93bf6d",
   "metadata": {},
   "outputs": [
    {
     "data": {
      "text/plain": [
       "Región       Comuna    \n",
       "Antofagasta  Taltal        63.0\n",
       "Coquimbo     La Higuera    70.0\n",
       "Name: Capacidad BESS (MW), dtype: float64"
      ]
     },
     "execution_count": 32,
     "metadata": {},
     "output_type": "execute_result"
    }
   ],
   "source": [
    "#Como se distribuyen los proyectos en las COMUNAS.\n",
    "distribucion_comuna_agregado = data_BESS_and_solar_filtrada_cap_informada.groupby([\"Región\", \"Comuna\"])[\"Capacidad BESS (MW)\"].sum()\n",
    "distribucion_comuna_agregado"
   ]
  },
  {
   "cell_type": "code",
   "execution_count": 33,
   "id": "3a0cb745",
   "metadata": {},
   "outputs": [
    {
     "data": {
      "text/html": [
       "<div>\n",
       "<style scoped>\n",
       "    .dataframe tbody tr th:only-of-type {\n",
       "        vertical-align: middle;\n",
       "    }\n",
       "\n",
       "    .dataframe tbody tr th {\n",
       "        vertical-align: top;\n",
       "    }\n",
       "\n",
       "    .dataframe thead th {\n",
       "        text-align: right;\n",
       "    }\n",
       "</style>\n",
       "<table border=\"1\" class=\"dataframe\">\n",
       "  <thead>\n",
       "    <tr style=\"text-align: right;\">\n",
       "      <th></th>\n",
       "      <th>BESS+Wind distribution in all regions</th>\n",
       "      <th>Distribution Antofagasta</th>\n",
       "      <th>Distribution Coquimbo</th>\n",
       "    </tr>\n",
       "  </thead>\n",
       "  <tbody>\n",
       "    <tr>\n",
       "      <th>count</th>\n",
       "      <td>2.00</td>\n",
       "      <td>1.0</td>\n",
       "      <td>1.0</td>\n",
       "    </tr>\n",
       "    <tr>\n",
       "      <th>mean</th>\n",
       "      <td>66.50</td>\n",
       "      <td>63.0</td>\n",
       "      <td>70.0</td>\n",
       "    </tr>\n",
       "    <tr>\n",
       "      <th>std</th>\n",
       "      <td>4.95</td>\n",
       "      <td>NaN</td>\n",
       "      <td>NaN</td>\n",
       "    </tr>\n",
       "    <tr>\n",
       "      <th>min</th>\n",
       "      <td>63.00</td>\n",
       "      <td>63.0</td>\n",
       "      <td>70.0</td>\n",
       "    </tr>\n",
       "    <tr>\n",
       "      <th>25%</th>\n",
       "      <td>64.75</td>\n",
       "      <td>63.0</td>\n",
       "      <td>70.0</td>\n",
       "    </tr>\n",
       "    <tr>\n",
       "      <th>50%</th>\n",
       "      <td>66.50</td>\n",
       "      <td>63.0</td>\n",
       "      <td>70.0</td>\n",
       "    </tr>\n",
       "    <tr>\n",
       "      <th>75%</th>\n",
       "      <td>68.25</td>\n",
       "      <td>63.0</td>\n",
       "      <td>70.0</td>\n",
       "    </tr>\n",
       "    <tr>\n",
       "      <th>max</th>\n",
       "      <td>70.00</td>\n",
       "      <td>63.0</td>\n",
       "      <td>70.0</td>\n",
       "    </tr>\n",
       "  </tbody>\n",
       "</table>\n",
       "</div>"
      ],
      "text/plain": [
       "       BESS+Wind distribution in all regions  Distribution Antofagasta  \\\n",
       "count                                   2.00                       1.0   \n",
       "mean                                   66.50                      63.0   \n",
       "std                                     4.95                       NaN   \n",
       "min                                    63.00                      63.0   \n",
       "25%                                    64.75                      63.0   \n",
       "50%                                    66.50                      63.0   \n",
       "75%                                    68.25                      63.0   \n",
       "max                                    70.00                      63.0   \n",
       "\n",
       "       Distribution Coquimbo  \n",
       "count                    1.0  \n",
       "mean                    70.0  \n",
       "std                      NaN  \n",
       "min                     70.0  \n",
       "25%                     70.0  \n",
       "50%                     70.0  \n",
       "75%                     70.0  \n",
       "max                     70.0  "
      ]
     },
     "execution_count": 33,
     "metadata": {},
     "output_type": "execute_result"
    }
   ],
   "source": [
    "#DF distribución general regiones:\n",
    "distribucion_general_regiones = np.round(data_BESS_and_solar_filtrada['Capacidad BESS (MW)'].describe(),decimals = 2)\n",
    "df_distribucion_general_regiones = pd.DataFrame(distribucion_general_regiones)\n",
    "\n",
    "#Rename:\n",
    "df_distribucion_general_regiones.rename(columns={\"Capacidad BESS (MW)\": \"BESS+Wind distribution in all regions\"},inplace = True)\n",
    "\n",
    "df_distribucion_general_regiones\n",
    "#Incorpora las demás regiones en el df_distribucion_general_regiones:\n",
    "#Valparaiso\n",
    "#Antofagasta:\n",
    "df_distribucion_general_regiones['Distribution Antofagasta'] = np.round(BESS_and_solar_R_antofagasta['Capacidad BESS (MW)'].describe(),decimals = 2)\n",
    "#Coquimbo:\n",
    "df_distribucion_general_regiones['Distribution Coquimbo'] = np.round(BESS_and_solar_R_coquimbo['Capacidad BESS (MW)'].describe(),decimals = 2)\n",
    "\n",
    "df_distribucion_general_regiones\n"
   ]
  },
  {
   "cell_type": "code",
   "execution_count": 34,
   "id": "d9410d58",
   "metadata": {},
   "outputs": [
    {
     "data": {
      "text/plain": [
       "Text(0.5, 1.0, \"BESS+Wind infrastructure, Chile's regions\")"
      ]
     },
     "execution_count": 34,
     "metadata": {},
     "output_type": "execute_result"
    },
    {
     "data": {
      "image/png": "[encoded data removed]",
      "text/plain": [
       "<Figure size 1490.4x1099.44 with 1 Axes>"
      ]
     },
     "metadata": {},
     "output_type": "display_data"
    }
   ],
   "source": [
    "sns.set_style('whitegrid')\n",
    "\n",
    "sns.set(rc={'figure.figsize':(20.7,15.27)}) #set width and height\n",
    "\n",
    "ax = sns.boxplot(x='Región',y='Capacidad BESS (MW)',\n",
    "                data=data_BESS_and_solar_filtrada_cap_informada)\n",
    "\n",
    "ax.set_title(\"BESS+Wind infrastructure, Chile's regions\")"
   ]
  },
  {
   "cell_type": "code",
   "execution_count": 37,
   "id": "4c46e013",
   "metadata": {},
   "outputs": [
    {
     "data": {
      "text/plain": [
       "Región       Comuna      Número de Hrs almacenamiento\n",
       "Antofagasta  Taltal      6.00                            1\n",
       "Coquimbo     La Higuera  4.77                            1\n",
       "Name: Empresa Solicitante, dtype: int64"
      ]
     },
     "execution_count": 37,
     "metadata": {},
     "output_type": "execute_result"
    }
   ],
   "source": [
    "# número de Horas de operación BESS \n",
    "#numero_empresas_por_region = data_BESS_and_solar_filtrada_cap_informada.groupby([\"Región\"])['Empresa Solicitante'].count()\n",
    "#numero_empresas_por_region\n",
    "data_BESS_and_solar_filtrada_cap_informada['Número de Hrs almacenamiento']\n",
    "#Número de horas de operación:\n",
    "numero_horas_operacion = data_BESS_and_solar_filtrada_cap_informada.groupby([\"Región\",\"Comuna\",\"Número de Hrs almacenamiento\"])['Empresa Solicitante'].count()\n",
    "numero_horas_operacion\n"
   ]
  },
  {
   "cell_type": "code",
   "execution_count": 56,
   "id": "613e1bbb",
   "metadata": {},
   "outputs": [
    {
     "name": "stdout",
     "output_type": "stream",
     "text": [
      "valor_promedio_horas_operacion_BESS Híbridas (Wind+BESS) 5.38 Hrs\n"
     ]
    },
    {
     "data": {
      "text/plain": [
       "0    6.00\n",
       "1    4.77\n",
       "Name: Número de Hrs almacenamiento, dtype: float64"
      ]
     },
     "execution_count": 56,
     "metadata": {},
     "output_type": "execute_result"
    }
   ],
   "source": [
    "#promedio de duración de las baterías:\n",
    "#promedio_horas_operacion = [c.replace(',', '.') for c in data_BESS_and_solar_filtrada_cap_informada['Número de Hrs almacenamiento']]\n",
    "#promedio_horas_operacion_final = [float(c) for c in promedio_horas_operacion]\n",
    "promedio_horas_operacion_final = data_BESS_and_solar_filtrada_cap_informada['Número de Hrs almacenamiento']\n",
    "len(promedio_horas_operacion_final)\n",
    "valor_promedio_horas_operacion_BESS = sum(promedio_horas_operacion_final)/len(promedio_horas_operacion_final)\n",
    "print(\"valor_promedio_horas_operacion_BESS Híbridas (Wind+BESS)\",np.round(valor_promedio_horas_operacion_BESS,decimals = 2),\"Hrs\")\n",
    "promedio_horas_operacion_final"
   ]
  },
  {
   "cell_type": "code",
   "execution_count": 46,
   "id": "e5c866cc",
   "metadata": {},
   "outputs": [],
   "source": [
    "df_grafica_horas_operacion = data_BESS_and_solar_filtrada_cap_informada[[\"Comuna\",\n",
    "                                                                        \"Número de Hrs almacenamiento\"]]"
   ]
  },
  {
   "cell_type": "code",
   "execution_count": 47,
   "id": "daae9ac9",
   "metadata": {},
   "outputs": [
    {
     "data": {
      "text/html": [
       "<div>\n",
       "<style scoped>\n",
       "    .dataframe tbody tr th:only-of-type {\n",
       "        vertical-align: middle;\n",
       "    }\n",
       "\n",
       "    .dataframe tbody tr th {\n",
       "        vertical-align: top;\n",
       "    }\n",
       "\n",
       "    .dataframe thead th {\n",
       "        text-align: right;\n",
       "    }\n",
       "</style>\n",
       "<table border=\"1\" class=\"dataframe\">\n",
       "  <thead>\n",
       "    <tr style=\"text-align: right;\">\n",
       "      <th></th>\n",
       "      <th>Comuna</th>\n",
       "      <th>Número de Hrs almacenamiento</th>\n",
       "    </tr>\n",
       "  </thead>\n",
       "  <tbody>\n",
       "    <tr>\n",
       "      <th>0</th>\n",
       "      <td>Taltal</td>\n",
       "      <td>6.00</td>\n",
       "    </tr>\n",
       "    <tr>\n",
       "      <th>1</th>\n",
       "      <td>La Higuera</td>\n",
       "      <td>4.77</td>\n",
       "    </tr>\n",
       "  </tbody>\n",
       "</table>\n",
       "</div>"
      ],
      "text/plain": [
       "       Comuna  Número de Hrs almacenamiento\n",
       "0      Taltal                          6.00\n",
       "1  La Higuera                          4.77"
      ]
     },
     "execution_count": 47,
     "metadata": {},
     "output_type": "execute_result"
    }
   ],
   "source": [
    "df_grafica_horas_operacion"
   ]
  },
  {
   "cell_type": "code",
   "execution_count": 48,
   "id": "b4a0d01f",
   "metadata": {},
   "outputs": [
    {
     "data": {
      "text/html": [
       "<div>\n",
       "<style scoped>\n",
       "    .dataframe tbody tr th:only-of-type {\n",
       "        vertical-align: middle;\n",
       "    }\n",
       "\n",
       "    .dataframe tbody tr th {\n",
       "        vertical-align: top;\n",
       "    }\n",
       "\n",
       "    .dataframe thead th {\n",
       "        text-align: right;\n",
       "    }\n",
       "</style>\n",
       "<table border=\"1\" class=\"dataframe\">\n",
       "  <thead>\n",
       "    <tr style=\"text-align: right;\">\n",
       "      <th></th>\n",
       "      <th>number of hours of storage/discharge</th>\n",
       "    </tr>\n",
       "    <tr>\n",
       "      <th>Comuna</th>\n",
       "      <th></th>\n",
       "    </tr>\n",
       "  </thead>\n",
       "  <tbody>\n",
       "    <tr>\n",
       "      <th>Taltal</th>\n",
       "      <td>6.00</td>\n",
       "    </tr>\n",
       "    <tr>\n",
       "      <th>La Higuera</th>\n",
       "      <td>4.77</td>\n",
       "    </tr>\n",
       "  </tbody>\n",
       "</table>\n",
       "</div>"
      ],
      "text/plain": [
       "            number of hours of storage/discharge\n",
       "Comuna                                          \n",
       "Taltal                                      6.00\n",
       "La Higuera                                  4.77"
      ]
     },
     "execution_count": 48,
     "metadata": {},
     "output_type": "execute_result"
    }
   ],
   "source": [
    "df_grafica_horas_operacion\n",
    "df_grafica_horas_operacion['number of hours of storage/discharge'] = promedio_horas_operacion_final\n",
    "df_grafica_horas_operacion\n",
    "dfi = df_grafica_horas_operacion[['Comuna','number of hours of storage/discharge']]\n",
    "dfi\n",
    "\n",
    "##dfi = df_grafica_horas_operacion.set_index('Región')\n",
    "#dfi\n",
    "dfi2 = dfi.set_index('Comuna')\n",
    "dfi2\n",
    "##mayor capacidad instalada: \n",
    "##dfi2 = df_grafica_horas_operacion.sort_values('Número de Hrs almacenamiento',ascending=False)\n",
    "##dfi2"
   ]
  },
  {
   "cell_type": "code",
   "execution_count": 49,
   "id": "bbf4fafa",
   "metadata": {
    "scrolled": true
   },
   "outputs": [
    {
     "data": {
      "application/vnd.plotly.v1+json": {
       "config": {
        "linkText": "Export to plot.ly",
        "plotlyServerURL": "https://plot.ly",
        "showLink": true
       },
       "data": [
        {
         "marker": {
          "color": "rgba(255, 153, 51, 0.6)",
          "line": {
           "color": "rgba(255, 153, 51, 1.0)",
           "width": 1
          }
         },
         "name": "number of hours of storage/discharge",
         "orientation": "v",
         "text": "",
         "type": "bar",
         "x": [
          "Taltal",
          "La Higuera"
         ],
         "y": [
          6,
          4.77
         ]
        }
       ],
       "layout": {
        "legend": {
         "bgcolor": "#FFFFFF",
         "font": {
          "color": "#4D5663"
         }
        },
        "paper_bgcolor": "#FFFFFF",
        "plot_bgcolor": "#FFFFFF",
        "template": {
         "data": {
          "bar": [
           {
            "error_x": {
             "color": "#2a3f5f"
            },
            "error_y": {
             "color": "#2a3f5f"
            },
            "marker": {
             "line": {
              "color": "#E5ECF6",
              "width": 0.5
             },
             "pattern": {
              "fillmode": "overlay",
              "size": 10,
              "solidity": 0.2
             }
            },
            "type": "bar"
           }
          ],
          "barpolar": [
           {
            "marker": {
             "line": {
              "color": "#E5ECF6",
              "width": 0.5
             },
             "pattern": {
              "fillmode": "overlay",
              "size": 10,
              "solidity": 0.2
             }
            },
            "type": "barpolar"
           }
          ],
          "carpet": [
           {
            "aaxis": {
             "endlinecolor": "#2a3f5f",
             "gridcolor": "white",
             "linecolor": "white",
             "minorgridcolor": "white",
             "startlinecolor": "#2a3f5f"
            },
            "baxis": {
             "endlinecolor": "#2a3f5f",
             "gridcolor": "white",
             "linecolor": "white",
             "minorgridcolor": "white",
             "startlinecolor": "#2a3f5f"
            },
            "type": "carpet"
           }
          ],
          "choropleth": [
           {
            "colorbar": {
             "outlinewidth": 0,
             "ticks": ""
            },
            "type": "choropleth"
           }
          ],
          "contour": [
           {
            "colorbar": {
             "outlinewidth": 0,
             "ticks": ""
            },
            "colorscale": [
             [
              0,
              "#0d0887"
             ],
             [
              0.1111111111111111,
              "#46039f"
             ],
             [
              0.2222222222222222,
              "#7201a8"
             ],
             [
              0.3333333333333333,
              "#9c179e"
             ],
             [
              0.4444444444444444,
              "#bd3786"
             ],
             [
              0.5555555555555556,
              "#d8576b"
             ],
             [
              0.6666666666666666,
              "#ed7953"
             ],
             [
              0.7777777777777778,
              "#fb9f3a"
             ],
             [
              0.8888888888888888,
              "#fdca26"
             ],
             [
              1,
              "#f0f921"
             ]
            ],
            "type": "contour"
           }
          ],
          "contourcarpet": [
           {
            "colorbar": {
             "outlinewidth": 0,
             "ticks": ""
            },
            "type": "contourcarpet"
           }
          ],
          "heatmap": [
           {
            "colorbar": {
             "outlinewidth": 0,
             "ticks": ""
            },
            "colorscale": [
             [
              0,
              "#0d0887"
             ],
             [
              0.1111111111111111,
              "#46039f"
             ],
             [
              0.2222222222222222,
              "#7201a8"
             ],
             [
              0.3333333333333333,
              "#9c179e"
             ],
             [
              0.4444444444444444,
              "#bd3786"
             ],
             [
              0.5555555555555556,
              "#d8576b"
             ],
             [
              0.6666666666666666,
              "#ed7953"
             ],
             [
              0.7777777777777778,
              "#fb9f3a"
             ],
             [
              0.8888888888888888,
              "#fdca26"
             ],
             [
              1,
              "#f0f921"
             ]
            ],
            "type": "heatmap"
           }
          ],
          "heatmapgl": [
           {
            "colorbar": {
             "outlinewidth": 0,
             "ticks": ""
            },
            "colorscale": [
             [
              0,
              "#0d0887"
             ],
             [
              0.1111111111111111,
              "#46039f"
             ],
             [
              0.2222222222222222,
              "#7201a8"
             ],
             [
              0.3333333333333333,
              "#9c179e"
             ],
             [
              0.4444444444444444,
              "#bd3786"
             ],
             [
              0.5555555555555556,
              "#d8576b"
             ],
             [
              0.6666666666666666,
              "#ed7953"
             ],
             [
              0.7777777777777778,
              "#fb9f3a"
             ],
             [
              0.8888888888888888,
              "#fdca26"
             ],
             [
              1,
              "#f0f921"
             ]
            ],
            "type": "heatmapgl"
           }
          ],
          "histogram": [
           {
            "marker": {
             "pattern": {
              "fillmode": "overlay",
              "size": 10,
              "solidity": 0.2
             }
            },
            "type": "histogram"
           }
          ],
          "histogram2d": [
           {
            "colorbar": {
             "outlinewidth": 0,
             "ticks": ""
            },
            "colorscale": [
             [
              0,
              "#0d0887"
             ],
             [
              0.1111111111111111,
              "#46039f"
             ],
             [
              0.2222222222222222,
              "#7201a8"
             ],
             [
              0.3333333333333333,
              "#9c179e"
             ],
             [
              0.4444444444444444,
              "#bd3786"
             ],
             [
              0.5555555555555556,
              "#d8576b"
             ],
             [
              0.6666666666666666,
              "#ed7953"
             ],
             [
              0.7777777777777778,
              "#fb9f3a"
             ],
             [
              0.8888888888888888,
              "#fdca26"
             ],
             [
              1,
              "#f0f921"
             ]
            ],
            "type": "histogram2d"
           }
          ],
          "histogram2dcontour": [
           {
            "colorbar": {
             "outlinewidth": 0,
             "ticks": ""
            },
            "colorscale": [
             [
              0,
              "#0d0887"
             ],
             [
              0.1111111111111111,
              "#46039f"
             ],
             [
              0.2222222222222222,
              "#7201a8"
             ],
             [
              0.3333333333333333,
              "#9c179e"
             ],
             [
              0.4444444444444444,
              "#bd3786"
             ],
             [
              0.5555555555555556,
              "#d8576b"
             ],
             [
              0.6666666666666666,
              "#ed7953"
             ],
             [
              0.7777777777777778,
              "#fb9f3a"
             ],
             [
              0.8888888888888888,
              "#fdca26"
             ],
             [
              1,
              "#f0f921"
             ]
            ],
            "type": "histogram2dcontour"
           }
          ],
          "mesh3d": [
           {
            "colorbar": {
             "outlinewidth": 0,
             "ticks": ""
            },
            "type": "mesh3d"
           }
          ],
          "parcoords": [
           {
            "line": {
             "colorbar": {
              "outlinewidth": 0,
              "ticks": ""
             }
            },
            "type": "parcoords"
           }
          ],
          "pie": [
           {
            "automargin": true,
            "type": "pie"
           }
          ],
          "scatter": [
           {
            "fillpattern": {
             "fillmode": "overlay",
             "size": 10,
             "solidity": 0.2
            },
            "type": "scatter"
           }
          ],
          "scatter3d": [
           {
            "line": {
             "colorbar": {
              "outlinewidth": 0,
              "ticks": ""
             }
            },
            "marker": {
             "colorbar": {
              "outlinewidth": 0,
              "ticks": ""
             }
            },
            "type": "scatter3d"
           }
          ],
          "scattercarpet": [
           {
            "marker": {
             "colorbar": {
              "outlinewidth": 0,
              "ticks": ""
             }
            },
            "type": "scattercarpet"
           }
          ],
          "scattergeo": [
           {
            "marker": {
             "colorbar": {
              "outlinewidth": 0,
              "ticks": ""
             }
            },
            "type": "scattergeo"
           }
          ],
          "scattergl": [
           {
            "marker": {
             "colorbar": {
              "outlinewidth": 0,
              "ticks": ""
             }
            },
            "type": "scattergl"
           }
          ],
          "scattermapbox": [
           {
            "marker": {
             "colorbar": {
              "outlinewidth": 0,
              "ticks": ""
             }
            },
            "type": "scattermapbox"
           }
          ],
          "scatterpolar": [
           {
            "marker": {
             "colorbar": {
              "outlinewidth": 0,
              "ticks": ""
             }
            },
            "type": "scatterpolar"
           }
          ],
          "scatterpolargl": [
           {
            "marker": {
             "colorbar": {
              "outlinewidth": 0,
              "ticks": ""
             }
            },
            "type": "scatterpolargl"
           }
          ],
          "scatterternary": [
           {
            "marker": {
             "colorbar": {
              "outlinewidth": 0,
              "ticks": ""
             }
            },
            "type": "scatterternary"
           }
          ],
          "surface": [
           {
            "colorbar": {
             "outlinewidth": 0,
             "ticks": ""
            },
            "colorscale": [
             [
              0,
              "#0d0887"
             ],
             [
              0.1111111111111111,
              "#46039f"
             ],
             [
              0.2222222222222222,
              "#7201a8"
             ],
             [
              0.3333333333333333,
              "#9c179e"
             ],
             [
              0.4444444444444444,
              "#bd3786"
             ],
             [
              0.5555555555555556,
              "#d8576b"
             ],
             [
              0.6666666666666666,
              "#ed7953"
             ],
             [
              0.7777777777777778,
              "#fb9f3a"
             ],
             [
              0.8888888888888888,
              "#fdca26"
             ],
             [
              1,
              "#f0f921"
             ]
            ],
            "type": "surface"
           }
          ],
          "table": [
           {
            "cells": {
             "fill": {
              "color": "#EBF0F8"
             },
             "line": {
              "color": "white"
             }
            },
            "header": {
             "fill": {
              "color": "#C8D4E3"
             },
             "line": {
              "color": "white"
             }
            },
            "type": "table"
           }
          ]
         },
         "layout": {
          "annotationdefaults": {
           "arrowcolor": "#2a3f5f",
           "arrowhead": 0,
           "arrowwidth": 1
          },
          "autotypenumbers": "strict",
          "coloraxis": {
           "colorbar": {
            "outlinewidth": 0,
            "ticks": ""
           }
          },
          "colorscale": {
           "diverging": [
            [
             0,
             "#8e0152"
            ],
            [
             0.1,
             "#c51b7d"
            ],
            [
             0.2,
             "#de77ae"
            ],
            [
             0.3,
             "#f1b6da"
            ],
            [
             0.4,
             "#fde0ef"
            ],
            [
             0.5,
             "#f7f7f7"
            ],
            [
             0.6,
             "#e6f5d0"
            ],
            [
             0.7,
             "#b8e186"
            ],
            [
             0.8,
             "#7fbc41"
            ],
            [
             0.9,
             "#4d9221"
            ],
            [
             1,
             "#276419"
            ]
           ],
           "sequential": [
            [
             0,
             "#0d0887"
            ],
            [
             0.1111111111111111,
             "#46039f"
            ],
            [
             0.2222222222222222,
             "#7201a8"
            ],
            [
             0.3333333333333333,
             "#9c179e"
            ],
            [
             0.4444444444444444,
             "#bd3786"
            ],
            [
             0.5555555555555556,
             "#d8576b"
            ],
            [
             0.6666666666666666,
             "#ed7953"
            ],
            [
             0.7777777777777778,
             "#fb9f3a"
            ],
            [
             0.8888888888888888,
             "#fdca26"
            ],
            [
             1,
             "#f0f921"
            ]
           ],
           "sequentialminus": [
            [
             0,
             "#0d0887"
            ],
            [
             0.1111111111111111,
             "#46039f"
            ],
            [
             0.2222222222222222,
             "#7201a8"
            ],
            [
             0.3333333333333333,
             "#9c179e"
            ],
            [
             0.4444444444444444,
             "#bd3786"
            ],
            [
             0.5555555555555556,
             "#d8576b"
            ],
            [
             0.6666666666666666,
             "#ed7953"
            ],
            [
             0.7777777777777778,
             "#fb9f3a"
            ],
            [
             0.8888888888888888,
             "#fdca26"
            ],
            [
             1,
             "#f0f921"
            ]
           ]
          },
          "colorway": [
           "#636efa",
           "#EF553B",
           "#00cc96",
           "#ab63fa",
           "#FFA15A",
           "#19d3f3",
           "#FF6692",
           "#B6E880",
           "#FF97FF",
           "#FECB52"
          ],
          "font": {
           "color": "#2a3f5f"
          },
          "geo": {
           "bgcolor": "white",
           "lakecolor": "white",
           "landcolor": "#E5ECF6",
           "showlakes": true,
           "showland": true,
           "subunitcolor": "white"
          },
          "hoverlabel": {
           "align": "left"
          },
          "hovermode": "closest",
          "mapbox": {
           "style": "light"
          },
          "paper_bgcolor": "white",
          "plot_bgcolor": "#E5ECF6",
          "polar": {
           "angularaxis": {
            "gridcolor": "white",
            "linecolor": "white",
            "ticks": ""
           },
           "bgcolor": "#E5ECF6",
           "radialaxis": {
            "gridcolor": "white",
            "linecolor": "white",
            "ticks": ""
           }
          },
          "scene": {
           "xaxis": {
            "backgroundcolor": "#E5ECF6",
            "gridcolor": "white",
            "gridwidth": 2,
            "linecolor": "white",
            "showbackground": true,
            "ticks": "",
            "zerolinecolor": "white"
           },
           "yaxis": {
            "backgroundcolor": "#E5ECF6",
            "gridcolor": "white",
            "gridwidth": 2,
            "linecolor": "white",
            "showbackground": true,
            "ticks": "",
            "zerolinecolor": "white"
           },
           "zaxis": {
            "backgroundcolor": "#E5ECF6",
            "gridcolor": "white",
            "gridwidth": 2,
            "linecolor": "white",
            "showbackground": true,
            "ticks": "",
            "zerolinecolor": "white"
           }
          },
          "shapedefaults": {
           "line": {
            "color": "#2a3f5f"
           }
          },
          "ternary": {
           "aaxis": {
            "gridcolor": "white",
            "linecolor": "white",
            "ticks": ""
           },
           "baxis": {
            "gridcolor": "white",
            "linecolor": "white",
            "ticks": ""
           },
           "bgcolor": "#E5ECF6",
           "caxis": {
            "gridcolor": "white",
            "linecolor": "white",
            "ticks": ""
           }
          },
          "title": {
           "x": 0.05
          },
          "xaxis": {
           "automargin": true,
           "gridcolor": "white",
           "linecolor": "white",
           "ticks": "",
           "title": {
            "standoff": 15
           },
           "zerolinecolor": "white",
           "zerolinewidth": 2
          },
          "yaxis": {
           "automargin": true,
           "gridcolor": "white",
           "linecolor": "white",
           "ticks": "",
           "title": {
            "standoff": 15
           },
           "zerolinecolor": "white",
           "zerolinewidth": 2
          }
         }
        },
        "title": {
         "font": {
          "color": "#4D5663"
         },
         "text": "Storage time behavior by Commune Proyect BESS+Wind"
        },
        "xaxis": {
         "gridcolor": "#E1E5ED",
         "showgrid": true,
         "tickfont": {
          "color": "#4D5663"
         },
         "title": {
          "font": {
           "color": "#4D5663"
          },
          "text": "commune"
         },
         "zerolinecolor": "#E1E5ED"
        },
        "yaxis": {
         "gridcolor": "#E1E5ED",
         "showgrid": true,
         "tickfont": {
          "color": "#4D5663"
         },
         "title": {
          "font": {
           "color": "#4D5663"
          },
          "text": "Number of Hrs storage"
         },
         "zerolinecolor": "#E1E5ED"
        }
       }
      },
      "text/html": [
       "<div>                            <div id=\"938a731b-1a00-4564-8d24-156c4a437fc6\" class=\"plotly-graph-div\" style=\"height:525px; width:100%;\"></div>            <script type=\"text/javascript\">                require([\"plotly\"], function(Plotly) {                    window.PLOTLYENV=window.PLOTLYENV || {};\n",
       "                    window.PLOTLYENV.BASE_URL='https://plot.ly';                                    if (document.getElementById(\"938a731b-1a00-4564-8d24-156c4a437fc6\")) {                    Plotly.newPlot(                        \"938a731b-1a00-4564-8d24-156c4a437fc6\",                        [{\"marker\":{\"color\":\"rgba(255, 153, 51, 0.6)\",\"line\":{\"color\":\"rgba(255, 153, 51, 1.0)\",\"width\":1}},\"name\":\"number of hours of storage/discharge\",\"orientation\":\"v\",\"text\":\"\",\"x\":[\"Taltal\",\"La Higuera\"],\"y\":[6.0,4.77],\"type\":\"bar\"}],                        {\"legend\":{\"bgcolor\":\"#FFFFFF\",\"font\":{\"color\":\"#4D5663\"}},\"paper_bgcolor\":\"#FFFFFF\",\"plot_bgcolor\":\"#FFFFFF\",\"template\":{\"data\":{\"barpolar\":[{\"marker\":{\"line\":{\"color\":\"#E5ECF6\",\"width\":0.5},\"pattern\":{\"fillmode\":\"overlay\",\"size\":10,\"solidity\":0.2}},\"type\":\"barpolar\"}],\"bar\":[{\"error_x\":{\"color\":\"#2a3f5f\"},\"error_y\":{\"color\":\"#2a3f5f\"},\"marker\":{\"line\":{\"color\":\"#E5ECF6\",\"width\":0.5},\"pattern\":{\"fillmode\":\"overlay\",\"size\":10,\"solidity\":0.2}},\"type\":\"bar\"}],\"carpet\":[{\"aaxis\":{\"endlinecolor\":\"#2a3f5f\",\"gridcolor\":\"white\",\"linecolor\":\"white\",\"minorgridcolor\":\"white\",\"startlinecolor\":\"#2a3f5f\"},\"baxis\":{\"endlinecolor\":\"#2a3f5f\",\"gridcolor\":\"white\",\"linecolor\":\"white\",\"minorgridcolor\":\"white\",\"startlinecolor\":\"#2a3f5f\"},\"type\":\"carpet\"}],\"choropleth\":[{\"colorbar\":{\"outlinewidth\":0,\"ticks\":\"\"},\"type\":\"choropleth\"}],\"contourcarpet\":[{\"colorbar\":{\"outlinewidth\":0,\"ticks\":\"\"},\"type\":\"contourcarpet\"}],\"contour\":[{\"colorbar\":{\"outlinewidth\":0,\"ticks\":\"\"},\"colorscale\":[[0.0,\"#0d0887\"],[0.1111111111111111,\"#46039f\"],[0.2222222222222222,\"#7201a8\"],[0.3333333333333333,\"#9c179e\"],[0.4444444444444444,\"#bd3786\"],[0.5555555555555556,\"#d8576b\"],[0.6666666666666666,\"#ed7953\"],[0.7777777777777778,\"#fb9f3a\"],[0.8888888888888888,\"#fdca26\"],[1.0,\"#f0f921\"]],\"type\":\"contour\"}],\"heatmapgl\":[{\"colorbar\":{\"outlinewidth\":0,\"ticks\":\"\"},\"colorscale\":[[0.0,\"#0d0887\"],[0.1111111111111111,\"#46039f\"],[0.2222222222222222,\"#7201a8\"],[0.3333333333333333,\"#9c179e\"],[0.4444444444444444,\"#bd3786\"],[0.5555555555555556,\"#d8576b\"],[0.6666666666666666,\"#ed7953\"],[0.7777777777777778,\"#fb9f3a\"],[0.8888888888888888,\"#fdca26\"],[1.0,\"#f0f921\"]],\"type\":\"heatmapgl\"}],\"heatmap\":[{\"colorbar\":{\"outlinewidth\":0,\"ticks\":\"\"},\"colorscale\":[[0.0,\"#0d0887\"],[0.1111111111111111,\"#46039f\"],[0.2222222222222222,\"#7201a8\"],[0.3333333333333333,\"#9c179e\"],[0.4444444444444444,\"#bd3786\"],[0.5555555555555556,\"#d8576b\"],[0.6666666666666666,\"#ed7953\"],[0.7777777777777778,\"#fb9f3a\"],[0.8888888888888888,\"#fdca26\"],[1.0,\"#f0f921\"]],\"type\":\"heatmap\"}],\"histogram2dcontour\":[{\"colorbar\":{\"outlinewidth\":0,\"ticks\":\"\"},\"colorscale\":[[0.0,\"#0d0887\"],[0.1111111111111111,\"#46039f\"],[0.2222222222222222,\"#7201a8\"],[0.3333333333333333,\"#9c179e\"],[0.4444444444444444,\"#bd3786\"],[0.5555555555555556,\"#d8576b\"],[0.6666666666666666,\"#ed7953\"],[0.7777777777777778,\"#fb9f3a\"],[0.8888888888888888,\"#fdca26\"],[1.0,\"#f0f921\"]],\"type\":\"histogram2dcontour\"}],\"histogram2d\":[{\"colorbar\":{\"outlinewidth\":0,\"ticks\":\"\"},\"colorscale\":[[0.0,\"#0d0887\"],[0.1111111111111111,\"#46039f\"],[0.2222222222222222,\"#7201a8\"],[0.3333333333333333,\"#9c179e\"],[0.4444444444444444,\"#bd3786\"],[0.5555555555555556,\"#d8576b\"],[0.6666666666666666,\"#ed7953\"],[0.7777777777777778,\"#fb9f3a\"],[0.8888888888888888,\"#fdca26\"],[1.0,\"#f0f921\"]],\"type\":\"histogram2d\"}],\"histogram\":[{\"marker\":{\"pattern\":{\"fillmode\":\"overlay\",\"size\":10,\"solidity\":0.2}},\"type\":\"histogram\"}],\"mesh3d\":[{\"colorbar\":{\"outlinewidth\":0,\"ticks\":\"\"},\"type\":\"mesh3d\"}],\"parcoords\":[{\"line\":{\"colorbar\":{\"outlinewidth\":0,\"ticks\":\"\"}},\"type\":\"parcoords\"}],\"pie\":[{\"automargin\":true,\"type\":\"pie\"}],\"scatter3d\":[{\"line\":{\"colorbar\":{\"outlinewidth\":0,\"ticks\":\"\"}},\"marker\":{\"colorbar\":{\"outlinewidth\":0,\"ticks\":\"\"}},\"type\":\"scatter3d\"}],\"scattercarpet\":[{\"marker\":{\"colorbar\":{\"outlinewidth\":0,\"ticks\":\"\"}},\"type\":\"scattercarpet\"}],\"scattergeo\":[{\"marker\":{\"colorbar\":{\"outlinewidth\":0,\"ticks\":\"\"}},\"type\":\"scattergeo\"}],\"scattergl\":[{\"marker\":{\"colorbar\":{\"outlinewidth\":0,\"ticks\":\"\"}},\"type\":\"scattergl\"}],\"scattermapbox\":[{\"marker\":{\"colorbar\":{\"outlinewidth\":0,\"ticks\":\"\"}},\"type\":\"scattermapbox\"}],\"scatterpolargl\":[{\"marker\":{\"colorbar\":{\"outlinewidth\":0,\"ticks\":\"\"}},\"type\":\"scatterpolargl\"}],\"scatterpolar\":[{\"marker\":{\"colorbar\":{\"outlinewidth\":0,\"ticks\":\"\"}},\"type\":\"scatterpolar\"}],\"scatter\":[{\"fillpattern\":{\"fillmode\":\"overlay\",\"size\":10,\"solidity\":0.2},\"type\":\"scatter\"}],\"scatterternary\":[{\"marker\":{\"colorbar\":{\"outlinewidth\":0,\"ticks\":\"\"}},\"type\":\"scatterternary\"}],\"surface\":[{\"colorbar\":{\"outlinewidth\":0,\"ticks\":\"\"},\"colorscale\":[[0.0,\"#0d0887\"],[0.1111111111111111,\"#46039f\"],[0.2222222222222222,\"#7201a8\"],[0.3333333333333333,\"#9c179e\"],[0.4444444444444444,\"#bd3786\"],[0.5555555555555556,\"#d8576b\"],[0.6666666666666666,\"#ed7953\"],[0.7777777777777778,\"#fb9f3a\"],[0.8888888888888888,\"#fdca26\"],[1.0,\"#f0f921\"]],\"type\":\"surface\"}],\"table\":[{\"cells\":{\"fill\":{\"color\":\"#EBF0F8\"},\"line\":{\"color\":\"white\"}},\"header\":{\"fill\":{\"color\":\"#C8D4E3\"},\"line\":{\"color\":\"white\"}},\"type\":\"table\"}]},\"layout\":{\"annotationdefaults\":{\"arrowcolor\":\"#2a3f5f\",\"arrowhead\":0,\"arrowwidth\":1},\"autotypenumbers\":\"strict\",\"coloraxis\":{\"colorbar\":{\"outlinewidth\":0,\"ticks\":\"\"}},\"colorscale\":{\"diverging\":[[0,\"#8e0152\"],[0.1,\"#c51b7d\"],[0.2,\"#de77ae\"],[0.3,\"#f1b6da\"],[0.4,\"#fde0ef\"],[0.5,\"#f7f7f7\"],[0.6,\"#e6f5d0\"],[0.7,\"#b8e186\"],[0.8,\"#7fbc41\"],[0.9,\"#4d9221\"],[1,\"#276419\"]],\"sequential\":[[0.0,\"#0d0887\"],[0.1111111111111111,\"#46039f\"],[0.2222222222222222,\"#7201a8\"],[0.3333333333333333,\"#9c179e\"],[0.4444444444444444,\"#bd3786\"],[0.5555555555555556,\"#d8576b\"],[0.6666666666666666,\"#ed7953\"],[0.7777777777777778,\"#fb9f3a\"],[0.8888888888888888,\"#fdca26\"],[1.0,\"#f0f921\"]],\"sequentialminus\":[[0.0,\"#0d0887\"],[0.1111111111111111,\"#46039f\"],[0.2222222222222222,\"#7201a8\"],[0.3333333333333333,\"#9c179e\"],[0.4444444444444444,\"#bd3786\"],[0.5555555555555556,\"#d8576b\"],[0.6666666666666666,\"#ed7953\"],[0.7777777777777778,\"#fb9f3a\"],[0.8888888888888888,\"#fdca26\"],[1.0,\"#f0f921\"]]},\"colorway\":[\"#636efa\",\"#EF553B\",\"#00cc96\",\"#ab63fa\",\"#FFA15A\",\"#19d3f3\",\"#FF6692\",\"#B6E880\",\"#FF97FF\",\"#FECB52\"],\"font\":{\"color\":\"#2a3f5f\"},\"geo\":{\"bgcolor\":\"white\",\"lakecolor\":\"white\",\"landcolor\":\"#E5ECF6\",\"showlakes\":true,\"showland\":true,\"subunitcolor\":\"white\"},\"hoverlabel\":{\"align\":\"left\"},\"hovermode\":\"closest\",\"mapbox\":{\"style\":\"light\"},\"paper_bgcolor\":\"white\",\"plot_bgcolor\":\"#E5ECF6\",\"polar\":{\"angularaxis\":{\"gridcolor\":\"white\",\"linecolor\":\"white\",\"ticks\":\"\"},\"bgcolor\":\"#E5ECF6\",\"radialaxis\":{\"gridcolor\":\"white\",\"linecolor\":\"white\",\"ticks\":\"\"}},\"scene\":{\"xaxis\":{\"backgroundcolor\":\"#E5ECF6\",\"gridcolor\":\"white\",\"gridwidth\":2,\"linecolor\":\"white\",\"showbackground\":true,\"ticks\":\"\",\"zerolinecolor\":\"white\"},\"yaxis\":{\"backgroundcolor\":\"#E5ECF6\",\"gridcolor\":\"white\",\"gridwidth\":2,\"linecolor\":\"white\",\"showbackground\":true,\"ticks\":\"\",\"zerolinecolor\":\"white\"},\"zaxis\":{\"backgroundcolor\":\"#E5ECF6\",\"gridcolor\":\"white\",\"gridwidth\":2,\"linecolor\":\"white\",\"showbackground\":true,\"ticks\":\"\",\"zerolinecolor\":\"white\"}},\"shapedefaults\":{\"line\":{\"color\":\"#2a3f5f\"}},\"ternary\":{\"aaxis\":{\"gridcolor\":\"white\",\"linecolor\":\"white\",\"ticks\":\"\"},\"baxis\":{\"gridcolor\":\"white\",\"linecolor\":\"white\",\"ticks\":\"\"},\"bgcolor\":\"#E5ECF6\",\"caxis\":{\"gridcolor\":\"white\",\"linecolor\":\"white\",\"ticks\":\"\"}},\"title\":{\"x\":0.05},\"xaxis\":{\"automargin\":true,\"gridcolor\":\"white\",\"linecolor\":\"white\",\"ticks\":\"\",\"title\":{\"standoff\":15},\"zerolinecolor\":\"white\",\"zerolinewidth\":2},\"yaxis\":{\"automargin\":true,\"gridcolor\":\"white\",\"linecolor\":\"white\",\"ticks\":\"\",\"title\":{\"standoff\":15},\"zerolinecolor\":\"white\",\"zerolinewidth\":2}}},\"title\":{\"font\":{\"color\":\"#4D5663\"},\"text\":\"Storage time behavior by Commune Proyect BESS+Wind\"},\"xaxis\":{\"gridcolor\":\"#E1E5ED\",\"showgrid\":true,\"tickfont\":{\"color\":\"#4D5663\"},\"title\":{\"font\":{\"color\":\"#4D5663\"},\"text\":\"commune\"},\"zerolinecolor\":\"#E1E5ED\"},\"yaxis\":{\"gridcolor\":\"#E1E5ED\",\"showgrid\":true,\"tickfont\":{\"color\":\"#4D5663\"},\"title\":{\"font\":{\"color\":\"#4D5663\"},\"text\":\"Number of Hrs storage\"},\"zerolinecolor\":\"#E1E5ED\"}},                        {\"showLink\": true, \"linkText\": \"Export to plot.ly\", \"plotlyServerURL\": \"https://plot.ly\", \"responsive\": true}                    ).then(function(){\n",
       "                            \n",
       "var gd = document.getElementById('938a731b-1a00-4564-8d24-156c4a437fc6');\n",
       "var x = new MutationObserver(function (mutations, observer) {{\n",
       "        var display = window.getComputedStyle(gd).display;\n",
       "        if (!display || display === 'none') {{\n",
       "            console.log([gd, 'removed!']);\n",
       "            Plotly.purge(gd);\n",
       "            observer.disconnect();\n",
       "        }}\n",
       "}});\n",
       "\n",
       "// Listen for the removal of the full notebook cells\n",
       "var notebookContainer = gd.closest('#notebook-container');\n",
       "if (notebookContainer) {{\n",
       "    x.observe(notebookContainer, {childList: true});\n",
       "}}\n",
       "\n",
       "// Listen for the clearing of the current output cell\n",
       "var outputEl = gd.closest('.output');\n",
       "if (outputEl) {{\n",
       "    x.observe(outputEl, {childList: true});\n",
       "}}\n",
       "\n",
       "                        })                };                });            </script>        </div>"
      ]
     },
     "metadata": {},
     "output_type": "display_data"
    }
   ],
   "source": [
    "dfi2.iplot(kind = 'bar',#x = df_grafica_horas_operacion['Región'], \n",
    "                       #         y = df_grafica_horas_operacion['number of hours of storage/discharge'],        \n",
    "           xTitle = 'commune',\n",
    "             yTitle = \"Number of Hrs storage\",title = 'Storage time behavior by Commune Proyect BESS+Wind')#,\n",
    "        #) "
   ]
  },
  {
   "cell_type": "code",
   "execution_count": 50,
   "id": "3e3f91db",
   "metadata": {},
   "outputs": [
    {
     "data": {
      "text/plain": [
       "Región       Comuna        Punto de Conexión                                  \n",
       "Antofagasta  Taltal        Línea Lomas de Taltal - Parinas 1x220 kV               1\n",
       "Atacama      Vallenar      S/E Don Héctor 220kV                                   1\n",
       "Coquimbo     La Higuera    Deriv. Línea Punta Colorada - Tres Quebradas 220 kV    1\n",
       "                           S/E Punta Colorada 220 kV                              1\n",
       "             Ovalle        Linea 1 x 220 kV El Arrayán - Don Goyo                 1\n",
       "                           S/E Don Goyo 220 kV                                    1\n",
       "Valparaiso   Viña del Mar  S/E Agua Santa 110                                     1\n",
       "Name: Proyecto, dtype: int64"
      ]
     },
     "execution_count": 50,
     "metadata": {},
     "output_type": "execute_result"
    }
   ],
   "source": [
    "puntos_conexion = data_BESS_and_solar_filtrada.groupby([\"Región\",\"Comuna\",\"Punto de Conexión\"])[\"Proyecto\"].count()\n",
    "puntos_conexion"
   ]
  },
  {
   "cell_type": "code",
   "execution_count": 55,
   "id": "b35fc67b",
   "metadata": {},
   "outputs": [],
   "source": [
    "#Extra:\n",
    "data_BESS_and_solar\n",
    "#Filtro de los datos que son informados (BESS+Solar:)\n",
    "df_BESS_and_solar_filtrada_cap_informada = data_BESS_and_solar.loc[data_BESS_and_solar[\"Capacidad BESS (MW)\"]> 0 ]\n",
    "df_BESS_and_solar_filtrada_cap_informada\n",
    "\n",
    "guarda_df_data_BESS_and_solar_filtrada = df_BESS_and_solar_filtrada_cap_informada.to_csv(\"Grid_and_zero_csv/output_data_BESS_and_wind_filtrada.csv\")\n",
    "guarda_df_data_BESS_and_solar_filtrada"
   ]
  }
 ],
 "metadata": {
  "kernelspec": {
   "display_name": "Python 3",
   "language": "python",
   "name": "python3"
  },
  "language_info": {
   "codemirror_mode": {
    "name": "ipython",
    "version": 3
   },
   "file_extension": ".py",
   "mimetype": "text/x-python",
   "name": "python",
   "nbconvert_exporter": "python",
   "pygments_lexer": "ipython3",
   "version": "3.8.8"
  }
 },
 "nbformat": 4,
 "nbformat_minor": 5
}
